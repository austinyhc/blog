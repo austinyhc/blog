{
  "nbformat": 4,
  "nbformat_minor": 0,
  "metadata": {
    "colab": {
      "name": "jane_street_market_prediction.ipynb",
      "provenance": []
    },
    "kernelspec": {
      "display_name": "Python 3",
      "language": "python",
      "name": "python3"
    },
    "language_info": {
      "codemirror_mode": {
        "name": "ipython",
        "version": 3
      },
      "file_extension": ".py",
      "mimetype": "text/x-python",
      "name": "python",
      "nbconvert_exporter": "python",
      "pygments_lexer": "ipython3",
      "version": "3.8.2"
    },
    "accelerator": "GPU"
  },
  "cells": [
    {
      "cell_type": "markdown",
      "metadata": {
        "id": "fJ-F1VMOcltK"
      },
      "source": [
        "# Jane Street Market Prediction \n",
        "> Buy low, sell high. It sounds so easy….\n",
        "\n",
        "- toc: true\n",
        "- badges: true\n",
        "- author: Austin Chen\n",
        "- categories: [time series,stock]"
      ]
    },
    {
      "cell_type": "code",
      "metadata": {
        "colab": {
          "base_uri": "https://localhost:8080/"
        },
        "id": "NjtrZ9nvkRg-",
        "outputId": "bd153e2b-62b0-4970-e87a-3dae657e98c1"
      },
      "source": [
        "#hide\n",
        "\n",
        "%%writefile conditional_cell_extension.py\n",
        "def run_if(line, cell=None):\n",
        "    '''Execute current line/cell if line evaluates to True.'''\n",
        "    if not eval(line):\n",
        "        return\n",
        "    get_ipython().ex(cell)\n",
        "\n",
        "def load_ipython_extension(shell):\n",
        "    '''Registers the run_if magic when the extension loads.'''\n",
        "    shell.register_magic_function(run_if, 'line_cell')\n",
        "\n",
        "def unload_ipython_extension(shell):\n",
        "    '''Unregisters the run_if magic when the extension unloads.'''\n",
        "    del shell.magics_manager.magics['cell']['run_if']"
      ],
      "execution_count": 1,
      "outputs": [
        {
          "output_type": "stream",
          "text": [
            "Overwriting conditional_cell_extension.py\n"
          ],
          "name": "stdout"
        }
      ]
    },
    {
      "cell_type": "code",
      "metadata": {
        "id": "9Z54FNfMkWuZ"
      },
      "source": [
        "#hide\n",
        "%reload_ext conditional_cell_extension"
      ],
      "execution_count": 2,
      "outputs": []
    },
    {
      "cell_type": "markdown",
      "metadata": {
        "id": "UkShraJ1gmU4"
      },
      "source": [
        "## Dependencies"
      ]
    },
    {
      "cell_type": "code",
      "metadata": {
        "id": "at15lXY1gwJT"
      },
      "source": [
        "#hide\n",
        "!pip install dabl > /dev/null\n",
        "!pip install datatable > /dev/null\n",
        "!pip install keras-tuner > /dev/null"
      ],
      "execution_count": 3,
      "outputs": []
    },
    {
      "cell_type": "code",
      "metadata": {
        "colab": {
          "base_uri": "https://localhost:8080/"
        },
        "id": "zTR47QX7d2OS",
        "outputId": "3212c923-7912-4fda-f13c-5ead86284098"
      },
      "source": [
        "#collapse-hide\n",
        "import numpy as np\n",
        "import pandas as pd\n",
        "import seaborn as sns\n",
        "import albumentations as A\n",
        "import matplotlib.pyplot as plt\n",
        "import os, gc, cv2, random, warnings\n",
        "import re, math, sys, json, pprint, pdb\n",
        "\n",
        "import tensorflow as tf\n",
        "from tensorflow.keras import backend as K\n",
        "import tensorflow_hub as hub\n",
        "\n",
        "from sklearn.model_selection import train_test_split\n",
        "\n",
        "import dabl\n",
        "import datatable as dt\n",
        "import kerastuner as kt\n",
        "\n",
        "warnings.simplefilter('ignore')\n",
        "print(f\"Using TensorFlow v{tf.__version__}\")"
      ],
      "execution_count": 4,
      "outputs": [
        {
          "output_type": "stream",
          "text": [
            "Using TensorFlow v2.4.0\n"
          ],
          "name": "stdout"
        }
      ]
    },
    {
      "cell_type": "code",
      "metadata": {
        "cellView": "form",
        "colab": {
          "base_uri": "https://localhost:8080/"
        },
        "id": "XGiTrV67XLtQ",
        "outputId": "89f72d9b-768d-4f28-a322-82bf7d00987b"
      },
      "source": [
        "#hide\n",
        "#@title Accelerator { run: \"auto\" }\n",
        "DEVICE = 'GPU' #@param [\"None\", \"'GPU'\", \"'TPU'\"] {type:\"raw\", allow-input: true}\n",
        "\n",
        "if DEVICE == \"TPU\":\n",
        "    print(\"connecting to TPU...\")\n",
        "    try:\n",
        "        tpu = tf.distribute.cluster_resolver.TPUClusterResolver()\n",
        "        print('Running on TPU ', tpu.master())\n",
        "    except ValueError:\n",
        "        print(\"Could not connect to TPU\")\n",
        "        tpu = None\n",
        "\n",
        "    if tpu:\n",
        "        try:\n",
        "            print(\"initializing  TPU ...\")\n",
        "            tf.config.experimental_connect_to_cluster(tpu)\n",
        "            tf.tpu.experimental.initialize_tpu_system(tpu)\n",
        "            strategy = tf.distribute.experimental.TPUStrategy(tpu)\n",
        "            print(\"TPU initialized\")\n",
        "        except _:\n",
        "            print(\"failed to initialize TPU\")\n",
        "    else:\n",
        "        DEVICE = \"GPU\"\n",
        "\n",
        "if DEVICE != \"TPU\":\n",
        "    print(\"Using default strategy for CPU and single GPU\")\n",
        "    strategy = tf.distribute.get_strategy()\n",
        "\n",
        "if DEVICE == \"GPU\":\n",
        "    print(\"Num GPUs Available: \", len(tf.config.experimental.list_physical_devices('GPU')))\n",
        "    \n",
        "\n",
        "AUTOTUNE = tf.data.experimental.AUTOTUNE\n",
        "REPLICAS = strategy.num_replicas_in_sync\n",
        "print(f'REPLICAS: {REPLICAS}')"
      ],
      "execution_count": 5,
      "outputs": [
        {
          "output_type": "stream",
          "text": [
            "Using default strategy for CPU and single GPU\n",
            "Num GPUs Available:  1\n",
            "REPLICAS: 1\n"
          ],
          "name": "stdout"
        }
      ]
    },
    {
      "cell_type": "code",
      "metadata": {
        "id": "0YSfQITMgtZr",
        "outputId": "47de137a-039f-40fe-e74d-c3b630c3a471",
        "colab": {
          "resources": {
            "http://localhost:8080/nbextensions/google.colab/files.js": {
              "data": "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",
              "ok": true,
              "headers": [
                [
                  "content-type",
                  "application/javascript"
                ]
              ],
              "status": 200,
              "status_text": ""
            }
          },
          "base_uri": "https://localhost:8080/",
          "height": 57
        }
      },
      "source": [
        "#hide\n",
        "from google.colab import files\n",
        "uploaded = files.upload()\n",
        "for fn in uploaded.keys():\n",
        "    print('User uploaded file \"{name}\" with length {length} bytes'.format(\n",
        "                name=fn, length=len(uploaded[fn])))\n",
        "  \n",
        "# Then move kaggle.json into the folder where the API expects to find it.\n",
        "!mkdir -p ~/.kaggle/ && mv kaggle.json ~/.kaggle/ && chmod 600 ~/.kaggle/kaggle.json"
      ],
      "execution_count": 6,
      "outputs": [
        {
          "output_type": "display_data",
          "data": {
            "text/html": [
              "\n",
              "     <input type=\"file\" id=\"files-67bfa457-cddd-449a-abb3-f989e064b5dc\" name=\"files[]\" multiple disabled\n",
              "        style=\"border:none\" />\n",
              "     <output id=\"result-67bfa457-cddd-449a-abb3-f989e064b5dc\">\n",
              "      Upload widget is only available when the cell has been executed in the\n",
              "      current browser session. Please rerun this cell to enable.\n",
              "      </output>\n",
              "      <script src=\"/nbextensions/google.colab/files.js\"></script> "
            ],
            "text/plain": [
              "<IPython.core.display.HTML object>"
            ]
          },
          "metadata": {
            "tags": []
          }
        },
        {
          "output_type": "stream",
          "text": [
            "mv: cannot stat 'kaggle.json': No such file or directory\n"
          ],
          "name": "stdout"
        }
      ]
    },
    {
      "cell_type": "code",
      "metadata": {
        "id": "r3lNUbBYxJSo",
        "outputId": "d6542a5a-092c-451d-e411-8d6db7ef7bd6",
        "colab": {
          "base_uri": "https://localhost:8080/"
        }
      },
      "source": [
        "#collapse-hide\r\n",
        "#@title Notebook type { run: \"auto\", display-mode:\"form\" }\r\n",
        "SEED = 10120919\r\n",
        "DEBUG = False #@param {type:\"boolean\"}\r\n",
        "TRAIN = True #@param {type:\"boolean\"}\r\n",
        "\r\n",
        "def seed_everything(seed=0):\r\n",
        "    random.seed(seed)\r\n",
        "    np.random.seed(seed)\r\n",
        "    tf.random.set_seed(seed)\r\n",
        "    os.environ['PYTHONHASHSEED'] = str(seed)\r\n",
        "    os.environ['TF_DETERMINISTIC_OPS'] = '1'\r\n",
        "\r\n",
        "GOOGLE = 'google.colab' in str(get_ipython())\r\n",
        "KAGGLE = not GOOGLE\r\n",
        "\r\n",
        "seed_everything(SEED)\r\n",
        "\r\n",
        "print(\"Running on {}!\".format(\r\n",
        "   \"Google Colab\" if GOOGLE else \"Kaggle Kernel\"\r\n",
        "))"
      ],
      "execution_count": 7,
      "outputs": [
        {
          "output_type": "stream",
          "text": [
            "Running on Google Colab!\n"
          ],
          "name": "stdout"
        }
      ]
    },
    {
      "cell_type": "code",
      "metadata": {
        "colab": {
          "base_uri": "https://localhost:8080/"
        },
        "id": "kF5aqyTEgFd-",
        "outputId": "869fd310-6fb6-4c54-97c3-024bc3063466"
      },
      "source": [
        "#hide\n",
        "%%run_if {GOOGLE}\n",
        "from google.colab import drive\n",
        "drive.mount('/content/gdrive', force_remount=True)"
      ],
      "execution_count": 8,
      "outputs": [
        {
          "output_type": "stream",
          "text": [
            "Mounted at /content/gdrive\n"
          ],
          "name": "stdout"
        }
      ]
    },
    {
      "cell_type": "code",
      "metadata": {
        "colab": {
          "base_uri": "https://localhost:8080/"
        },
        "id": "WjiJYRTSkhyF",
        "outputId": "865d129f-3b4f-40f3-98ac-8d6b3ed517c8"
      },
      "source": [
        "#hide\n",
        "project_name = 'jane-street-market-prediction'\n",
        "root_path  = '/content/gdrive/MyDrive/' if GOOGLE else '/'\n",
        "input_path = f'{root_path}kaggle/input/{project_name}/'\n",
        "working_path = f'{input_path}working/' if GOOGLE else '/kaggle/working/'\n",
        "os.makedirs(working_path, exist_ok=True)\n",
        "os.chdir(working_path)\n",
        "os.listdir(input_path)"
      ],
      "execution_count": 9,
      "outputs": [
        {
          "output_type": "execute_result",
          "data": {
            "text/plain": [
              "['train.csv',\n",
              " 'working',\n",
              " '__init__.py',\n",
              " 'competition.cpython-37m-x86_64-linux-gnu.so',\n",
              " 'train.csv.zip',\n",
              " 'example_sample_submission.csv',\n",
              " 'features.csv',\n",
              " 'example_test.csv.zip']"
            ]
          },
          "metadata": {
            "tags": []
          },
          "execution_count": 9
        }
      ]
    },
    {
      "cell_type": "code",
      "metadata": {
        "id": "RukG4ZVwk3mb"
      },
      "source": [
        "#hide\n",
        "!kaggle competitions download -c jane-street-market-prediction"
      ],
      "execution_count": null,
      "outputs": []
    },
    {
      "cell_type": "markdown",
      "metadata": {
        "id": "MjCJGF3so1rU"
      },
      "source": [
        "We can observe that the train.csv is large: `6GB` and it has `2390492` rows in the file."
      ]
    },
    {
      "cell_type": "code",
      "metadata": {
        "colab": {
          "base_uri": "https://localhost:8080/"
        },
        "id": "M2g7LDGZk-rX",
        "outputId": "b182df3d-603a-4343-b138-7795be8fbdd2"
      },
      "source": [
        "#hide_input\n",
        "!wc -l {input_path}train.csv"
      ],
      "execution_count": 11,
      "outputs": [
        {
          "output_type": "stream",
          "text": [
            "2390492 /content/gdrive/MyDrive/kaggle/input/jane-street-market-prediction/train.csv\n"
          ],
          "name": "stdout"
        }
      ]
    },
    {
      "cell_type": "markdown",
      "metadata": {
        "id": "iKOzWvE7tEYo"
      },
      "source": [
        "To speed things up here, let's use `datatable` to read the data, and then convert to a pandas dataframe."
      ]
    },
    {
      "cell_type": "code",
      "metadata": {
        "colab": {
          "base_uri": "https://localhost:8080/"
        },
        "id": "PX-44ijqlxEp",
        "outputId": "34f20699-999d-4676-bd45-e608aa039c6c"
      },
      "source": [
        "%%time\n",
        "train_dt = dt.fread(f\"{input_path}train.csv\")"
      ],
      "execution_count": 12,
      "outputs": [
        {
          "output_type": "stream",
          "text": [
            "CPU times: user 25.2 s, sys: 4.07 s, total: 29.3 s\n",
            "Wall time: 2min 50s\n"
          ],
          "name": "stdout"
        }
      ]
    },
    {
      "cell_type": "code",
      "metadata": {
        "colab": {
          "base_uri": "https://localhost:8080/"
        },
        "id": "HPA-cPVlpf1t",
        "outputId": "648d8b09-93b6-4e7b-aacf-4a561dd26de8"
      },
      "source": [
        "%%time\n",
        "train_df = train_dt.to_pandas()"
      ],
      "execution_count": 13,
      "outputs": [
        {
          "output_type": "stream",
          "text": [
            "CPU times: user 4.88 s, sys: 4.24 s, total: 9.12 s\n",
            "Wall time: 7.01 s\n"
          ],
          "name": "stdout"
        }
      ]
    },
    {
      "cell_type": "markdown",
      "metadata": {
        "id": "U_RVsA0KtYJX"
      },
      "source": [
        "# Exploration"
      ]
    },
    {
      "cell_type": "markdown",
      "metadata": {
        "id": "0PrdbA1rjPcd"
      },
      "source": [
        "## `resp`"
      ]
    },
    {
      "cell_type": "code",
      "metadata": {
        "colab": {
          "base_uri": "https://localhost:8080/",
          "height": 0
        },
        "id": "OwRKOz5QtiIU",
        "outputId": "a2a5549d-89b4-4b1a-e066-02b079fc5bfc"
      },
      "source": [
        "#collapse-hide\n",
        "fig,ax = plt.subplots(figsize=(15,5), facecolor=\"#F0F0F0\")\n",
        "balance = pd.Series(train_df['resp'].cumsum())\n",
        "ax.set_xlabel(\"Trade\", fontsize=18)\n",
        "ax.set_ylabel(\"Cumulative resp\", fontsize=18)\n",
        "balance.plot(lw=3)\n",
        "del balance\n",
        "gc.collect()"
      ],
      "execution_count": 14,
      "outputs": [
        {
          "output_type": "execute_result",
          "data": {
            "text/plain": [
              "72"
            ]
          },
          "metadata": {
            "tags": []
          },
          "execution_count": 14
        },
        {
          "output_type": "display_data",
          "data": {
            "image/png": "[encoded data removed]",
            "text/plain": [
              "<Figure size 1080x360 with 1 Axes>"
            ]
          },
          "metadata": {
            "tags": []
          }
        }
      ]
    },
    {
      "cell_type": "markdown",
      "metadata": {
        "id": "OY_afiGWwO_J"
      },
      "source": [
        "as well as four [time horizons](https://www.investopedia.com/terms/t/timehorizon.asp)\n",
        "> The longer the Time Horizon, the more aggressive, or riskier portfolio, ans investor can build. The shorter the Time Horizon, the more conservative, or less risky, the investor may want to adopt."
      ]
    },
    {
      "cell_type": "code",
      "metadata": {
        "colab": {
          "base_uri": "https://localhost:8080/",
          "height": 0
        },
        "id": "PwNkNLOaw4os",
        "outputId": "21e92a89-8c7e-4d81-d48a-13fed6ceb1d9"
      },
      "source": [
        "#collapse-hide\n",
        "fig,ax = plt.subplots(figsize=(15,5), facecolor=\"#F0F0F0\")\n",
        "resps = []\n",
        "for colName, colData in train_df.iteritems():\n",
        "    if ('resp' in colName):\n",
        "        resps.append(colData.cumsum())\n",
        "ax.set_xlabel(\"Trade\", fontsize=18)\n",
        "ax.set_title(\"Cumulative resp and time horizons 1,2,3,4 (500 days)\", fontsize=18)\n",
        "for r in resps: r.plot(lw=3)\n",
        "plt.legend(loc=\"upper left\")\n",
        "del resps; gc.collect()"
      ],
      "execution_count": 15,
      "outputs": [
        {
          "output_type": "execute_result",
          "data": {
            "text/plain": [
              "2402"
            ]
          },
          "metadata": {
            "tags": []
          },
          "execution_count": 15
        },
        {
          "output_type": "display_data",
          "data": {
            "image/png": "[encoded data removed]",
            "text/plain": [
              "<Figure size 1080x360 with 1 Axes>"
            ]
          },
          "metadata": {
            "tags": []
          }
        }
      ]
    },
    {
      "cell_type": "markdown",
      "metadata": {
        "id": "441r6qMS0Tr5"
      },
      "source": [
        "We can see that `resp` (in purple) most closely follows time horizon 4 (`resp_4` is the uppermost curve, in red).\n",
        "\n",
        "In the notebook [Jane Street: time horizons and volatilities](https://www.kaggle.com/pcarta/jane-street-time-horizons-and-volatilities) by ***@pcarta***, if I understand correctly, by using maximum likelihood estimation it is calculated that if the time horizon ($T_j$) for `resp_1` (i.e. $T_1$ is 1, then\n",
        "- $T_j$(resp_2) $\\approx 1.4T_1$\n",
        "- $T_j$(resp_3) $\\approx 3.9T_1$\n",
        "- $T_j$(resp_4) $\\approx 11.1T_1$\n",
        "where $T_1$ could correspond to 5 trading days.\n",
        "Let's now plot a histogram of all of the `resp` values (here only shown for values between -0.05 and 0.05)\n"
      ]
    },
    {
      "cell_type": "code",
      "metadata": {
        "colab": {
          "base_uri": "https://localhost:8080/",
          "height": 0
        },
        "id": "SmwflfoJyJMy",
        "outputId": "27b0022b-0fbf-4b0d-ef69-fc2d5c99d8ce"
      },
      "source": [
        "#collapse-hide\n",
        "fig,ax = plt.subplots(figsize=(12,5), facecolor=\"#F0F0F0\")\n",
        "sns.histplot(\n",
        "    ax=ax,\n",
        "    x=train_df['resp'], \n",
        "    bins=3000, \n",
        "    kde_kws={\"clip\":(-0.05,0.05)}, \n",
        "    binrange=(-0.05,0.05),\n",
        "    color='darkcyan', \n",
        "    kde=False)\n",
        "values = np.array([rec.get_height() for rec in ax.patches])\n",
        "norm = plt.Normalize(values.min(), values.max())\n",
        "colors = plt.cm.jet(norm(values))\n",
        "for rec, col in zip(ax.patches, colors):\n",
        "    rec.set_color(col)\n",
        "plt.xlabel(\"Histogram of the resp values\", size=14)\n",
        "plt.show();\n",
        "del values\n",
        "gc.collect();"
      ],
      "execution_count": 16,
      "outputs": [
        {
          "output_type": "display_data",
          "data": {
            "image/png": "[encoded data removed]",
            "text/plain": [
              "<Figure size 864x360 with 1 Axes>"
            ]
          },
          "metadata": {
            "tags": []
          }
        }
      ]
    },
    {
      "cell_type": "markdown",
      "metadata": {
        "id": "ocKUeV-22Trm"
      },
      "source": [
        "This distribution has very long tails"
      ]
    },
    {
      "cell_type": "code",
      "metadata": {
        "colab": {
          "base_uri": "https://localhost:8080/"
        },
        "id": "FikvpWDX4tns",
        "outputId": "2a77f5de-3e84-41a3-ff1a-48dadeea11c6"
      },
      "source": [
        "#collapse-hide\n",
        "print('The minimum value for resp is : %.5f' %  train_df['resp'].min())\n",
        "print('The minimum value for resp is :  %.5f' % train_df['resp'].max())"
      ],
      "execution_count": 17,
      "outputs": [
        {
          "output_type": "stream",
          "text": [
            "The minimum value for resp is : -0.54938\n",
            "The minimum value for resp is :  0.44846\n"
          ],
          "name": "stdout"
        }
      ]
    },
    {
      "cell_type": "markdown",
      "metadata": {
        "id": "OnSyL9Bl6Rgg"
      },
      "source": [
        "Also calculate its' [skew](https://en.wikipedia.org/wiki/Skewness) and [kurtosis](https://en.wikipedia.org/wiki/Kurtosis) of this distribution"
      ]
    },
    {
      "cell_type": "code",
      "metadata": {
        "colab": {
          "base_uri": "https://localhost:8080/"
        },
        "id": "-4ZS_b0c5NFH",
        "outputId": "ebc7bd5d-41d1-493f-e5e6-f0d1a9bcb0f2"
      },
      "source": [
        "#collapse-hide\n",
        "print(\"Skew of resp is:      %.2f\" % train_df['resp'].skew() )\n",
        "print(\"Kurtosis of resp is: %.2f\"  % train_df['resp'].kurtosis() )"
      ],
      "execution_count": 18,
      "outputs": [
        {
          "output_type": "stream",
          "text": [
            "Skew of resp is:      0.10\n",
            "Kurtosis of resp is: 17.36\n"
          ],
          "name": "stdout"
        }
      ]
    },
    {
      "cell_type": "markdown",
      "metadata": {
        "id": "uXSOAVkfjXvm"
      },
      "source": [
        "## `weight`\n",
        "\n",
        "> Each trade has an associated `weight` and `resp`, which together represents a return on the trade. Trades with `weight = 0` were intentionally included in the dataset for completeness, although such trades will not contribute towards the scoring evaluation."
      ]
    },
    {
      "cell_type": "code",
      "metadata": {
        "colab": {
          "base_uri": "https://localhost:8080/"
        },
        "id": "fYC_tW_bjxD8",
        "outputId": "eb09f1d3-3e02-4bea-db6c-a0e90b4aa852"
      },
      "source": [
        "percent_zeros = (100/train_df.shape[0])*((train_df.weight.values == 0).sum())\n",
        "print('Percentage of zero weights is: %i' % percent_zeros +\"%\")"
      ],
      "execution_count": 19,
      "outputs": [
        {
          "output_type": "stream",
          "text": [
            "Percentage of zero weights is: 17%\n"
          ],
          "name": "stdout"
        }
      ]
    },
    {
      "cell_type": "markdown",
      "metadata": {
        "id": "GlAjQYNEkE2R"
      },
      "source": [
        "Let us see if there are any negative weights. A negative weight would be meaningless, but you never know."
      ]
    },
    {
      "cell_type": "code",
      "metadata": {
        "colab": {
          "base_uri": "https://localhost:8080/"
        },
        "id": "vxbvf6-2kRgN",
        "outputId": "2124e919-f442-435f-8379-2000a05afe18"
      },
      "source": [
        "min_weight = train_df['weight'].min()\n",
        "print('The minimum weight is: %.2f' % min_weight)"
      ],
      "execution_count": 20,
      "outputs": [
        {
          "output_type": "stream",
          "text": [
            "The minimum weight is: 0.00\n"
          ],
          "name": "stdout"
        }
      ]
    },
    {
      "cell_type": "markdown",
      "metadata": {
        "id": "cLZZ6VUIkVQI"
      },
      "source": [
        "An now to find the maximum weight used"
      ]
    },
    {
      "cell_type": "code",
      "metadata": {
        "colab": {
          "base_uri": "https://localhost:8080/"
        },
        "id": "k7yohDgRkby5",
        "outputId": "889fc9e5-1fad-4434-a4d7-0a5e15f1faa6"
      },
      "source": [
        "max_weight = train_df['weight'].max()\n",
        "print('The maximum weight was: %.2f' % max_weight)"
      ],
      "execution_count": 21,
      "outputs": [
        {
          "output_type": "stream",
          "text": [
            "The maximum weight was: 167.29\n"
          ],
          "name": "stdout"
        }
      ]
    },
    {
      "cell_type": "markdown",
      "metadata": {
        "id": "sxOK8acLke2d"
      },
      "source": [
        "which occured on day 446"
      ]
    },
    {
      "cell_type": "code",
      "metadata": {
        "colab": {
          "base_uri": "https://localhost:8080/",
          "height": 0
        },
        "id": "CEqyl4yxkj57",
        "outputId": "78fc8b1a-6c17-42bf-d394-d730ed243ed8"
      },
      "source": [
        "train_df[train_df['weight']==train_df['weight'].max()]"
      ],
      "execution_count": 22,
      "outputs": [
        {
          "output_type": "execute_result",
          "data": {
            "text/html": [
              "<div>\n",
              "<style scoped>\n",
              "    .dataframe tbody tr th:only-of-type {\n",
              "        vertical-align: middle;\n",
              "    }\n",
              "\n",
              "    .dataframe tbody tr th {\n",
              "        vertical-align: top;\n",
              "    }\n",
              "\n",
              "    .dataframe thead th {\n",
              "        text-align: right;\n",
              "    }\n",
              "</style>\n",
              "<table border=\"1\" class=\"dataframe\">\n",
              "  <thead>\n",
              "    <tr style=\"text-align: right;\">\n",
              "      <th></th>\n",
              "      <th>date</th>\n",
              "      <th>weight</th>\n",
              "      <th>resp_1</th>\n",
              "      <th>resp_2</th>\n",
              "      <th>resp_3</th>\n",
              "      <th>resp_4</th>\n",
              "      <th>resp</th>\n",
              "      <th>feature_0</th>\n",
              "      <th>feature_1</th>\n",
              "      <th>feature_2</th>\n",
              "      <th>feature_3</th>\n",
              "      <th>feature_4</th>\n",
              "      <th>feature_5</th>\n",
              "      <th>feature_6</th>\n",
              "      <th>feature_7</th>\n",
              "      <th>feature_8</th>\n",
              "      <th>feature_9</th>\n",
              "      <th>feature_10</th>\n",
              "      <th>feature_11</th>\n",
              "      <th>feature_12</th>\n",
              "      <th>feature_13</th>\n",
              "      <th>feature_14</th>\n",
              "      <th>feature_15</th>\n",
              "      <th>feature_16</th>\n",
              "      <th>feature_17</th>\n",
              "      <th>feature_18</th>\n",
              "      <th>feature_19</th>\n",
              "      <th>feature_20</th>\n",
              "      <th>feature_21</th>\n",
              "      <th>feature_22</th>\n",
              "      <th>feature_23</th>\n",
              "      <th>feature_24</th>\n",
              "      <th>feature_25</th>\n",
              "      <th>feature_26</th>\n",
              "      <th>feature_27</th>\n",
              "      <th>feature_28</th>\n",
              "      <th>feature_29</th>\n",
              "      <th>feature_30</th>\n",
              "      <th>feature_31</th>\n",
              "      <th>feature_32</th>\n",
              "      <th>...</th>\n",
              "      <th>feature_91</th>\n",
              "      <th>feature_92</th>\n",
              "      <th>feature_93</th>\n",
              "      <th>feature_94</th>\n",
              "      <th>feature_95</th>\n",
              "      <th>feature_96</th>\n",
              "      <th>feature_97</th>\n",
              "      <th>feature_98</th>\n",
              "      <th>feature_99</th>\n",
              "      <th>feature_100</th>\n",
              "      <th>feature_101</th>\n",
              "      <th>feature_102</th>\n",
              "      <th>feature_103</th>\n",
              "      <th>feature_104</th>\n",
              "      <th>feature_105</th>\n",
              "      <th>feature_106</th>\n",
              "      <th>feature_107</th>\n",
              "      <th>feature_108</th>\n",
              "      <th>feature_109</th>\n",
              "      <th>feature_110</th>\n",
              "      <th>feature_111</th>\n",
              "      <th>feature_112</th>\n",
              "      <th>feature_113</th>\n",
              "      <th>feature_114</th>\n",
              "      <th>feature_115</th>\n",
              "      <th>feature_116</th>\n",
              "      <th>feature_117</th>\n",
              "      <th>feature_118</th>\n",
              "      <th>feature_119</th>\n",
              "      <th>feature_120</th>\n",
              "      <th>feature_121</th>\n",
              "      <th>feature_122</th>\n",
              "      <th>feature_123</th>\n",
              "      <th>feature_124</th>\n",
              "      <th>feature_125</th>\n",
              "      <th>feature_126</th>\n",
              "      <th>feature_127</th>\n",
              "      <th>feature_128</th>\n",
              "      <th>feature_129</th>\n",
              "      <th>ts_id</th>\n",
              "    </tr>\n",
              "  </thead>\n",
              "  <tbody>\n",
              "    <tr>\n",
              "      <th>2097681</th>\n",
              "      <td>446</td>\n",
              "      <td>167.293715</td>\n",
              "      <td>0.000281</td>\n",
              "      <td>0.001213</td>\n",
              "      <td>0.00138</td>\n",
              "      <td>-0.000427</td>\n",
              "      <td>-0.001215</td>\n",
              "      <td>-1</td>\n",
              "      <td>-0.735754</td>\n",
              "      <td>-0.048433</td>\n",
              "      <td>-0.175366</td>\n",
              "      <td>-0.20698</td>\n",
              "      <td>0.150967</td>\n",
              "      <td>0.23681</td>\n",
              "      <td>NaN</td>\n",
              "      <td>NaN</td>\n",
              "      <td>-0.981118</td>\n",
              "      <td>-0.188376</td>\n",
              "      <td>NaN</td>\n",
              "      <td>NaN</td>\n",
              "      <td>-0.361906</td>\n",
              "      <td>0.09651</td>\n",
              "      <td>-0.789638</td>\n",
              "      <td>-0.582599</td>\n",
              "      <td>NaN</td>\n",
              "      <td>NaN</td>\n",
              "      <td>-0.455587</td>\n",
              "      <td>-0.844032</td>\n",
              "      <td>NaN</td>\n",
              "      <td>NaN</td>\n",
              "      <td>-0.3927</td>\n",
              "      <td>-0.804331</td>\n",
              "      <td>-0.527014</td>\n",
              "      <td>-0.93592</td>\n",
              "      <td>NaN</td>\n",
              "      <td>NaN</td>\n",
              "      <td>0.560677</td>\n",
              "      <td>1.263861</td>\n",
              "      <td>NaN</td>\n",
              "      <td>NaN</td>\n",
              "      <td>...</td>\n",
              "      <td>2.820043</td>\n",
              "      <td>NaN</td>\n",
              "      <td>1.342298</td>\n",
              "      <td>1.391578</td>\n",
              "      <td>0.900093</td>\n",
              "      <td>NaN</td>\n",
              "      <td>-1.338859</td>\n",
              "      <td>NaN</td>\n",
              "      <td>-0.509267</td>\n",
              "      <td>-1.194013</td>\n",
              "      <td>-0.420336</td>\n",
              "      <td>NaN</td>\n",
              "      <td>-0.94019</td>\n",
              "      <td>NaN</td>\n",
              "      <td>-0.237071</td>\n",
              "      <td>-1.781693</td>\n",
              "      <td>0.616443</td>\n",
              "      <td>NaN</td>\n",
              "      <td>-0.484772</td>\n",
              "      <td>NaN</td>\n",
              "      <td>-0.253349</td>\n",
              "      <td>-0.843852</td>\n",
              "      <td>-0.468821</td>\n",
              "      <td>NaN</td>\n",
              "      <td>0.935519</td>\n",
              "      <td>NaN</td>\n",
              "      <td>0.828683</td>\n",
              "      <td>0.438545</td>\n",
              "      <td>0.57467</td>\n",
              "      <td>-0.92586</td>\n",
              "      <td>0.948026</td>\n",
              "      <td>-1.094062</td>\n",
              "      <td>0.326287</td>\n",
              "      <td>-0.715126</td>\n",
              "      <td>1.490866</td>\n",
              "      <td>-1.111595</td>\n",
              "      <td>1.083793</td>\n",
              "      <td>-0.979801</td>\n",
              "      <td>0.913979</td>\n",
              "      <td>2097681</td>\n",
              "    </tr>\n",
              "  </tbody>\n",
              "</table>\n",
              "<p>1 rows × 138 columns</p>\n",
              "</div>"
            ],
            "text/plain": [
              "         date      weight    resp_1  ...  feature_128  feature_129    ts_id\n",
              "2097681   446  167.293715  0.000281  ...    -0.979801     0.913979  2097681\n",
              "\n",
              "[1 rows x 138 columns]"
            ]
          },
          "metadata": {
            "tags": []
          },
          "execution_count": 22
        }
      ]
    },
    {
      "cell_type": "markdown",
      "metadata": {
        "id": "GeTGf_hmktVI"
      },
      "source": [
        "Let us take a look at a histogram of the non-zero weights\n",
        "\n"
      ]
    },
    {
      "cell_type": "code",
      "metadata": {
        "colab": {
          "base_uri": "https://localhost:8080/",
          "height": 0
        },
        "id": "IzNN3vBnk1Xo",
        "outputId": "49542e3c-c5bf-4351-97d0-f9be01021724"
      },
      "source": [
        "#collapse-hide\n",
        "fig,ax = plt.subplots(figsize = (12,5), facecolor=\"#F0F0F0\")\n",
        "sns.histplot(\n",
        "    ax=ax,\n",
        "    x=train_df['weight'], \n",
        "    bins=1400, \n",
        "    kde_kws={\"clip\":(0.001,1.4)}, \n",
        "    binrange=(0.001,1.4),\n",
        "    color='darkcyan', \n",
        "    kde=False);\n",
        "values = np.array([rec.get_height() for rec in ax.patches])\n",
        "norm = plt.Normalize(values.min(), values.max())\n",
        "colors = plt.cm.jet(norm(values))\n",
        "for rec, col in zip(ax.patches, colors):\n",
        "    rec.set_color(col)\n",
        "plt.xlabel(\"Histogram of non-zero weights\", size=14)\n",
        "plt.show();\n",
        "del values\n",
        "gc.collect();"
      ],
      "execution_count": 23,
      "outputs": [
        {
          "output_type": "display_data",
          "data": {
            "image/png": "[encoded data removed]",
            "text/plain": [
              "<Figure size 864x360 with 1 Axes>"
            ]
          },
          "metadata": {
            "tags": []
          }
        }
      ]
    },
    {
      "cell_type": "markdown",
      "metadata": {
        "id": "9RukfepSluzT"
      },
      "source": [
        "https://www.kaggle.com/carlmcbrideellis/jane-street-eda-of-day-0-and-feature-importance"
      ]
    },
    {
      "cell_type": "markdown",
      "metadata": {
        "id": "XzPKoUfh53I4"
      },
      "source": [
        "# HyperParameters"
      ]
    },
    {
      "cell_type": "markdown",
      "metadata": {
        "id": "GpJtt72E5sA4"
      },
      "source": [
        "# Data"
      ]
    },
    {
      "cell_type": "markdown",
      "metadata": {
        "id": "Y3s7Zsve5tNN"
      },
      "source": [
        "## Loading training data"
      ]
    },
    {
      "cell_type": "code",
      "metadata": {
        "id": "9B13mEW86HG6"
      },
      "source": [
        "train_df = train_df.query('date > 85').reset_index(drop=True)\r\n",
        "# limit memory usage\r\n",
        "train_df = train_df.astype({c: np.float32\r\n",
        "    for c in train_df.select_dtypes(include='float64').columns})\r\n",
        "train_df.fillna(train_df.mean(), inplace=True)\r\n",
        "train_df = train_df.query('weight > 0').reset_index(drop = True)\r\n",
        "\r\n",
        "train_df['action'] = ((train_df['resp_1'] > 0) &\r\n",
        "                      (train_df['resp_2'] > 0) &\r\n",
        "                      (train_df['resp_3'] > 0) &\r\n",
        "                      (train_df['resp_4'] > 0) &\r\n",
        "                      (train_df['resp'] > 0)).astype('int')\r\n",
        "\r\n",
        "features = [c for c in train_df.columns if 'feature' in c]\r\n",
        "resp_cols = ['resp_1', 'resp_2', 'resp_3', 'resp', 'resp_4']\r\n",
        "\r\n",
        "x_train = train_df[features].values\r\n",
        "y_train = np.stack([(train_df[col] > 0).astype('int') \r\n",
        "                        for col in resp_cols]).T\r\n",
        "                        \r\n",
        "f_mean = np.mean(train_df[features[1:]].values, axis=0)"
      ],
      "execution_count": 24,
      "outputs": []
    },
    {
      "cell_type": "markdown",
      "metadata": {
        "id": "Z1--OU7Pdl62"
      },
      "source": [
        "> Note: Modified code for [`class GroupTimeSeriesSplit(_BaseKFold)`](https://github.com/getgaurav2/scikit-learn/blob/d4a3af5cc9da3a76f0266932644b884c99724c57/sklearn/model_selection/_split.py#L2243)"
      ]
    },
    {
      "cell_type": "code",
      "metadata": {
        "id": "YhMIklB5g5Cv"
      },
      "source": [
        "#collapse-show\n",
        "\n",
        "from sklearn.model_selection import KFold\n",
        "from sklearn.model_selection._split import _BaseKFold, indexable, _num_samples\n",
        "from sklearn.utils.validation import _deprecate_positional_args\n",
        "\n",
        "class PurgedGroupTimeSeriesSplit(_BaseKFold):\n",
        "    \"\"\"Time Series cross-validator variant with non-overlapping groups.\n",
        "    Allows for a gap in groups to avoid potentially leaking info from\n",
        "    train into test if the model has windowed or lag features.\n",
        "    Provides train/test indices to split time series data samples\n",
        "    that are observed at fixed time intervals according to a\n",
        "    third-party provided group.\n",
        "    In each split, test indices must be higher than before, and thus shuffling\n",
        "    in cross validator is inappropriate.\n",
        "    This cross-validation object is a variation of :class:`KFold`.\n",
        "    In the kth split, it returns first k folds as train set and the\n",
        "    (k+1)th fold as test set.\n",
        "    The same group will not appear in two different folds (the number of\n",
        "    distinct groups has to be at least equal to the number of folds).\n",
        "    Note that unlike standard cross-validation methods, successive\n",
        "    training sets are supersets of those that come before them.\n",
        "    Read more in the :ref:`User Guide <cross_validation>`.\n",
        "    Parameters\n",
        "    ----------\n",
        "    n_splits : int, default=5\n",
        "        Number of splits. Must be at least 2.\n",
        "    max_train_group_size : int, default=Inf\n",
        "        Maximum group size for a single training set.\n",
        "    group_gap : int, default=None\n",
        "        Gap between train and test\n",
        "    max_test_group_size : int, default=Inf\n",
        "        We discard this number of groups from the end of each train split\n",
        "    \"\"\"\n",
        "\n",
        "    @_deprecate_positional_args\n",
        "    def __init__(self,\n",
        "                 n_splits=5,\n",
        "                 *,\n",
        "                 max_train_group_size=np.inf,\n",
        "                 max_test_group_size=np.inf,\n",
        "                 group_gap=None,\n",
        "                 verbose=False\n",
        "                 ):\n",
        "        super().__init__(n_splits, shuffle=False, random_state=None)\n",
        "        self.max_train_group_size = max_train_group_size\n",
        "        self.group_gap = group_gap\n",
        "        self.max_test_group_size = max_test_group_size\n",
        "        self.verbose = verbose\n",
        "\n",
        "    def split(self, X, y=None, groups=None):\n",
        "        \"\"\"Generate indices to split data into training and test set.\n",
        "        Parameters\n",
        "        ----------\n",
        "        X : array-like of shape (n_samples, n_features)\n",
        "            Training data, where n_samples is the number of samples\n",
        "            and n_features is the number of features.\n",
        "        y : array-like of shape (n_samples,)\n",
        "            Always ignored, exists for compatibility.\n",
        "        groups : array-like of shape (n_samples,)\n",
        "            Group labels for the samples used while splitting the dataset into\n",
        "            train/test set.\n",
        "        Yields\n",
        "        ------\n",
        "        train : ndarray\n",
        "            The training set indices for that split.\n",
        "        test : ndarray\n",
        "            The testing set indices for that split.\n",
        "        \"\"\"\n",
        "        if groups is None:\n",
        "            raise ValueError(\n",
        "                \"The 'groups' parameter should not be None\")\n",
        "        X, y, groups = indexable(X, y, groups)\n",
        "        n_samples = _num_samples(X)\n",
        "        n_splits = self.n_splits\n",
        "        group_gap = self.group_gap\n",
        "        max_test_group_size = self.max_test_group_size\n",
        "        max_train_group_size = self.max_train_group_size\n",
        "        n_folds = n_splits + 1\n",
        "        group_dict = {}\n",
        "        u, ind = np.unique(groups, return_index=True)\n",
        "        unique_groups = u[np.argsort(ind)]\n",
        "        n_samples = _num_samples(X)\n",
        "        n_groups = _num_samples(unique_groups)\n",
        "        for idx in np.arange(n_samples):\n",
        "            if (groups[idx] in group_dict):\n",
        "                group_dict[groups[idx]].append(idx)\n",
        "            else:\n",
        "                group_dict[groups[idx]] = [idx]\n",
        "        if n_folds > n_groups:\n",
        "            raise ValueError(\n",
        "                (\"Cannot have number of folds={0} greater than\"\n",
        "                 \" the number of groups={1}\").format(n_folds,\n",
        "                                                     n_groups))\n",
        "\n",
        "        group_test_size = min(n_groups // n_folds, max_test_group_size)\n",
        "        group_test_starts = range(n_groups - n_splits * group_test_size,\n",
        "                                  n_groups, group_test_size)\n",
        "        for group_test_start in group_test_starts:\n",
        "            train_array = []\n",
        "            test_array = []\n",
        "\n",
        "            group_st = max(0, group_test_start - group_gap - max_train_group_size)\n",
        "            for train_group_idx in unique_groups[group_st:(group_test_start - group_gap)]:\n",
        "                train_array_tmp = group_dict[train_group_idx]\n",
        "                \n",
        "                train_array = np.sort(np.unique(\n",
        "                                      np.concatenate((train_array,\n",
        "                                                      train_array_tmp)),\n",
        "                                      axis=None), axis=None)\n",
        "\n",
        "            train_end = train_array.size\n",
        " \n",
        "            for test_group_idx in unique_groups[group_test_start:\n",
        "                                                group_test_start +\n",
        "                                                group_test_size]:\n",
        "                test_array_tmp = group_dict[test_group_idx]\n",
        "                test_array = np.sort(np.unique(\n",
        "                                              np.concatenate((test_array,\n",
        "                                                              test_array_tmp)),\n",
        "                                     axis=None), axis=None)\n",
        "\n",
        "            test_array  = test_array[group_gap:]\n",
        "            \n",
        "            \n",
        "            if self.verbose > 0:\n",
        "                    pass\n",
        "                    \n",
        "            yield [int(i) for i in train_array], [int(i) for i in test_array]"
      ],
      "execution_count": 25,
      "outputs": []
    },
    {
      "cell_type": "code",
      "metadata": {
        "id": "4M5D23bygyo8"
      },
      "source": [
        "#collapse-show\n",
        "class CVTuner(kt.engine.tuner.Tuner):\n",
        "    def run_trial(self, trial, X, y, splits, batch_size=32, epochs=1,callbacks=None):\n",
        "        val_losses = []\n",
        "        for train_indices, test_indices in splits:\n",
        "            X_train, X_test = [x[train_indices] for x in X], [x[test_indices] for x in X]\n",
        "            y_train, y_test = [a[train_indices] for a in y], [a[test_indices] for a in y]\n",
        "            if len(X_train) < 2:\n",
        "                X_train = X_train[0]\n",
        "                X_test = X_test[0]\n",
        "            if len(y_train) < 2:\n",
        "                y_train = y_train[0]\n",
        "                y_test = y_test[0]\n",
        "            \n",
        "            model = self.hypermodel.build(trial.hyperparameters)\n",
        "            hist = model.fit(X_train,y_train,\n",
        "                      validation_data=(X_test,y_test),\n",
        "                      epochs=epochs,\n",
        "                        batch_size=batch_size,\n",
        "                      callbacks=callbacks)\n",
        "            \n",
        "            val_losses.append([hist.history[k][-1] for k in hist.history])\n",
        "        val_losses = np.asarray(val_losses)\n",
        "        self.oracle.update_trial(trial.trial_id, {k:np.mean(val_losses[:,i]) for i,k in enumerate(hist.history.keys())})\n",
        "        self.save_model(trial.trial_id, model)"
      ],
      "execution_count": 26,
      "outputs": []
    },
    {
      "cell_type": "markdown",
      "metadata": {
        "id": "68AjcRXM-jQl"
      },
      "source": [
        "# Model\n",
        "\n",
        "The idea of using an encoder is the denoise the data. After many attempts at using a unsupervised autoencoder, the choice landed on a bottleneck encoder as this will preserve the intra-feature relations."
      ]
    },
    {
      "cell_type": "markdown",
      "metadata": {
        "id": "MtwblMShCDYh"
      },
      "source": [
        "## Building the autoencoder\n",
        "\n",
        "The autoencoder should aid in denoising the data based on [this](https://www.semanticscholar.org/paper/Deep-Bottleneck-Classifiers-in-Supervised-Dimension-Parviainen/fb86483f7573f6430fe4597432b0cd3e34b16e43) paper."
      ]
    },
    {
      "cell_type": "code",
      "metadata": {
        "id": "Ce7QkKta-riB"
      },
      "source": [
        "def build_autoencoder(input_dim, output_dim, noise=.05):\n",
        "    inputs = tf.keras.layers.Input(input_dim)\n",
        "    encoded = tf.keras.layers.BatchNormalization()(inputs)\n",
        "    encoded = tf.keras.layers.GaussianNoise(noise)(encoded)\n",
        "    encoded = tf.keras.layers.Dense(640, activation='relu')(encoded)\n",
        "    decoded = tf.keras.layers.Dropout(0.2)(encoded)\n",
        "    decoded = tf.keras.layers.Dense(input_dim, name='decoded')(decoded)\n",
        "    x = tf.keras.layers.Dense(320, activation='relu')(decoded)\n",
        "    x = tf.keras.layers.BatchNormalization()(x)\n",
        "    x = tf.keras.layers.Dropout(0.2)(x)\n",
        "    x = tf.keras.layers.Dense(output_dim, activation='sigmoid',\n",
        "                              name='label_output')(x)\n",
        "\n",
        "    encoder = tf.keras.models.Model(inputs=inputs, outputs=encoded)\n",
        "\n",
        "    autoencoder = tf.keras.models.Model(inputs=inputs, outputs=[decoded,x])\n",
        "    autoencoder.compile(optimizer=tf.keras.optimizers.Adam(0.001),\n",
        "                        loss={'decoded':'mse',\n",
        "                              'label_output':'binary_crossentropy'})\n",
        "    return autoencoder, encoder"
      ],
      "execution_count": 27,
      "outputs": []
    },
    {
      "cell_type": "markdown",
      "metadata": {
        "id": "zpXA-UOkCH0l"
      },
      "source": [
        "## Building the MLP"
      ]
    },
    {
      "cell_type": "code",
      "metadata": {
        "id": "h6R0rSS2A3Uh"
      },
      "source": [
        "def build_model(hp, input_dim, output_dim, encoder):\n",
        "    inputs = tf.keras.layers.Input(input_dim)\n",
        "    \n",
        "    x = encoder(inputs)\n",
        "    \n",
        "    x = tf.keras.layers.Concatenate()([x,inputs]) #use both raw and encoded features\n",
        "    x = tf.keras.layers.BatchNormalization()(x)\n",
        "    x = tf.keras.layers.Dropout(hp.Float('init_dropout',0.0,0.5))(x)\n",
        "    \n",
        "    for i in range(hp.Int('num_layers',1,5)):\n",
        "        x = tf.keras.layers.Dense(hp.Int('num_units_{i}',128,256))(x)\n",
        "        x = tf.keras.layers.BatchNormalization()(x)\n",
        "        x = tf.keras.layers.Lambda(tf.keras.activations.swish)(x)\n",
        "        x = tf.keras.layers.Dropout(hp.Float(f'dropout_{i}',0.0,0.5))(x)\n",
        "\n",
        "    x = tf.keras.layers.Dense(output_dim,activation='sigmoid')(x)\n",
        "\n",
        "    model = tf.keras.models.Model(inputs=inputs, outputs=x)\n",
        "\n",
        "    model.compile(optimizer = tf.keras.optimizers.Adam(\n",
        "                    hp.Float('lr',0.00001,0.1,default=0.001)),\n",
        "                  loss = tf.keras.losses.BinaryCrossentropy(\n",
        "                    label_smoothing = hp.Float('label_smoothing',0.0,0.1)),\n",
        "                  metrics = [tf.keras.metrics.AUC(name = 'auc')])\n",
        "    return model"
      ],
      "execution_count": 28,
      "outputs": []
    },
    {
      "cell_type": "markdown",
      "metadata": {
        "id": "vN8xSjQKCoct"
      },
      "source": [
        "## Defining and training the autoencoder\n",
        "\n",
        "We add gaussian noise with mean and std from training datea. After training we lock the layersfin the encoder from further training."
      ]
    },
    {
      "cell_type": "code",
      "metadata": {
        "id": "IawHYvSFvDPm"
      },
      "source": [
        "autoencoder, encoder = build_autoencoder(x_train.shape[-1], \r\n",
        "                                         y_train.shape[-1],\r\n",
        "                                         noise=0.1)"
      ],
      "execution_count": 29,
      "outputs": []
    },
    {
      "cell_type": "code",
      "metadata": {
        "id": "pxsTJpM1v595",
        "outputId": "79e0e43d-69b5-4b63-8fb6-86a390038c51",
        "colab": {
          "base_uri": "https://localhost:8080/"
        }
      },
      "source": [
        "#collapse-output\r\n",
        "autoencoder.fit(x_train,(x_train, y_train),\r\n",
        "                epochs=1000,\r\n",
        "                batch_size=4096, \r\n",
        "                validation_split=0.1,\r\n",
        "                callbacks = [\r\n",
        "                    tf.keras.callbacks.EarlyStopping(\r\n",
        "                        'val_loss', patience=10,\r\n",
        "                        restore_best_weights=True)])"
      ],
      "execution_count": 30,
      "outputs": [
        {
          "output_type": "stream",
          "text": [
            "Epoch 1/1000\n",
            "346/346 [==============================] - 7s 12ms/step - loss: 2.1184 - decoded_loss: 1.3832 - label_output_loss: 0.7352 - val_loss: 0.8046 - val_decoded_loss: 0.1152 - val_label_output_loss: 0.6894\n",
            "Epoch 2/1000\n",
            "346/346 [==============================] - 3s 10ms/step - loss: 1.0088 - decoded_loss: 0.3173 - label_output_loss: 0.6915 - val_loss: 0.7703 - val_decoded_loss: 0.0810 - val_label_output_loss: 0.6893\n",
            "Epoch 3/1000\n",
            "346/346 [==============================] - 3s 10ms/step - loss: 0.9952 - decoded_loss: 0.3053 - label_output_loss: 0.6899 - val_loss: 0.7617 - val_decoded_loss: 0.0728 - val_label_output_loss: 0.6890\n",
            "Epoch 4/1000\n",
            "346/346 [==============================] - 3s 9ms/step - loss: 0.9690 - decoded_loss: 0.2794 - label_output_loss: 0.6895 - val_loss: 0.7576 - val_decoded_loss: 0.0686 - val_label_output_loss: 0.6890\n",
            "Epoch 5/1000\n",
            "346/346 [==============================] - 3s 9ms/step - loss: 0.9750 - decoded_loss: 0.2856 - label_output_loss: 0.6894 - val_loss: 0.7562 - val_decoded_loss: 0.0676 - val_label_output_loss: 0.6886\n",
            "Epoch 6/1000\n",
            "346/346 [==============================] - 3s 9ms/step - loss: 0.9759 - decoded_loss: 0.2867 - label_output_loss: 0.6892 - val_loss: 0.7537 - val_decoded_loss: 0.0645 - val_label_output_loss: 0.6892\n",
            "Epoch 7/1000\n",
            "346/346 [==============================] - 4s 10ms/step - loss: 0.9767 - decoded_loss: 0.2876 - label_output_loss: 0.6891 - val_loss: 0.7552 - val_decoded_loss: 0.0666 - val_label_output_loss: 0.6886\n",
            "Epoch 8/1000\n",
            "346/346 [==============================] - 3s 10ms/step - loss: 0.9884 - decoded_loss: 0.2994 - label_output_loss: 0.6889 - val_loss: 0.7473 - val_decoded_loss: 0.0590 - val_label_output_loss: 0.6882\n",
            "Epoch 9/1000\n",
            "346/346 [==============================] - 3s 10ms/step - loss: 0.9531 - decoded_loss: 0.2644 - label_output_loss: 0.6887 - val_loss: 0.7472 - val_decoded_loss: 0.0592 - val_label_output_loss: 0.6880\n",
            "Epoch 10/1000\n",
            "346/346 [==============================] - 3s 10ms/step - loss: 1.0210 - decoded_loss: 0.3324 - label_output_loss: 0.6886 - val_loss: 0.7472 - val_decoded_loss: 0.0586 - val_label_output_loss: 0.6887\n",
            "Epoch 11/1000\n",
            "346/346 [==============================] - 3s 10ms/step - loss: 0.9625 - decoded_loss: 0.2740 - label_output_loss: 0.6885 - val_loss: 0.7477 - val_decoded_loss: 0.0595 - val_label_output_loss: 0.6883\n",
            "Epoch 12/1000\n",
            "346/346 [==============================] - 3s 10ms/step - loss: 0.9719 - decoded_loss: 0.2835 - label_output_loss: 0.6884 - val_loss: 0.7530 - val_decoded_loss: 0.0650 - val_label_output_loss: 0.6879\n",
            "Epoch 13/1000\n",
            "346/346 [==============================] - 3s 10ms/step - loss: 0.9867 - decoded_loss: 0.2983 - label_output_loss: 0.6884 - val_loss: 0.7494 - val_decoded_loss: 0.0611 - val_label_output_loss: 0.6882\n",
            "Epoch 14/1000\n",
            "346/346 [==============================] - 3s 9ms/step - loss: 0.9518 - decoded_loss: 0.2636 - label_output_loss: 0.6881 - val_loss: 0.7477 - val_decoded_loss: 0.0590 - val_label_output_loss: 0.6887\n",
            "Epoch 15/1000\n",
            "346/346 [==============================] - 3s 10ms/step - loss: 0.9466 - decoded_loss: 0.2585 - label_output_loss: 0.6881 - val_loss: 0.7474 - val_decoded_loss: 0.0595 - val_label_output_loss: 0.6879\n",
            "Epoch 16/1000\n",
            "346/346 [==============================] - 3s 9ms/step - loss: 0.9588 - decoded_loss: 0.2708 - label_output_loss: 0.6880 - val_loss: 0.7467 - val_decoded_loss: 0.0585 - val_label_output_loss: 0.6882\n",
            "Epoch 17/1000\n",
            "346/346 [==============================] - 3s 10ms/step - loss: 1.0079 - decoded_loss: 0.3200 - label_output_loss: 0.6879 - val_loss: 0.7465 - val_decoded_loss: 0.0584 - val_label_output_loss: 0.6881\n",
            "Epoch 18/1000\n",
            "346/346 [==============================] - 3s 10ms/step - loss: 0.9491 - decoded_loss: 0.2614 - label_output_loss: 0.6877 - val_loss: 0.7464 - val_decoded_loss: 0.0584 - val_label_output_loss: 0.6881\n",
            "Epoch 19/1000\n",
            "346/346 [==============================] - 3s 9ms/step - loss: 0.9493 - decoded_loss: 0.2616 - label_output_loss: 0.6877 - val_loss: 0.7551 - val_decoded_loss: 0.0671 - val_label_output_loss: 0.6881\n",
            "Epoch 20/1000\n",
            "346/346 [==============================] - 3s 10ms/step - loss: 0.9348 - decoded_loss: 0.2472 - label_output_loss: 0.6876 - val_loss: 0.7574 - val_decoded_loss: 0.0693 - val_label_output_loss: 0.6881\n",
            "Epoch 21/1000\n",
            "346/346 [==============================] - 3s 10ms/step - loss: 0.9351 - decoded_loss: 0.2474 - label_output_loss: 0.6877 - val_loss: 0.7526 - val_decoded_loss: 0.0644 - val_label_output_loss: 0.6882\n",
            "Epoch 22/1000\n",
            "346/346 [==============================] - 3s 10ms/step - loss: 0.9658 - decoded_loss: 0.2783 - label_output_loss: 0.6874 - val_loss: 0.7521 - val_decoded_loss: 0.0640 - val_label_output_loss: 0.6881\n",
            "Epoch 23/1000\n",
            "346/346 [==============================] - 3s 10ms/step - loss: 0.9430 - decoded_loss: 0.2556 - label_output_loss: 0.6874 - val_loss: 0.7504 - val_decoded_loss: 0.0620 - val_label_output_loss: 0.6884\n",
            "Epoch 24/1000\n",
            "346/346 [==============================] - 3s 10ms/step - loss: 0.9473 - decoded_loss: 0.2602 - label_output_loss: 0.6871 - val_loss: 0.7534 - val_decoded_loss: 0.0653 - val_label_output_loss: 0.6881\n",
            "Epoch 25/1000\n",
            "346/346 [==============================] - 3s 10ms/step - loss: 0.9362 - decoded_loss: 0.2489 - label_output_loss: 0.6873 - val_loss: 0.7517 - val_decoded_loss: 0.0635 - val_label_output_loss: 0.6882\n",
            "Epoch 26/1000\n",
            "346/346 [==============================] - 3s 10ms/step - loss: 0.9463 - decoded_loss: 0.2592 - label_output_loss: 0.6872 - val_loss: 0.7538 - val_decoded_loss: 0.0654 - val_label_output_loss: 0.6883\n",
            "Epoch 27/1000\n",
            "346/346 [==============================] - 3s 10ms/step - loss: 0.9584 - decoded_loss: 0.2712 - label_output_loss: 0.6872 - val_loss: 0.7582 - val_decoded_loss: 0.0699 - val_label_output_loss: 0.6883\n",
            "Epoch 28/1000\n",
            "346/346 [==============================] - 3s 10ms/step - loss: 0.9484 - decoded_loss: 0.2614 - label_output_loss: 0.6870 - val_loss: 0.7580 - val_decoded_loss: 0.0699 - val_label_output_loss: 0.6881\n"
          ],
          "name": "stdout"
        },
        {
          "output_type": "execute_result",
          "data": {
            "text/plain": [
              "<tensorflow.python.keras.callbacks.History at 0x7fa49aa04fd0>"
            ]
          },
          "metadata": {
            "tags": []
          },
          "execution_count": 30
        }
      ]
    },
    {
      "cell_type": "code",
      "metadata": {
        "id": "2gzgpbPJ2TOZ"
      },
      "source": [
        "encoder.save_weights('encoder.hdf5')"
      ],
      "execution_count": 31,
      "outputs": []
    },
    {
      "cell_type": "code",
      "metadata": {
        "id": "vZG-nTmAwUOO"
      },
      "source": [
        "encoder.load_weights('encoder.hdf5')\r\n",
        "encoder.trainable = False"
      ],
      "execution_count": 33,
      "outputs": []
    },
    {
      "cell_type": "markdown",
      "metadata": {
        "id": "I58px8-rgDwp"
      },
      "source": [
        "## Running CV\r\n",
        "\r\n",
        "Following [this notebook](https://www.kaggle.com/gogo827jz/jane-street-ffill-xgboost-purgedtimeseriescv) which use 5 `PurgedGroupTimeSeriesSplit` split on the dates in the training data. \r\n",
        "\r\n",
        "We add the locked encoder as the first layer of the MLP. This seems to help in speeding up the submission rather than first predicting using the encoder then using the MLP. \r\n",
        "\r\n",
        "We use a Baysian Optimizer to find the optimal HPs for out model. 20 trials take about 2 hours on GPU.\r\n"
      ]
    },
    {
      "cell_type": "code",
      "metadata": {
        "id": "1gSLY6Q0ehFa"
      },
      "source": [
        "model_fn = lambda hp: build_model(\n",
        "    hp, x_train.shape[-1], y_train.shape[-1], encoder)"
      ],
      "execution_count": 34,
      "outputs": []
    },
    {
      "cell_type": "code",
      "metadata": {
        "id": "Aj7L8EldhIRx",
        "colab": {
          "base_uri": "https://localhost:8080/"
        },
        "outputId": "98f22a64-5e62-4a61-bd25-198185bfa855"
      },
      "source": [
        "tuner = CVTuner(\r\n",
        "    hypermodel = model_fn,\r\n",
        "    oracle=kt.oracles.BayesianOptimization(\r\n",
        "        objective=kt.Objective('val_auc', direction='max'),\r\n",
        "        num_initial_points=4,\r\n",
        "        max_trials=20))"
      ],
      "execution_count": 35,
      "outputs": [
        {
          "output_type": "stream",
          "text": [
            "INFO:tensorflow:Reloading Oracle from existing project ./untitled_project/oracle.json\n"
          ],
          "name": "stdout"
        }
      ]
    },
    {
      "cell_type": "code",
      "metadata": {
        "id": "RUeEFEv4iC4U"
      },
      "source": [
        "#collapse-output\r\n",
        "gkf = PurgedGroupTimeSeriesSplit(n_splits = 5, group_gap=20)\r\n",
        "splits = list(gkf.split(y_train, groups=train_df['date'].values))\r\n",
        "tuner.search((x_train,),(y_train,),\r\n",
        "             splits=splits,\r\n",
        "             batch_size=4096,\r\n",
        "             epochs=100,\r\n",
        "             callbacks=[\r\n",
        "                tf.keras.callbacks.EarlyStopping(\r\n",
        "                    'val_auc', mode='max', patience=3)])"
      ],
      "execution_count": null,
      "outputs": []
    },
    {
      "cell_type": "code",
      "metadata": {
        "id": "iImxHjyGyv-z"
      },
      "source": [
        "hp  = tuner.get_best_hyperparameters(1)[0]\r\n",
        "pd.to_pickle(hp,f'./best_hp_{SEED}.pkl')\r\n",
        "for fold, (train_indices, test_indices) in enumerate(splits):\r\n",
        "    model = model_fn(hp)\r\n",
        "    X_train, X_test = X[train_indices], X[test_indices]\r\n",
        "    y_train, y_test = y[train_indices], y[test_indices]\r\n",
        "    model.fit(X_train,y_train,validation_data=(X_test,y_test),epochs=100,batch_size=4096,callbacks=[EarlyStopping('val_auc',mode='max',patience=10,restore_best_weights=True)])\r\n",
        "    model.save_weights(f'./model_{SEED}_{fold}.hdf5')\r\n",
        "    model.compile(Adam(hp.get('lr')/100),loss='binary_crossentropy')\r\n",
        "    model.fit(X_test,y_test,epochs=3,batch_size=4096)\r\n",
        "    model.save_weights(f'./model_{SEED}_{fold}_finetune.hdf5')\r\n",
        "tuner.results_summary()"
      ],
      "execution_count": null,
      "outputs": []
    }
  ]
}