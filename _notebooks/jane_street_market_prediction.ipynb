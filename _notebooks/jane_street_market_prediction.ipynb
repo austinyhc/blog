{
  "nbformat": 4,
  "nbformat_minor": 0,
  "metadata": {
    "accelerator": "GPU",
    "colab": {
      "name": "jane_street_market_prediction.ipynb",
      "provenance": []
    },
    "kernelspec": {
      "display_name": "Python 3",
      "language": "python",
      "name": "python3"
    },
    "language_info": {
      "codemirror_mode": {
        "name": "ipython",
        "version": 3
      },
      "file_extension": ".py",
      "mimetype": "text/x-python",
      "name": "python",
      "nbconvert_exporter": "python",
      "pygments_lexer": "ipython3",
      "version": "3.8.2"
    }
  },
  "cells": [
    {
      "cell_type": "markdown",
      "metadata": {
        "id": "fJ-F1VMOcltK"
      },
      "source": [
        "# Jane Street Market Prediction \n",
        "> Buy low, sell high. It sounds so easy….\n",
        "\n",
        "- toc: true\n",
        "- badges: true\n",
        "- author: Austin Chen\n",
        "- categories: [time series,stock]"
      ]
    },
    {
      "cell_type": "code",
      "metadata": {
        "colab": {
          "base_uri": "https://localhost:8080/"
        },
        "id": "NjtrZ9nvkRg-",
        "outputId": "d5c6490a-3c21-4d59-a7ad-29875c7d9d60"
      },
      "source": [
        "#hide\n",
        "\n",
        "%%writefile conditional_cell_extension.py\n",
        "def run_if(line, cell=None):\n",
        "    '''Execute current line/cell if line evaluates to True.'''\n",
        "    if not eval(line):\n",
        "        return\n",
        "    get_ipython().ex(cell)\n",
        "\n",
        "def load_ipython_extension(shell):\n",
        "    '''Registers the run_if magic when the extension loads.'''\n",
        "    shell.register_magic_function(run_if, 'line_cell')\n",
        "\n",
        "def unload_ipython_extension(shell):\n",
        "    '''Unregisters the run_if magic when the extension unloads.'''\n",
        "    del shell.magics_manager.magics['cell']['run_if']"
      ],
      "execution_count": null,
      "outputs": [
        {
          "output_type": "stream",
          "text": [
            "Writing conditional_cell_extension.py\n"
          ],
          "name": "stdout"
        }
      ]
    },
    {
      "cell_type": "code",
      "metadata": {
        "id": "9Z54FNfMkWuZ"
      },
      "source": [
        "#hide\n",
        "%reload_ext conditional_cell_extension"
      ],
      "execution_count": null,
      "outputs": []
    },
    {
      "cell_type": "markdown",
      "metadata": {
        "id": "UkShraJ1gmU4"
      },
      "source": [
        "## Dependencies"
      ]
    },
    {
      "cell_type": "code",
      "metadata": {
        "id": "at15lXY1gwJT"
      },
      "source": [
        "#hide\n",
        "!pip install dabl > /dev/null\n",
        "!pip install datatable > /dev/null"
      ],
      "execution_count": null,
      "outputs": []
    },
    {
      "cell_type": "code",
      "metadata": {
        "colab": {
          "base_uri": "https://localhost:8080/"
        },
        "id": "zTR47QX7d2OS",
        "outputId": "5ff2c139-06cd-47f8-b8e3-b55ff50338b0"
      },
      "source": [
        "#collapse-hide\n",
        "import numpy as np\n",
        "import pandas as pd\n",
        "import seaborn as sns\n",
        "import albumentations as A\n",
        "import matplotlib.pyplot as plt\n",
        "import os, gc, cv2, random, warnings, math, sys, json, pprint, pdb\n",
        "\n",
        "import tensorflow as tf\n",
        "from tensorflow.keras import backend as K\n",
        "import tensorflow_hub as hub\n",
        "\n",
        "from sklearn.model_selection import train_test_split\n",
        "\n",
        "import dabl\n",
        "import datatable as dt\n",
        "\n",
        "warnings.simplefilter('ignore')\n",
        "print(f\"Using TensorFlow v{tf.__version__}\")"
      ],
      "execution_count": null,
      "outputs": [
        {
          "output_type": "stream",
          "text": [
            "Using TensorFlow v2.4.0\n"
          ],
          "name": "stdout"
        }
      ]
    },
    {
      "cell_type": "code",
      "metadata": {
        "cellView": "form",
        "colab": {
          "base_uri": "https://localhost:8080/"
        },
        "id": "XGiTrV67XLtQ",
        "outputId": "57711b7b-d82f-4e3f-e18b-f53480d355a6"
      },
      "source": [
        "#hide\n",
        "#@title Accelerator { run: \"auto\" }\n",
        "DEVICE = 'GPU' #@param [\"None\", \"'GPU'\", \"'TPU'\"] {type:\"raw\", allow-input: true}\n",
        "\n",
        "if DEVICE == \"TPU\":\n",
        "    print(\"connecting to TPU...\")\n",
        "    try:\n",
        "        tpu = tf.distribute.cluster_resolver.TPUClusterResolver()\n",
        "        print('Running on TPU ', tpu.master())\n",
        "    except ValueError:\n",
        "        print(\"Could not connect to TPU\")\n",
        "        tpu = None\n",
        "\n",
        "    if tpu:\n",
        "        try:\n",
        "            print(\"initializing  TPU ...\")\n",
        "            tf.config.experimental_connect_to_cluster(tpu)\n",
        "            tf.tpu.experimental.initialize_tpu_system(tpu)\n",
        "            strategy = tf.distribute.experimental.TPUStrategy(tpu)\n",
        "            print(\"TPU initialized\")\n",
        "        except _:\n",
        "            print(\"failed to initialize TPU\")\n",
        "    else:\n",
        "        DEVICE = \"GPU\"\n",
        "\n",
        "if DEVICE != \"TPU\":\n",
        "    print(\"Using default strategy for CPU and single GPU\")\n",
        "    strategy = tf.distribute.get_strategy()\n",
        "\n",
        "if DEVICE == \"GPU\":\n",
        "    print(\"Num GPUs Available: \", len(tf.config.experimental.list_physical_devices('GPU')))\n",
        "    \n",
        "\n",
        "AUTOTUNE = tf.data.experimental.AUTOTUNE\n",
        "REPLICAS = strategy.num_replicas_in_sync\n",
        "print(f'REPLICAS: {REPLICAS}')"
      ],
      "execution_count": null,
      "outputs": [
        {
          "output_type": "stream",
          "text": [
            "Using default strategy for CPU and single GPU\n",
            "Num GPUs Available:  1\n",
            "REPLICAS: 1\n"
          ],
          "name": "stdout"
        }
      ]
    },
    {
      "cell_type": "code",
      "metadata": {
        "id": "0YSfQITMgtZr"
      },
      "source": [
        "#hide\n",
        "from google.colab import files\n",
        "uploaded = files.upload()\n",
        "for fn in uploaded.keys():\n",
        "    print('User uploaded file \"{name}\" with length {length} bytes'.format(\n",
        "                name=fn, length=len(uploaded[fn])))\n",
        "  \n",
        "# Then move kaggle.json into the folder where the API expects to find it.\n",
        "!mkdir -p ~/.kaggle/ && mv kaggle.json ~/.kaggle/ && chmod 600 ~/.kaggle/kaggle.json"
      ],
      "execution_count": null,
      "outputs": []
    },
    {
      "cell_type": "code",
      "metadata": {
        "colab": {
          "base_uri": "https://localhost:8080/"
        },
        "id": "as1HcUINgl1B",
        "outputId": "57ee952f-986f-4b03-b772-89f1716c66ac"
      },
      "source": [
        "#collapse-hide\n",
        "def seed_everything(seed=0):\n",
        "    random.seed(seed)\n",
        "    np.random.seed(seed)\n",
        "    tf.random.set_seed(seed)\n",
        "    os.environ['PYTHONHASHSEED'] = str(seed)\n",
        "    os.environ['TF_DETERMINISTIC_OPS'] = '1'\n",
        "\n",
        "GOOGLE = 'google.colab' in str(get_ipython())\n",
        "KAGGLE = not GOOGLE\n",
        "\n",
        "print(\"Running on {}!\".format(\n",
        "   \"Google Colab\" if GOOGLE else \"Kaggle Kernel\"\n",
        "))"
      ],
      "execution_count": null,
      "outputs": [
        {
          "output_type": "stream",
          "text": [
            "Running on Google Colab!\n"
          ],
          "name": "stdout"
        }
      ]
    },
    {
      "cell_type": "code",
      "metadata": {
        "colab": {
          "base_uri": "https://localhost:8080/"
        },
        "id": "kF5aqyTEgFd-",
        "outputId": "02d2c56d-7835-4367-abaa-5bc14ed87897"
      },
      "source": [
        "#hide\n",
        "%%run_if {GOOGLE}\n",
        "from google.colab import drive\n",
        "drive.mount('/content/gdrive', force_remount=True)"
      ],
      "execution_count": null,
      "outputs": [
        {
          "output_type": "stream",
          "text": [
            "Mounted at /content/gdrive\n"
          ],
          "name": "stdout"
        }
      ]
    },
    {
      "cell_type": "code",
      "metadata": {
        "colab": {
          "base_uri": "https://localhost:8080/"
        },
        "id": "WjiJYRTSkhyF",
        "outputId": "66732526-863c-4d0c-e285-812a4d24d259"
      },
      "source": [
        "#hide\n",
        "project_name = 'jane-street-market-prediction'\n",
        "root_path  = '/content/gdrive/MyDrive/' if GOOGLE else '/'\n",
        "input_path = f'{root_path}kaggle/input/{project_name}/'\n",
        "working_path = f'{input_path}working/' if GOOGLE else '/kaggle/working/'\n",
        "os.makedirs(working_path, exist_ok=True)\n",
        "os.chdir(working_path)\n",
        "os.listdir(input_path)"
      ],
      "execution_count": null,
      "outputs": [
        {
          "output_type": "execute_result",
          "data": {
            "text/plain": [
              "['train.csv',\n",
              " 'working',\n",
              " '__init__.py',\n",
              " 'competition.cpython-37m-x86_64-linux-gnu.so',\n",
              " 'train.csv.zip',\n",
              " 'example_sample_submission.csv',\n",
              " 'features.csv',\n",
              " 'example_test.csv.zip']"
            ]
          },
          "metadata": {
            "tags": []
          },
          "execution_count": 11
        }
      ]
    },
    {
      "cell_type": "code",
      "metadata": {
        "colab": {
          "base_uri": "https://localhost:8080/"
        },
        "id": "RukG4ZVwk3mb",
        "outputId": "01407b50-b82f-4782-db5c-3ef617035956"
      },
      "source": [
        "#hide\n",
        "!kaggle competitions download -c jane-street-market-prediction"
      ],
      "execution_count": null,
      "outputs": [
        {
          "output_type": "stream",
          "text": [
            "Warning: Looks like you're using an outdated API Version, please consider updating (server 1.5.10 / client 1.5.4)\n",
            "Downloading __init__.py to /content/gdrive/MyDrive/kaggle/input/jane-street-market-prediction/working\n",
            "  0% 0.00/59.0 [00:00<?, ?B/s]\n",
            "100% 59.0/59.0 [00:00<00:00, 8.29kB/s]\n",
            "Downloading competition.cpython-37m-x86_64-linux-gnu.so to /content/gdrive/My Drive/kaggle/input/jane-street-market-prediction/working\n",
            "  0% 0.00/441k [00:00<?, ?B/s]\n",
            "100% 441k/441k [00:00<00:00, 28.4MB/s]\n",
            "Downloading train.csv.zip to /content/gdrive/My Drive/kaggle/input/jane-street-market-prediction/working\n",
            "100% 2.60G/2.61G [00:26<00:00, 49.7MB/s]\n",
            "100% 2.61G/2.61G [00:26<00:00, 106MB/s] \n",
            "Downloading example_sample_submission.csv to /content/gdrive/My Drive/kaggle/input/jane-street-market-prediction/working\n",
            "  0% 0.00/108k [00:00<?, ?B/s]\n",
            "100% 108k/108k [00:00<00:00, 15.2MB/s]\n",
            "Downloading features.csv to /content/gdrive/My Drive/kaggle/input/jane-street-market-prediction/working\n",
            "  0% 0.00/23.3k [00:00<?, ?B/s]\n",
            "100% 23.3k/23.3k [00:00<00:00, 3.31MB/s]\n",
            "Downloading example_test.csv.zip to /content/gdrive/My Drive/kaggle/input/jane-street-market-prediction/working\n",
            " 55% 9.00M/16.4M [00:00<00:00, 40.0MB/s]\n",
            "100% 16.4M/16.4M [00:00<00:00, 54.6MB/s]\n"
          ],
          "name": "stdout"
        }
      ]
    },
    {
      "cell_type": "markdown",
      "metadata": {
        "id": "MjCJGF3so1rU"
      },
      "source": [
        "We can observe that the train.csv is large: `6GB` and it has `2390492` rows in the file."
      ]
    },
    {
      "cell_type": "code",
      "metadata": {
        "colab": {
          "base_uri": "https://localhost:8080/"
        },
        "id": "M2g7LDGZk-rX",
        "outputId": "2be6997f-925b-427e-efad-ca43bd99615f"
      },
      "source": [
        "#hide_input\n",
        "!wc -l {input_path}train.csv"
      ],
      "execution_count": null,
      "outputs": [
        {
          "output_type": "stream",
          "text": [
            "2390492 /content/gdrive/MyDrive/kaggle/input/jane-street-market-prediction/train.csv\n"
          ],
          "name": "stdout"
        }
      ]
    },
    {
      "cell_type": "markdown",
      "metadata": {
        "id": "iKOzWvE7tEYo"
      },
      "source": [
        "To speed things up here, let's use `datatable` to read the data, and then convert to a pandas dataframe."
      ]
    },
    {
      "cell_type": "code",
      "metadata": {
        "colab": {
          "base_uri": "https://localhost:8080/"
        },
        "id": "PX-44ijqlxEp",
        "outputId": "a668a6f9-48ed-40d0-bc84-be99785adafc"
      },
      "source": [
        "%%time\n",
        "train_dt = dt.fread(f\"{input_path}train.csv\")"
      ],
      "execution_count": null,
      "outputs": [
        {
          "output_type": "stream",
          "text": [
            "CPU times: user 28.6 s, sys: 5.02 s, total: 33.6 s\n",
            "Wall time: 4min 41s\n"
          ],
          "name": "stdout"
        }
      ]
    },
    {
      "cell_type": "code",
      "metadata": {
        "colab": {
          "base_uri": "https://localhost:8080/"
        },
        "id": "HPA-cPVlpf1t",
        "outputId": "051962cb-2dbe-444f-dd85-516a369bc465"
      },
      "source": [
        "%%time\n",
        "train_df = train_dt.to_pandas()"
      ],
      "execution_count": null,
      "outputs": [
        {
          "output_type": "stream",
          "text": [
            "CPU times: user 5.37 s, sys: 3.98 s, total: 9.35 s\n",
            "Wall time: 7.07 s\n"
          ],
          "name": "stdout"
        }
      ]
    },
    {
      "cell_type": "markdown",
      "metadata": {
        "id": "U_RVsA0KtYJX"
      },
      "source": [
        "# Exploration"
      ]
    },
    {
      "cell_type": "markdown",
      "metadata": {
        "id": "0PrdbA1rjPcd"
      },
      "source": [
        "## `resp`"
      ]
    },
    {
      "cell_type": "code",
      "metadata": {
        "colab": {
          "base_uri": "https://localhost:8080/",
          "height": 279
        },
        "id": "OwRKOz5QtiIU",
        "outputId": "436510d2-1694-438e-89c7-bdd877d2f411"
      },
      "source": [
        "#collapse-hide\n",
        "fig,ax = plt.subplots(figsize=(15,5), facecolor=\"#F0F0F0\")\n",
        "balance = pd.Series(train_df['resp'].cumsum())\n",
        "ax.set_xlabel(\"Trade\", fontsize=18)\n",
        "ax.set_ylabel(\"Cumulative resp\", fontsize=18)\n",
        "balance.plot(lw=3)\n",
        "del balance\n",
        "gc.collect()"
      ],
      "execution_count": null,
      "outputs": [
        {
          "output_type": "execute_result",
          "data": {
            "text/plain": [
              "2487"
            ]
          },
          "metadata": {
            "tags": []
          },
          "execution_count": 24
        },
        {
          "output_type": "display_data",
          "data": {
            "image/png": "[encoded data removed]",
            "text/plain": [
              "<Figure size 1080x360 with 1 Axes>"
            ]
          },
          "metadata": {
            "tags": []
          }
        }
      ]
    },
    {
      "cell_type": "markdown",
      "metadata": {
        "id": "OY_afiGWwO_J"
      },
      "source": [
        "as well as four [time horizons](https://www.investopedia.com/terms/t/timehorizon.asp)\n",
        "> The longer the Time Horizon, the more aggressive, or riskier portfolio, ans investor can build. The shorter the Time Horizon, the more conservative, or less risky, the investor may want to adopt."
      ]
    },
    {
      "cell_type": "code",
      "metadata": {
        "colab": {
          "base_uri": "https://localhost:8080/",
          "height": 301
        },
        "id": "PwNkNLOaw4os",
        "outputId": "364c3b5b-2404-457b-e465-7c60b5cd0b63"
      },
      "source": [
        "#collapse-hide\n",
        "fig,ax = plt.subplots(figsize=(15,5), facecolor=\"#F0F0F0\")\n",
        "resps = []\n",
        "for colName, colData in train_df.iteritems():\n",
        "    if ('resp' in colName):\n",
        "        resps.append(colData.cumsum())\n",
        "ax.set_xlabel(\"Trade\", fontsize=18)\n",
        "ax.set_title(\"Cumulative resp and time horizons 1,2,3,4 (500 days)\", fontsize=18)\n",
        "for r in resps: r.plot(lw=3)\n",
        "plt.legend(loc=\"upper left\")\n",
        "del resps; gc.collect()"
      ],
      "execution_count": null,
      "outputs": [
        {
          "output_type": "execute_result",
          "data": {
            "text/plain": [
              "3382"
            ]
          },
          "metadata": {
            "tags": []
          },
          "execution_count": 30
        },
        {
          "output_type": "display_data",
          "data": {
            "image/png": "[encoded data removed]",
            "text/plain": [
              "<Figure size 1080x360 with 1 Axes>"
            ]
          },
          "metadata": {
            "tags": []
          }
        }
      ]
    },
    {
      "cell_type": "markdown",
      "metadata": {
        "id": "441r6qMS0Tr5"
      },
      "source": [
        "We can see that `resp` (in purple) most closely follows time horizon 4 (`resp_4` is the uppermost curve, in red).\n",
        "\n",
        "In the notebook [Jane Street: time horizons and volatilities](https://www.kaggle.com/pcarta/jane-street-time-horizons-and-volatilities) by ***@pcarta***, if I understand correctly, by using maximum likelihood estimation it is calculated that if the time horizon ($T_j$) for `resp_1` (i.e. $T_1$ is 1, then\n",
        "- $T_j$(resp_2) $\\approx 1.4T_1$\n",
        "- $T_j$(resp_3) $\\approx 3.9T_1$\n",
        "- $T_j$(resp_4) $\\approx 11.1T_1$\n",
        "where $T_1$ could correspond to 5 trading days.\n",
        "Let's now plot a histogram of all of the `resp` values (here only shown for values between -0.05 and 0.05)\n"
      ]
    },
    {
      "cell_type": "code",
      "metadata": {
        "colab": {
          "base_uri": "https://localhost:8080/",
          "height": 321
        },
        "id": "SmwflfoJyJMy",
        "outputId": "228b0198-bd66-4bfc-8c18-1358f949ed8d"
      },
      "source": [
        "#collapse-hide\n",
        "fig,ax = plt.subplots(figsize=(12,5), facecolor=\"#F0F0F0\")\n",
        "sns.histplot(\n",
        "    ax=ax,\n",
        "    x=train_df['resp'], \n",
        "    bins=3000, \n",
        "    kde_kws={\"clip\":(-0.05,0.05)}, \n",
        "    binrange=(-0.05,0.05),\n",
        "    color='darkcyan', \n",
        "    kde=False)\n",
        "values = np.array([rec.get_height() for rec in ax.patches])\n",
        "norm = plt.Normalize(values.min(), values.max())\n",
        "colors = plt.cm.jet(norm(values))\n",
        "for rec, col in zip(ax.patches, colors):\n",
        "    rec.set_color(col)\n",
        "plt.xlabel(\"Histogram of the resp values\", size=14)\n",
        "plt.show();\n",
        "del values\n",
        "gc.collect();"
      ],
      "execution_count": null,
      "outputs": [
        {
          "output_type": "display_data",
          "data": {
            "image/png": "[encoded data removed]",
            "text/plain": [
              "<Figure size 864x360 with 1 Axes>"
            ]
          },
          "metadata": {
            "tags": []
          }
        }
      ]
    },
    {
      "cell_type": "markdown",
      "metadata": {
        "id": "ocKUeV-22Trm"
      },
      "source": [
        "This distribution has very long tails"
      ]
    },
    {
      "cell_type": "code",
      "metadata": {
        "colab": {
          "base_uri": "https://localhost:8080/"
        },
        "id": "FikvpWDX4tns",
        "outputId": "79944614-b6c8-4104-8df8-4bbf65ae3e74"
      },
      "source": [
        "#collapse-hide\n",
        "print('The minimum value for resp is : %.5f' %  train_df['resp'].min())\n",
        "print('The minimum value for resp is :  %.5f' % train_df['resp'].max())"
      ],
      "execution_count": null,
      "outputs": [
        {
          "output_type": "stream",
          "text": [
            "The minimum value for resp is : -0.54938\n",
            "The minimum value for resp is :  0.44846\n"
          ],
          "name": "stdout"
        }
      ]
    },
    {
      "cell_type": "markdown",
      "metadata": {
        "id": "OnSyL9Bl6Rgg"
      },
      "source": [
        "Also calculate its' [skew](https://en.wikipedia.org/wiki/Skewness) and [kurtosis](https://en.wikipedia.org/wiki/Kurtosis) of this distribution"
      ]
    },
    {
      "cell_type": "code",
      "metadata": {
        "colab": {
          "base_uri": "https://localhost:8080/"
        },
        "id": "-4ZS_b0c5NFH",
        "outputId": "8d6cc5d8-2d9b-4a3a-8253-65c86c7e17a3"
      },
      "source": [
        "#collapse-hide\n",
        "print(\"Skew of resp is:      %.2f\" % train_df['resp'].skew() )\n",
        "print(\"Kurtosis of resp is: %.2f\"  % train_df['resp'].kurtosis() )"
      ],
      "execution_count": null,
      "outputs": [
        {
          "output_type": "stream",
          "text": [
            "Skew of resp is:      0.10\n",
            "Kurtosis of resp is: 17.36\n"
          ],
          "name": "stdout"
        }
      ]
    },
    {
      "cell_type": "markdown",
      "metadata": {
        "id": "uXSOAVkfjXvm"
      },
      "source": [
        "## `weight`\n",
        "\n",
        "> Each trade has an associated `weight` and `resp`, which together represents a return on the trade. Trades with `weight = 0` were intentionally included in the dataset for completeness, although such trades will not contribute towards the scoring evaluation."
      ]
    },
    {
      "cell_type": "code",
      "metadata": {
        "colab": {
          "base_uri": "https://localhost:8080/"
        },
        "id": "fYC_tW_bjxD8",
        "outputId": "da8a9600-da42-4fbc-80d2-15740b587e89"
      },
      "source": [
        "percent_zeros = (100/train_df.shape[0])*((train_df.weight.values == 0).sum())\n",
        "print('Percentage of zero weights is: %i' % percent_zeros +\"%\")"
      ],
      "execution_count": null,
      "outputs": [
        {
          "output_type": "stream",
          "text": [
            "Percentage of zero weights is: 0%\n"
          ],
          "name": "stdout"
        }
      ]
    },
    {
      "cell_type": "markdown",
      "metadata": {
        "id": "GlAjQYNEkE2R"
      },
      "source": [
        "Let us see if there are any negative weights. A negative weight would be meaningless, but you never know."
      ]
    },
    {
      "cell_type": "code",
      "metadata": {
        "colab": {
          "base_uri": "https://localhost:8080/"
        },
        "id": "vxbvf6-2kRgN",
        "outputId": "047a6584-831c-4ef6-f098-31b9e56bd370"
      },
      "source": [
        "min_weight = train_df['weight'].min()\n",
        "print('The minimum weight is: %.2f' % min_weight)"
      ],
      "execution_count": null,
      "outputs": [
        {
          "output_type": "stream",
          "text": [
            "The minimum weight is: 0.01\n"
          ],
          "name": "stdout"
        }
      ]
    },
    {
      "cell_type": "markdown",
      "metadata": {
        "id": "cLZZ6VUIkVQI"
      },
      "source": [
        "An now to find the maximum weight used"
      ]
    },
    {
      "cell_type": "code",
      "metadata": {
        "colab": {
          "base_uri": "https://localhost:8080/"
        },
        "id": "k7yohDgRkby5",
        "outputId": "1febdd54-23a8-4cf5-e5dc-5bcc46d2773d"
      },
      "source": [
        "max_weight = train_df['weight'].max()\n",
        "print('The maximum weight was: %.2f' % max_weight)"
      ],
      "execution_count": null,
      "outputs": [
        {
          "output_type": "stream",
          "text": [
            "The maximum weight was: 167.29\n"
          ],
          "name": "stdout"
        }
      ]
    },
    {
      "cell_type": "markdown",
      "metadata": {
        "id": "sxOK8acLke2d"
      },
      "source": [
        "which occured on day 446"
      ]
    },
    {
      "cell_type": "code",
      "metadata": {
        "colab": {
          "base_uri": "https://localhost:8080/",
          "height": 129
        },
        "id": "CEqyl4yxkj57",
        "outputId": "c3d2935b-8441-4239-a882-d2f345808336"
      },
      "source": [
        "train_df[train_df['weight']==train_df['weight'].max()]"
      ],
      "execution_count": null,
      "outputs": [
        {
          "output_type": "execute_result",
          "data": {
            "text/html": [
              "<div>\n",
              "<style scoped>\n",
              "    .dataframe tbody tr th:only-of-type {\n",
              "        vertical-align: middle;\n",
              "    }\n",
              "\n",
              "    .dataframe tbody tr th {\n",
              "        vertical-align: top;\n",
              "    }\n",
              "\n",
              "    .dataframe thead th {\n",
              "        text-align: right;\n",
              "    }\n",
              "</style>\n",
              "<table border=\"1\" class=\"dataframe\">\n",
              "  <thead>\n",
              "    <tr style=\"text-align: right;\">\n",
              "      <th></th>\n",
              "      <th>date</th>\n",
              "      <th>weight</th>\n",
              "      <th>resp_1</th>\n",
              "      <th>resp_2</th>\n",
              "      <th>resp_3</th>\n",
              "      <th>resp_4</th>\n",
              "      <th>resp</th>\n",
              "      <th>feature_0</th>\n",
              "      <th>feature_1</th>\n",
              "      <th>feature_2</th>\n",
              "      <th>feature_3</th>\n",
              "      <th>feature_4</th>\n",
              "      <th>feature_5</th>\n",
              "      <th>feature_6</th>\n",
              "      <th>feature_7</th>\n",
              "      <th>feature_8</th>\n",
              "      <th>feature_9</th>\n",
              "      <th>feature_10</th>\n",
              "      <th>feature_11</th>\n",
              "      <th>feature_12</th>\n",
              "      <th>feature_13</th>\n",
              "      <th>feature_14</th>\n",
              "      <th>feature_15</th>\n",
              "      <th>feature_16</th>\n",
              "      <th>feature_17</th>\n",
              "      <th>feature_18</th>\n",
              "      <th>feature_19</th>\n",
              "      <th>feature_20</th>\n",
              "      <th>feature_21</th>\n",
              "      <th>feature_22</th>\n",
              "      <th>feature_23</th>\n",
              "      <th>feature_24</th>\n",
              "      <th>feature_25</th>\n",
              "      <th>feature_26</th>\n",
              "      <th>feature_27</th>\n",
              "      <th>feature_28</th>\n",
              "      <th>feature_29</th>\n",
              "      <th>feature_30</th>\n",
              "      <th>feature_31</th>\n",
              "      <th>feature_32</th>\n",
              "      <th>...</th>\n",
              "      <th>feature_92</th>\n",
              "      <th>feature_93</th>\n",
              "      <th>feature_94</th>\n",
              "      <th>feature_95</th>\n",
              "      <th>feature_96</th>\n",
              "      <th>feature_97</th>\n",
              "      <th>feature_98</th>\n",
              "      <th>feature_99</th>\n",
              "      <th>feature_100</th>\n",
              "      <th>feature_101</th>\n",
              "      <th>feature_102</th>\n",
              "      <th>feature_103</th>\n",
              "      <th>feature_104</th>\n",
              "      <th>feature_105</th>\n",
              "      <th>feature_106</th>\n",
              "      <th>feature_107</th>\n",
              "      <th>feature_108</th>\n",
              "      <th>feature_109</th>\n",
              "      <th>feature_110</th>\n",
              "      <th>feature_111</th>\n",
              "      <th>feature_112</th>\n",
              "      <th>feature_113</th>\n",
              "      <th>feature_114</th>\n",
              "      <th>feature_115</th>\n",
              "      <th>feature_116</th>\n",
              "      <th>feature_117</th>\n",
              "      <th>feature_118</th>\n",
              "      <th>feature_119</th>\n",
              "      <th>feature_120</th>\n",
              "      <th>feature_121</th>\n",
              "      <th>feature_122</th>\n",
              "      <th>feature_123</th>\n",
              "      <th>feature_124</th>\n",
              "      <th>feature_125</th>\n",
              "      <th>feature_126</th>\n",
              "      <th>feature_127</th>\n",
              "      <th>feature_128</th>\n",
              "      <th>feature_129</th>\n",
              "      <th>ts_id</th>\n",
              "      <th>action</th>\n",
              "    </tr>\n",
              "  </thead>\n",
              "  <tbody>\n",
              "    <tr>\n",
              "      <th>1322733</th>\n",
              "      <td>446</td>\n",
              "      <td>167.293716</td>\n",
              "      <td>0.000281</td>\n",
              "      <td>0.001213</td>\n",
              "      <td>0.00138</td>\n",
              "      <td>-0.000427</td>\n",
              "      <td>-0.001215</td>\n",
              "      <td>-1</td>\n",
              "      <td>-0.735754</td>\n",
              "      <td>-0.048433</td>\n",
              "      <td>-0.175366</td>\n",
              "      <td>-0.20698</td>\n",
              "      <td>0.150967</td>\n",
              "      <td>0.23681</td>\n",
              "      <td>0.035755</td>\n",
              "      <td>0.026819</td>\n",
              "      <td>-0.981118</td>\n",
              "      <td>-0.188376</td>\n",
              "      <td>0.069351</td>\n",
              "      <td>0.060235</td>\n",
              "      <td>-0.361906</td>\n",
              "      <td>0.09651</td>\n",
              "      <td>-0.789638</td>\n",
              "      <td>-0.582599</td>\n",
              "      <td>0.110738</td>\n",
              "      <td>0.114945</td>\n",
              "      <td>-0.455587</td>\n",
              "      <td>-0.844032</td>\n",
              "      <td>0.167681</td>\n",
              "      <td>0.177815</td>\n",
              "      <td>-0.3927</td>\n",
              "      <td>-0.804331</td>\n",
              "      <td>-0.527014</td>\n",
              "      <td>-0.93592</td>\n",
              "      <td>0.12584</td>\n",
              "      <td>0.160809</td>\n",
              "      <td>0.560677</td>\n",
              "      <td>1.263861</td>\n",
              "      <td>0.207275</td>\n",
              "      <td>0.252047</td>\n",
              "      <td>...</td>\n",
              "      <td>0.314832</td>\n",
              "      <td>1.342298</td>\n",
              "      <td>1.391578</td>\n",
              "      <td>0.900093</td>\n",
              "      <td>0.401429</td>\n",
              "      <td>-1.338859</td>\n",
              "      <td>0.420475</td>\n",
              "      <td>-0.509267</td>\n",
              "      <td>-1.194013</td>\n",
              "      <td>-0.420336</td>\n",
              "      <td>0.244751</td>\n",
              "      <td>-0.94019</td>\n",
              "      <td>0.320808</td>\n",
              "      <td>-0.237071</td>\n",
              "      <td>-1.781693</td>\n",
              "      <td>0.616443</td>\n",
              "      <td>0.392753</td>\n",
              "      <td>-0.484772</td>\n",
              "      <td>0.417847</td>\n",
              "      <td>-0.253349</td>\n",
              "      <td>-0.843852</td>\n",
              "      <td>-0.468821</td>\n",
              "      <td>0.262442</td>\n",
              "      <td>0.935519</td>\n",
              "      <td>0.288209</td>\n",
              "      <td>0.828683</td>\n",
              "      <td>0.438545</td>\n",
              "      <td>0.57467</td>\n",
              "      <td>-0.92586</td>\n",
              "      <td>0.948026</td>\n",
              "      <td>-1.094062</td>\n",
              "      <td>0.326287</td>\n",
              "      <td>-0.715126</td>\n",
              "      <td>1.490866</td>\n",
              "      <td>-1.111595</td>\n",
              "      <td>1.083793</td>\n",
              "      <td>-0.979801</td>\n",
              "      <td>0.913979</td>\n",
              "      <td>2097681</td>\n",
              "      <td>0</td>\n",
              "    </tr>\n",
              "  </tbody>\n",
              "</table>\n",
              "<p>1 rows × 139 columns</p>\n",
              "</div>"
            ],
            "text/plain": [
              "         date      weight    resp_1  ...  feature_129    ts_id  action\n",
              "1322733   446  167.293716  0.000281  ...     0.913979  2097681       0\n",
              "\n",
              "[1 rows x 139 columns]"
            ]
          },
          "metadata": {
            "tags": []
          },
          "execution_count": 50
        }
      ]
    },
    {
      "cell_type": "markdown",
      "metadata": {
        "id": "GeTGf_hmktVI"
      },
      "source": [
        "Let us take a look at a histogram of the non-zero weights\n",
        "\n"
      ]
    },
    {
      "cell_type": "code",
      "metadata": {
        "colab": {
          "base_uri": "https://localhost:8080/",
          "height": 318
        },
        "id": "IzNN3vBnk1Xo",
        "outputId": "36b5ec4c-112b-4470-b6f8-7db904348fdf"
      },
      "source": [
        "#collapse-hide\n",
        "fig,ax = plt.subplots(figsize = (12,5), facecolor=\"#F0F0F0\")\n",
        "sns.histplot(\n",
        "    ax=ax,\n",
        "    x=train_df['weight'], \n",
        "    bins=1400, \n",
        "    kde_kws={\"clip\":(0.001,1.4)}, \n",
        "    binrange=(0.001,1.4),\n",
        "    color='darkcyan', \n",
        "    kde=False);\n",
        "values = np.array([rec.get_height() for rec in ax.patches])\n",
        "norm = plt.Normalize(values.min(), values.max())\n",
        "colors = plt.cm.jet(norm(values))\n",
        "for rec, col in zip(ax.patches, colors):\n",
        "    rec.set_color(col)\n",
        "plt.xlabel(\"Histogram of non-zero weights\", size=14)\n",
        "plt.show();\n",
        "del values\n",
        "gc.collect();"
      ],
      "execution_count": null,
      "outputs": [
        {
          "output_type": "display_data",
          "data": {
            "image/png": "[encoded data removed]",
            "text/plain": [
              "<Figure size 864x360 with 1 Axes>"
            ]
          },
          "metadata": {
            "tags": []
          }
        }
      ]
    },
    {
      "cell_type": "markdown",
      "metadata": {
        "id": "9RukfepSluzT"
      },
      "source": [
        "https://www.kaggle.com/carlmcbrideellis/jane-street-eda-of-day-0-and-feature-importance"
      ]
    },
    {
      "cell_type": "markdown",
      "metadata": {
        "id": "XzPKoUfh53I4"
      },
      "source": [
        "# HyperParameters"
      ]
    },
    {
      "cell_type": "markdown",
      "metadata": {
        "id": "GpJtt72E5sA4"
      },
      "source": [
        "# Data"
      ]
    },
    {
      "cell_type": "markdown",
      "metadata": {
        "id": "Y3s7Zsve5tNN"
      },
      "source": [
        "## Loading training data"
      ]
    },
    {
      "cell_type": "code",
      "metadata": {
        "id": "9B13mEW86HG6"
      },
      "source": [
        "train_df = train_df.query('date > 85').reset_index(drop=True)\r\n",
        "# limit memory usage\r\n",
        "train_df = train_df.astype({c: np.float32\r\n",
        "    for c in train_df.select_dtypes(include='float64').columns})\r\n",
        "train_df.fillna(train_df.mean(), inplace=True)\r\n",
        "train_df = train_df.query('weight > 0').reset_index(drop = True)\r\n",
        "train_df['action'] = ((train_df['resp_1'] > 0.00001) &\r\n",
        "                      (train_df['resp_2'] > 0.00001) &\r\n",
        "                      (train_df['resp_3'] > 0.00001 ) &\r\n",
        "                      (train_df['resp_4'] > 0.00001 ) &\r\n",
        "                      (train_df['resp'] > 0.00001 )).astype('int')\r\n",
        "\r\n",
        "features = [c for c in train_df.columns if 'feature' in c]\r\n",
        "resp_cols = ['resp', 'resp_1', 'resp_2', 'resp_3', 'resp_4']\r\n",
        "\r\n",
        "x_train = train_df[features].values\r\n",
        "y_train = np.stack([(train_df[col] > 0.000001).astype('int') \r\n",
        "                        for col in resp_cols]).T # Multitarget\r\n",
        "                        \r\n",
        "f_mean = np.mean(train_df[features[1:]].values, axis=0)"
      ],
      "execution_count": null,
      "outputs": []
    },
    {
      "cell_type": "markdown",
      "metadata": {
        "id": "68AjcRXM-jQl"
      },
      "source": [
        "# Model\n",
        "\n",
        "The idea of using an encoder is the denoise the data. After many attempts at using a unsupervised autoencoder, the choice landed on a bottleneck encoder as this will preserve the intra-feature relations."
      ]
    },
    {
      "cell_type": "code",
      "metadata": {
        "id": "Iar6rLcngexY"
      },
      "source": [
        "from sklearn.model_selection import KFold\n",
        "from sklearn.model_selection._split import _BaseKFold, indexable, _num_samples\n",
        "from sklearn.utils.validation import _deprecate_positional_args"
      ],
      "execution_count": null,
      "outputs": []
    },
    {
      "cell_type": "code",
      "metadata": {
        "id": "YhMIklB5g5Cv"
      },
      "source": [
        "#collapse-show\n",
        "# modified code for group gaps; source\n",
        "# https://github.com/getgaurav2/scikit-learn/blob/d4a3af5cc9da3a76f0266932644b884c99724c57/sklearn/model_selection/_split.py#L2243\n",
        "\n",
        "class PurgedGroupTimeSeriesSplit(_BaseKFold):\n",
        "    \"\"\"Time Series cross-validator variant with non-overlapping groups.\n",
        "    Allows for a gap in groups to avoid potentially leaking info from\n",
        "    train into test if the model has windowed or lag features.\n",
        "    Provides train/test indices to split time series data samples\n",
        "    that are observed at fixed time intervals according to a\n",
        "    third-party provided group.\n",
        "    In each split, test indices must be higher than before, and thus shuffling\n",
        "    in cross validator is inappropriate.\n",
        "    This cross-validation object is a variation of :class:`KFold`.\n",
        "    In the kth split, it returns first k folds as train set and the\n",
        "    (k+1)th fold as test set.\n",
        "    The same group will not appear in two different folds (the number of\n",
        "    distinct groups has to be at least equal to the number of folds).\n",
        "    Note that unlike standard cross-validation methods, successive\n",
        "    training sets are supersets of those that come before them.\n",
        "    Read more in the :ref:`User Guide <cross_validation>`.\n",
        "    Parameters\n",
        "    ----------\n",
        "    n_splits : int, default=5\n",
        "        Number of splits. Must be at least 2.\n",
        "    max_train_group_size : int, default=Inf\n",
        "        Maximum group size for a single training set.\n",
        "    group_gap : int, default=None\n",
        "        Gap between train and test\n",
        "    max_test_group_size : int, default=Inf\n",
        "        We discard this number of groups from the end of each train split\n",
        "    \"\"\"\n",
        "\n",
        "    @_deprecate_positional_args\n",
        "    def __init__(self,\n",
        "                 n_splits=5,\n",
        "                 *,\n",
        "                 max_train_group_size=np.inf,\n",
        "                 max_test_group_size=np.inf,\n",
        "                 group_gap=None,\n",
        "                 verbose=False\n",
        "                 ):\n",
        "        super().__init__(n_splits, shuffle=False, random_state=None)\n",
        "        self.max_train_group_size = max_train_group_size\n",
        "        self.group_gap = group_gap\n",
        "        self.max_test_group_size = max_test_group_size\n",
        "        self.verbose = verbose\n",
        "\n",
        "    def split(self, X, y=None, groups=None):\n",
        "        \"\"\"Generate indices to split data into training and test set.\n",
        "        Parameters\n",
        "        ----------\n",
        "        X : array-like of shape (n_samples, n_features)\n",
        "            Training data, where n_samples is the number of samples\n",
        "            and n_features is the number of features.\n",
        "        y : array-like of shape (n_samples,)\n",
        "            Always ignored, exists for compatibility.\n",
        "        groups : array-like of shape (n_samples,)\n",
        "            Group labels for the samples used while splitting the dataset into\n",
        "            train/test set.\n",
        "        Yields\n",
        "        ------\n",
        "        train : ndarray\n",
        "            The training set indices for that split.\n",
        "        test : ndarray\n",
        "            The testing set indices for that split.\n",
        "        \"\"\"\n",
        "        if groups is None:\n",
        "            raise ValueError(\n",
        "                \"The 'groups' parameter should not be None\")\n",
        "        X, y, groups = indexable(X, y, groups)\n",
        "        n_samples = _num_samples(X)\n",
        "        n_splits = self.n_splits\n",
        "        group_gap = self.group_gap\n",
        "        max_test_group_size = self.max_test_group_size\n",
        "        max_train_group_size = self.max_train_group_size\n",
        "        n_folds = n_splits + 1\n",
        "        group_dict = {}\n",
        "        u, ind = np.unique(groups, return_index=True)\n",
        "        unique_groups = u[np.argsort(ind)]\n",
        "        n_samples = _num_samples(X)\n",
        "        n_groups = _num_samples(unique_groups)\n",
        "        for idx in np.arange(n_samples):\n",
        "            if (groups[idx] in group_dict):\n",
        "                group_dict[groups[idx]].append(idx)\n",
        "            else:\n",
        "                group_dict[groups[idx]] = [idx]\n",
        "        if n_folds > n_groups:\n",
        "            raise ValueError(\n",
        "                (\"Cannot have number of folds={0} greater than\"\n",
        "                 \" the number of groups={1}\").format(n_folds,\n",
        "                                                     n_groups))\n",
        "\n",
        "        group_test_size = min(n_groups // n_folds, max_test_group_size)\n",
        "        group_test_starts = range(n_groups - n_splits * group_test_size,\n",
        "                                  n_groups, group_test_size)\n",
        "        for group_test_start in group_test_starts:\n",
        "            train_array = []\n",
        "            test_array = []\n",
        "\n",
        "            group_st = max(0, group_test_start - group_gap - max_train_group_size)\n",
        "            for train_group_idx in unique_groups[group_st:(group_test_start - group_gap)]:\n",
        "                train_array_tmp = group_dict[train_group_idx]\n",
        "                \n",
        "                train_array = np.sort(np.unique(\n",
        "                                      np.concatenate((train_array,\n",
        "                                                      train_array_tmp)),\n",
        "                                      axis=None), axis=None)\n",
        "\n",
        "            train_end = train_array.size\n",
        " \n",
        "            for test_group_idx in unique_groups[group_test_start:\n",
        "                                                group_test_start +\n",
        "                                                group_test_size]:\n",
        "                test_array_tmp = group_dict[test_group_idx]\n",
        "                test_array = np.sort(np.unique(\n",
        "                                              np.concatenate((test_array,\n",
        "                                                              test_array_tmp)),\n",
        "                                     axis=None), axis=None)\n",
        "\n",
        "            test_array  = test_array[group_gap:]\n",
        "            \n",
        "            \n",
        "            if self.verbose > 0:\n",
        "                    pass\n",
        "                    \n",
        "            yield [int(i) for i in train_array], [int(i) for i in test_array]"
      ],
      "execution_count": null,
      "outputs": []
    },
    {
      "cell_type": "code",
      "metadata": {
        "id": "4M5D23bygyo8"
      },
      "source": [
        "#collapse-show\n",
        "class CVTuner(kt.engine.tuner.Tuner):\n",
        "    def run_trial(self, trial, X, y, splits, batch_size=32, epochs=1,callbacks=None):\n",
        "        val_losses = []\n",
        "        for train_indices, test_indices in splits:\n",
        "            X_train, X_test = [x[train_indices] for x in X], [x[test_indices] for x in X]\n",
        "            y_train, y_test = [a[train_indices] for a in y], [a[test_indices] for a in y]\n",
        "            if len(X_train) < 2:\n",
        "                X_train = X_train[0]\n",
        "                X_test = X_test[0]\n",
        "            if len(y_train) < 2:\n",
        "                y_train = y_train[0]\n",
        "                y_test = y_test[0]\n",
        "            \n",
        "            model = self.hypermodel.build(trial.hyperparameters)\n",
        "            hist = model.fit(X_train,y_train,\n",
        "                      validation_data=(X_test,y_test),\n",
        "                      epochs=epochs,\n",
        "                        batch_size=batch_size,\n",
        "                      callbacks=callbacks)\n",
        "            \n",
        "            val_losses.append([hist.history[k][-1] for k in hist.history])\n",
        "        val_losses = np.asarray(val_losses)\n",
        "        self.oracle.update_trial(trial.trial_id, {k:np.mean(val_losses[:,i]) for i,k in enumerate(hist.history.keys())})\n",
        "        self.save_model(trial.trial_id, model)"
      ],
      "execution_count": null,
      "outputs": []
    },
    {
      "cell_type": "markdown",
      "metadata": {
        "id": "MtwblMShCDYh"
      },
      "source": [
        "## Building the autoencoder\n",
        "\n",
        "The autoencoder should aid in denoising the data based on [this](https://www.semanticscholar.org/paper/Deep-Bottleneck-Classifiers-in-Supervised-Dimension-Parviainen/fb86483f7573f6430fe4597432b0cd3e34b16e43) paper."
      ]
    },
    {
      "cell_type": "code",
      "metadata": {
        "id": "Ce7QkKta-riB"
      },
      "source": [
        "def build_autoencoder(input_dim, output_dim, noise=.05):\n",
        "    inputs = tf.keras.layers.Input(input_dim)\n",
        "    encoded = tf.keras.layers.BatchNormalization()(inputs)\n",
        "    encoded = tf.keras.layers.GaussianNoise(noise)(encoded)\n",
        "    encoded = tf.keras.layers.Dense(640, activation='relu')(encoded)\n",
        "    decoded = tf.keras.layers.Dropout(0.2)(encoded)\n",
        "    decoded = tf.keras.layers.Dense(input_dim, name='decoded')(decoded)\n",
        "    x = tf.keras.layers.Dense(320, activation='relu')(decoded)\n",
        "    x = tf.keras.layers.BatchNormalization()(x)\n",
        "    x = tf.keras.layers.Dropout(0.2)(x)\n",
        "    x = tf.keras.layers.Dense(output_dim, activation='sigmoid',\n",
        "                              name='label_output')(x)\n",
        "\n",
        "    encoder = tf.keras.models.Model(inputs=inputs, outputs=encoded)\n",
        "\n",
        "    autoencoder = tf.keras.models.Model(inputs=inputs, outputs=[decoded,x])\n",
        "    autoencoder.compile(optimizer=tf.keras.optimizers.Adam(0.001),\n",
        "                        loss={'decoded':'mse',\n",
        "                              'label_output':'binary_crossentropy'})\n",
        "    return autoencoder, encoder"
      ],
      "execution_count": null,
      "outputs": []
    },
    {
      "cell_type": "markdown",
      "metadata": {
        "id": "zpXA-UOkCH0l"
      },
      "source": [
        "## Building the MLP"
      ]
    },
    {
      "cell_type": "code",
      "metadata": {
        "id": "h6R0rSS2A3Uh"
      },
      "source": [
        "def build_model(hp, input_dim, output_dim, encoder):\n",
        "    inputs = tf.keras.layers.Input(input_dim)\n",
        "    \n",
        "    x = encoder(inputs)\n",
        "    \n",
        "    x = tf.keras.layers.Concatenate()([x,inputs]) #use both raw and encoded features\n",
        "    x = tf.keras.layers.BatchNormalization()(x)\n",
        "    x = tf.keras.layers.Dropout(hp.Float('init_dropout',0.0,0.5))(x)\n",
        "    \n",
        "    for i in range(hp.Int('num_layers',1,5)):\n",
        "        x = tf.keras.layers.Dense(hp.Int('num_units_{i}',128,256))(x)\n",
        "        x = tf.keras.layers.BatchNormalization()(x)\n",
        "        x = tf.keras.layers.Lambda(tf.keras.activations.swish)(x)\n",
        "        x = tf.keras.layers.Dropout(hp.Float(f'dropout_{i}',0.0,0.5))(x)\n",
        "\n",
        "    x = tf.keras.layers.Dense(output_dim,activation='sigmoid')(x)\n",
        "\n",
        "    model = tf.keras.models.Model(inputs=inputs, outputs=x)\n",
        "\n",
        "    model.compile(optimizer = tf.keras.optimizers.Adam(\n",
        "                    hp.Float('lr',0.00001,0.1,default=0.001)),\n",
        "                  loss = tf.keras.losses.BinaryCrossentropy(\n",
        "                    label_smoothing = hp.Float('label_smoothing',0.0,0.1)),\n",
        "                  metrics = [tf.keras.metrics.AUC(name = 'auc')])\n",
        "    return model"
      ],
      "execution_count": null,
      "outputs": []
    },
    {
      "cell_type": "markdown",
      "metadata": {
        "id": "vN8xSjQKCoct"
      },
      "source": [
        "## Building a model\n",
        "\n",
        "We add gaussian noise with mean and std from training datea. After training we lock the layersfin the encoder from further training."
      ]
    },
    {
      "cell_type": "markdown",
      "metadata": {
        "id": "Z7nfbT-JNRyG"
      },
      "source": [
        "# Optimizer"
      ]
    },
    {
      "cell_type": "markdown",
      "metadata": {
        "id": "qwXCtxGsNUjW"
      },
      "source": [
        "# Callbacks"
      ]
    },
    {
      "cell_type": "code",
      "metadata": {
        "id": "DOvB2EU4N1VU"
      },
      "source": [
        "callbacks = [\n",
        "    tf.keras.callbacks.EarlyStopping(\n",
        "        monitor='val_loss',\n",
        "        patience=10,\n",
        "        restore_best_weights=True,\n",
        "        verbose=1)\n",
        "    ]"
      ],
      "execution_count": null,
      "outputs": []
    },
    {
      "cell_type": "markdown",
      "metadata": {
        "id": "PDyQa_zRbE79"
      },
      "source": [
        "## Training"
      ]
    },
    {
      "cell_type": "code",
      "metadata": {
        "id": "dLihzHoHDBMC"
      },
      "source": [
        "#with strategy.scope():\n",
        "autoencoder,encoder = build_autoencoder(\n",
        "    x_train.shape[-1], y_train.shape[-1], noise=.1)"
      ],
      "execution_count": null,
      "outputs": []
    },
    {
      "cell_type": "code",
      "metadata": {
        "colab": {
          "base_uri": "https://localhost:8080/"
        },
        "id": "Gl_T9jkcOuxV",
        "outputId": "14a55a7e-c87b-40a4-d34d-5b4f4e67aae2"
      },
      "source": [
        "autoencoder.summary()"
      ],
      "execution_count": null,
      "outputs": [
        {
          "output_type": "stream",
          "text": [
            "Model: \"model_5\"\n",
            "_________________________________________________________________\n",
            "Layer (type)                 Output Shape              Param #   \n",
            "=================================================================\n",
            "input_3 (InputLayer)         [(None, 130)]             0         \n",
            "_________________________________________________________________\n",
            "batch_normalization_4 (Batch (None, 130)               520       \n",
            "_________________________________________________________________\n",
            "gaussian_noise_2 (GaussianNo (None, 130)               0         \n",
            "_________________________________________________________________\n",
            "dense_4 (Dense)              (None, 640)               83840     \n",
            "_________________________________________________________________\n",
            "dropout_4 (Dropout)          (None, 640)               0         \n",
            "_________________________________________________________________\n",
            "decoded (Dense)              (None, 130)               83330     \n",
            "_________________________________________________________________\n",
            "dense_5 (Dense)              (None, 320)               41920     \n",
            "_________________________________________________________________\n",
            "batch_normalization_5 (Batch (None, 320)               1280      \n",
            "_________________________________________________________________\n",
            "dropout_5 (Dropout)          (None, 320)               0         \n",
            "_________________________________________________________________\n",
            "label_output (Dense)         (None, 5)                 1605      \n",
            "=================================================================\n",
            "Total params: 212,495\n",
            "Trainable params: 211,595\n",
            "Non-trainable params: 900\n",
            "_________________________________________________________________\n"
          ],
          "name": "stdout"
        }
      ]
    },
    {
      "cell_type": "code",
      "metadata": {
        "colab": {
          "base_uri": "https://localhost:8080/"
        },
        "id": "aOpeqEl9LbaB",
        "outputId": "723f6818-4dd6-434a-a79e-bbfdb53c747c"
      },
      "source": [
        "#collapse-output\n",
        "history = autoencoder.fit(\n",
        "    x_train,\n",
        "    (x_train, y_train),\n",
        "    epochs=1002,\n",
        "    batch_size=16384,\n",
        "    validation_split=0.1,\n",
        "    callbacks=callbacks\n",
        ")"
      ],
      "execution_count": null,
      "outputs": [
        {
          "output_type": "stream",
          "text": [
            "Epoch 1/1002\n",
            "87/87 [==============================] - 6s 37ms/step - loss: 3.2765 - decoded_loss: 2.5013 - label_output_loss: 0.7752 - val_loss: 1.1174 - val_decoded_loss: 0.4225 - val_label_output_loss: 0.6949\n",
            "Epoch 2/1002\n",
            "87/87 [==============================] - 3s 30ms/step - loss: 1.1679 - decoded_loss: 0.4596 - label_output_loss: 0.7083 - val_loss: 0.8400 - val_decoded_loss: 0.1500 - val_label_output_loss: 0.6899\n",
            "Epoch 3/1002\n",
            "87/87 [==============================] - 3s 29ms/step - loss: 1.0435 - decoded_loss: 0.3474 - label_output_loss: 0.6961 - val_loss: 0.7875 - val_decoded_loss: 0.0986 - val_label_output_loss: 0.6889\n",
            "Epoch 4/1002\n",
            "87/87 [==============================] - 2s 29ms/step - loss: 0.9867 - decoded_loss: 0.2949 - label_output_loss: 0.6918 - val_loss: 0.7706 - val_decoded_loss: 0.0816 - val_label_output_loss: 0.6890\n",
            "Epoch 5/1002\n",
            "87/87 [==============================] - 3s 29ms/step - loss: 1.0088 - decoded_loss: 0.3185 - label_output_loss: 0.6903 - val_loss: 0.7628 - val_decoded_loss: 0.0742 - val_label_output_loss: 0.6886\n",
            "Epoch 6/1002\n",
            "87/87 [==============================] - 3s 30ms/step - loss: 0.9435 - decoded_loss: 0.2538 - label_output_loss: 0.6898 - val_loss: 0.7582 - val_decoded_loss: 0.0695 - val_label_output_loss: 0.6887\n",
            "Epoch 7/1002\n",
            "87/87 [==============================] - 3s 29ms/step - loss: 0.9328 - decoded_loss: 0.2433 - label_output_loss: 0.6895 - val_loss: 0.7504 - val_decoded_loss: 0.0622 - val_label_output_loss: 0.6882\n",
            "Epoch 8/1002\n",
            "87/87 [==============================] - 3s 29ms/step - loss: 0.9254 - decoded_loss: 0.2361 - label_output_loss: 0.6893 - val_loss: 0.7489 - val_decoded_loss: 0.0604 - val_label_output_loss: 0.6885\n",
            "Epoch 9/1002\n",
            "87/87 [==============================] - 3s 29ms/step - loss: 0.9405 - decoded_loss: 0.2513 - label_output_loss: 0.6892 - val_loss: 0.7476 - val_decoded_loss: 0.0591 - val_label_output_loss: 0.6884\n",
            "Epoch 10/1002\n",
            "87/87 [==============================] - 2s 29ms/step - loss: 0.9278 - decoded_loss: 0.2386 - label_output_loss: 0.6892 - val_loss: 0.7449 - val_decoded_loss: 0.0567 - val_label_output_loss: 0.6882\n",
            "Epoch 11/1002\n",
            "87/87 [==============================] - 3s 29ms/step - loss: 0.9307 - decoded_loss: 0.2416 - label_output_loss: 0.6891 - val_loss: 0.7427 - val_decoded_loss: 0.0545 - val_label_output_loss: 0.6883\n",
            "Epoch 12/1002\n",
            "87/87 [==============================] - 3s 29ms/step - loss: 0.9113 - decoded_loss: 0.2225 - label_output_loss: 0.6888 - val_loss: 0.7406 - val_decoded_loss: 0.0520 - val_label_output_loss: 0.6885\n",
            "Epoch 13/1002\n",
            "87/87 [==============================] - 3s 29ms/step - loss: 0.9149 - decoded_loss: 0.2260 - label_output_loss: 0.6890 - val_loss: 0.7387 - val_decoded_loss: 0.0505 - val_label_output_loss: 0.6882\n",
            "Epoch 14/1002\n",
            "87/87 [==============================] - 3s 29ms/step - loss: 0.9261 - decoded_loss: 0.2374 - label_output_loss: 0.6887 - val_loss: 0.7384 - val_decoded_loss: 0.0503 - val_label_output_loss: 0.6881\n",
            "Epoch 15/1002\n",
            "87/87 [==============================] - 3s 29ms/step - loss: 0.9222 - decoded_loss: 0.2335 - label_output_loss: 0.6886 - val_loss: 0.7387 - val_decoded_loss: 0.0503 - val_label_output_loss: 0.6885\n",
            "Epoch 16/1002\n",
            "87/87 [==============================] - 3s 29ms/step - loss: 0.9061 - decoded_loss: 0.2176 - label_output_loss: 0.6885 - val_loss: 0.7372 - val_decoded_loss: 0.0490 - val_label_output_loss: 0.6882\n",
            "Epoch 17/1002\n",
            "87/87 [==============================] - 3s 30ms/step - loss: 0.9178 - decoded_loss: 0.2292 - label_output_loss: 0.6886 - val_loss: 0.7405 - val_decoded_loss: 0.0526 - val_label_output_loss: 0.6879\n",
            "Epoch 18/1002\n",
            "87/87 [==============================] - 3s 29ms/step - loss: 0.8941 - decoded_loss: 0.2057 - label_output_loss: 0.6884 - val_loss: 0.7379 - val_decoded_loss: 0.0499 - val_label_output_loss: 0.6880\n",
            "Epoch 19/1002\n",
            "87/87 [==============================] - 3s 29ms/step - loss: 0.9067 - decoded_loss: 0.2183 - label_output_loss: 0.6884 - val_loss: 0.7360 - val_decoded_loss: 0.0482 - val_label_output_loss: 0.6878\n",
            "Epoch 20/1002\n",
            "87/87 [==============================] - 3s 30ms/step - loss: 0.9197 - decoded_loss: 0.2313 - label_output_loss: 0.6884 - val_loss: 0.7385 - val_decoded_loss: 0.0505 - val_label_output_loss: 0.6880\n",
            "Epoch 21/1002\n",
            "87/87 [==============================] - 3s 30ms/step - loss: 0.9045 - decoded_loss: 0.2163 - label_output_loss: 0.6882 - val_loss: 0.7391 - val_decoded_loss: 0.0511 - val_label_output_loss: 0.6880\n",
            "Epoch 22/1002\n",
            "87/87 [==============================] - 3s 29ms/step - loss: 0.8970 - decoded_loss: 0.2088 - label_output_loss: 0.6882 - val_loss: 0.7384 - val_decoded_loss: 0.0504 - val_label_output_loss: 0.6880\n",
            "Epoch 23/1002\n",
            "87/87 [==============================] - 2s 29ms/step - loss: 0.9360 - decoded_loss: 0.2479 - label_output_loss: 0.6881 - val_loss: 0.7339 - val_decoded_loss: 0.0461 - val_label_output_loss: 0.6878\n",
            "Epoch 24/1002\n",
            "87/87 [==============================] - 3s 29ms/step - loss: 0.8909 - decoded_loss: 0.2028 - label_output_loss: 0.6881 - val_loss: 0.7393 - val_decoded_loss: 0.0510 - val_label_output_loss: 0.6882\n",
            "Epoch 25/1002\n",
            "87/87 [==============================] - 3s 30ms/step - loss: 0.8966 - decoded_loss: 0.2086 - label_output_loss: 0.6880 - val_loss: 0.7351 - val_decoded_loss: 0.0471 - val_label_output_loss: 0.6880\n",
            "Epoch 26/1002\n",
            "87/87 [==============================] - 3s 29ms/step - loss: 0.9049 - decoded_loss: 0.2171 - label_output_loss: 0.6879 - val_loss: 0.7315 - val_decoded_loss: 0.0435 - val_label_output_loss: 0.6880\n",
            "Epoch 27/1002\n",
            "87/87 [==============================] - 3s 29ms/step - loss: 0.8959 - decoded_loss: 0.2081 - label_output_loss: 0.6878 - val_loss: 0.7348 - val_decoded_loss: 0.0468 - val_label_output_loss: 0.6880\n",
            "Epoch 28/1002\n",
            "87/87 [==============================] - 3s 30ms/step - loss: 0.8936 - decoded_loss: 0.2058 - label_output_loss: 0.6878 - val_loss: 0.7347 - val_decoded_loss: 0.0468 - val_label_output_loss: 0.6879\n",
            "Epoch 29/1002\n",
            "87/87 [==============================] - 3s 29ms/step - loss: 0.8993 - decoded_loss: 0.2116 - label_output_loss: 0.6877 - val_loss: 0.7346 - val_decoded_loss: 0.0467 - val_label_output_loss: 0.6878\n",
            "Epoch 30/1002\n",
            "87/87 [==============================] - 3s 30ms/step - loss: 0.9043 - decoded_loss: 0.2166 - label_output_loss: 0.6876 - val_loss: 0.7349 - val_decoded_loss: 0.0470 - val_label_output_loss: 0.6878\n",
            "Epoch 31/1002\n",
            "87/87 [==============================] - 3s 30ms/step - loss: 0.8943 - decoded_loss: 0.2067 - label_output_loss: 0.6877 - val_loss: 0.7352 - val_decoded_loss: 0.0471 - val_label_output_loss: 0.6880\n",
            "Epoch 32/1002\n",
            "87/87 [==============================] - 3s 30ms/step - loss: 0.9031 - decoded_loss: 0.2156 - label_output_loss: 0.6875 - val_loss: 0.7362 - val_decoded_loss: 0.0482 - val_label_output_loss: 0.6880\n",
            "Epoch 33/1002\n",
            "87/87 [==============================] - 3s 29ms/step - loss: 0.9025 - decoded_loss: 0.2151 - label_output_loss: 0.6874 - val_loss: 0.7322 - val_decoded_loss: 0.0438 - val_label_output_loss: 0.6884\n",
            "Epoch 34/1002\n",
            "87/87 [==============================] - 3s 30ms/step - loss: 0.8991 - decoded_loss: 0.2117 - label_output_loss: 0.6874 - val_loss: 0.7318 - val_decoded_loss: 0.0439 - val_label_output_loss: 0.6879\n",
            "Epoch 35/1002\n",
            "87/87 [==============================] - 3s 29ms/step - loss: 0.8955 - decoded_loss: 0.2081 - label_output_loss: 0.6873 - val_loss: 0.7316 - val_decoded_loss: 0.0437 - val_label_output_loss: 0.6879\n",
            "Epoch 36/1002\n",
            "87/87 [==============================] - 3s 31ms/step - loss: 0.9228 - decoded_loss: 0.2355 - label_output_loss: 0.6874 - val_loss: 0.7311 - val_decoded_loss: 0.0429 - val_label_output_loss: 0.6883\n",
            "Epoch 37/1002\n",
            "87/87 [==============================] - 3s 30ms/step - loss: 0.8863 - decoded_loss: 0.1990 - label_output_loss: 0.6873 - val_loss: 0.7334 - val_decoded_loss: 0.0454 - val_label_output_loss: 0.6880\n",
            "Epoch 38/1002\n",
            "87/87 [==============================] - 3s 30ms/step - loss: 0.8938 - decoded_loss: 0.2067 - label_output_loss: 0.6871 - val_loss: 0.7317 - val_decoded_loss: 0.0436 - val_label_output_loss: 0.6881\n",
            "Epoch 39/1002\n",
            "87/87 [==============================] - 3s 29ms/step - loss: 0.8955 - decoded_loss: 0.2082 - label_output_loss: 0.6873 - val_loss: 0.7321 - val_decoded_loss: 0.0441 - val_label_output_loss: 0.6880\n",
            "Epoch 40/1002\n",
            "87/87 [==============================] - 3s 29ms/step - loss: 0.8989 - decoded_loss: 0.2117 - label_output_loss: 0.6872 - val_loss: 0.7318 - val_decoded_loss: 0.0436 - val_label_output_loss: 0.6883\n",
            "Epoch 41/1002\n",
            "87/87 [==============================] - 3s 29ms/step - loss: 0.8904 - decoded_loss: 0.2033 - label_output_loss: 0.6872 - val_loss: 0.7285 - val_decoded_loss: 0.0404 - val_label_output_loss: 0.6881\n",
            "Epoch 42/1002\n",
            "87/87 [==============================] - 3s 29ms/step - loss: 0.8889 - decoded_loss: 0.2018 - label_output_loss: 0.6870 - val_loss: 0.7344 - val_decoded_loss: 0.0460 - val_label_output_loss: 0.6884\n",
            "Epoch 43/1002\n",
            "87/87 [==============================] - 3s 30ms/step - loss: 0.8896 - decoded_loss: 0.2025 - label_output_loss: 0.6871 - val_loss: 0.7299 - val_decoded_loss: 0.0418 - val_label_output_loss: 0.6881\n",
            "Epoch 44/1002\n",
            "87/87 [==============================] - 3s 30ms/step - loss: 0.9085 - decoded_loss: 0.2213 - label_output_loss: 0.6871 - val_loss: 0.7323 - val_decoded_loss: 0.0441 - val_label_output_loss: 0.6882\n",
            "Epoch 45/1002\n",
            "87/87 [==============================] - 3s 30ms/step - loss: 0.8972 - decoded_loss: 0.2104 - label_output_loss: 0.6867 - val_loss: 0.7300 - val_decoded_loss: 0.0421 - val_label_output_loss: 0.6879\n",
            "Epoch 46/1002\n",
            "87/87 [==============================] - 3s 30ms/step - loss: 0.9084 - decoded_loss: 0.2216 - label_output_loss: 0.6868 - val_loss: 0.7313 - val_decoded_loss: 0.0433 - val_label_output_loss: 0.6880\n",
            "Epoch 47/1002\n",
            "87/87 [==============================] - 3s 30ms/step - loss: 0.8876 - decoded_loss: 0.2007 - label_output_loss: 0.6869 - val_loss: 0.7336 - val_decoded_loss: 0.0452 - val_label_output_loss: 0.6885\n",
            "Epoch 48/1002\n",
            "87/87 [==============================] - 3s 30ms/step - loss: 0.8860 - decoded_loss: 0.1993 - label_output_loss: 0.6867 - val_loss: 0.7272 - val_decoded_loss: 0.0390 - val_label_output_loss: 0.6881\n",
            "Epoch 49/1002\n",
            "87/87 [==============================] - 3s 30ms/step - loss: 0.8836 - decoded_loss: 0.1968 - label_output_loss: 0.6868 - val_loss: 0.7306 - val_decoded_loss: 0.0423 - val_label_output_loss: 0.6883\n",
            "Epoch 50/1002\n",
            "87/87 [==============================] - 3s 30ms/step - loss: 0.8836 - decoded_loss: 0.1970 - label_output_loss: 0.6866 - val_loss: 0.7289 - val_decoded_loss: 0.0407 - val_label_output_loss: 0.6882\n",
            "Epoch 51/1002\n",
            "87/87 [==============================] - 3s 29ms/step - loss: 0.8905 - decoded_loss: 0.2038 - label_output_loss: 0.6866 - val_loss: 0.7317 - val_decoded_loss: 0.0433 - val_label_output_loss: 0.6884\n",
            "Epoch 52/1002\n",
            "87/87 [==============================] - 3s 29ms/step - loss: 0.8814 - decoded_loss: 0.1949 - label_output_loss: 0.6865 - val_loss: 0.7290 - val_decoded_loss: 0.0409 - val_label_output_loss: 0.6880\n",
            "Epoch 53/1002\n",
            "87/87 [==============================] - 3s 30ms/step - loss: 0.8897 - decoded_loss: 0.2029 - label_output_loss: 0.6868 - val_loss: 0.7281 - val_decoded_loss: 0.0399 - val_label_output_loss: 0.6883\n",
            "Epoch 54/1002\n",
            "87/87 [==============================] - 3s 30ms/step - loss: 0.8829 - decoded_loss: 0.1964 - label_output_loss: 0.6865 - val_loss: 0.7303 - val_decoded_loss: 0.0419 - val_label_output_loss: 0.6883\n",
            "Epoch 55/1002\n",
            "87/87 [==============================] - 3s 30ms/step - loss: 0.8815 - decoded_loss: 0.1951 - label_output_loss: 0.6864 - val_loss: 0.7294 - val_decoded_loss: 0.0413 - val_label_output_loss: 0.6881\n",
            "Epoch 56/1002\n",
            "87/87 [==============================] - 3s 30ms/step - loss: 0.8809 - decoded_loss: 0.1945 - label_output_loss: 0.6864 - val_loss: 0.7286 - val_decoded_loss: 0.0406 - val_label_output_loss: 0.6880\n",
            "Epoch 57/1002\n",
            "87/87 [==============================] - 3s 30ms/step - loss: 0.8834 - decoded_loss: 0.1970 - label_output_loss: 0.6864 - val_loss: 0.7286 - val_decoded_loss: 0.0405 - val_label_output_loss: 0.6880\n",
            "Epoch 58/1002\n",
            "87/87 [==============================] - 3s 30ms/step - loss: 0.9081 - decoded_loss: 0.2218 - label_output_loss: 0.6864 - val_loss: 0.7275 - val_decoded_loss: 0.0396 - val_label_output_loss: 0.6879\n",
            "Restoring model weights from the end of the best epoch.\n",
            "Epoch 00058: early stopping\n"
          ],
          "name": "stdout"
        }
      ]
    },
    {
      "cell_type": "code",
      "metadata": {
        "id": "9dpIg0R4Mioe"
      },
      "source": [
        "encoder.save_weights('encoder.hdf5')"
      ],
      "execution_count": null,
      "outputs": []
    },
    {
      "cell_type": "code",
      "metadata": {
        "id": "sm_J5svJeeC-"
      },
      "source": [
        "encoder.trainable = False"
      ],
      "execution_count": null,
      "outputs": []
    },
    {
      "cell_type": "markdown",
      "metadata": {
        "id": "bWMxsmOhhKq8"
      },
      "source": [
        "## Running CV\n",
        "Following [this notebook](https://www.kaggle.com/gogo827jz/jane-street-ffill-xgboost-purgedtimeseriescv) which use 5 `PurgedGroupTimeSeriesSplit` split on the dates in the training data.\n",
        "\n",
        "We add the locked encoder as the first layer of the MLP. This seems to help in speeding up the submission rather than first predicting using the encoder then using the MLP.\n",
        "\n",
        "We use a Baysian Optimizer to find the optimal HPs for out model. 20 trials take about 2 hours on GPU."
      ]
    },
    {
      "cell_type": "code",
      "metadata": {
        "id": "Fdptm-xzh8x7"
      },
      "source": [
        "#hide\n",
        "#https://medium.com/@micwurm/using-tensorflow-lite-to-speed-up-predictions-a3954886eb98\n",
        "\n",
        "class LiteModel:\n",
        "    \n",
        "    @classmethod\n",
        "    def from_file(cls, model_path):\n",
        "        return LiteModel(tf.lite.Interpreter(model_path=model_path))\n",
        "    \n",
        "    @classmethod\n",
        "    def from_keras_model(cls, kmodel):\n",
        "        converter = tf.lite.TFLiteConverter.from_keras_model(kmodel)\n",
        "        tflite_model = converter.convert()\n",
        "        return LiteModel(tf.lite.Interpreter(model_content=tflite_model))\n",
        "    \n",
        "    def __init__(self, interpreter):\n",
        "        self.interpreter = interpreter\n",
        "        self.interpreter.allocate_tensors()\n",
        "        input_det = self.interpreter.get_input_details()[0]\n",
        "        output_det = self.interpreter.get_output_details()[0]\n",
        "        self.input_index = input_det[\"index\"]\n",
        "        self.output_index = output_det[\"index\"]\n",
        "        self.input_shape = input_det[\"shape\"]\n",
        "        self.output_shape = output_det[\"shape\"]\n",
        "        self.input_dtype = input_det[\"dtype\"]\n",
        "        self.output_dtype = output_det[\"dtype\"]\n",
        "        \n",
        "    def predict(self, inp):\n",
        "        inp = inp.astype(self.input_dtype)\n",
        "        count = inp.shape[0]\n",
        "        out = np.zeros((count, self.output_shape[1]), dtype=self.output_dtype)\n",
        "        for i in range(count):\n",
        "            self.interpreter.set_tensor(self.input_index, inp[i:i+1])\n",
        "            self.interpreter.invoke()\n",
        "            out[i] = self.interpreter.get_tensor(self.output_index)[0]\n",
        "        return out\n",
        "    \n",
        "    def predict_single(self, inp):\n",
        "        \"\"\" Like predict(), but only for a single record. The input data can be a Python list. \"\"\"\n",
        "        inp = np.array([inp], dtype=self.input_dtype)\n",
        "        self.interpreter.set_tensor(self.input_index, inp)\n",
        "        self.interpreter.invoke()\n",
        "        out = self.interpreter.get_tensor(self.output_index)\n",
        "        return out[0]"
      ],
      "execution_count": null,
      "outputs": []
    },
    {
      "cell_type": "code",
      "metadata": {
        "id": "1gSLY6Q0ehFa"
      },
      "source": [
        "model_fn = lambda hp: build_model(\n",
        "    hp, x_train.shape[-1], y_train.shape[-1], encoder)"
      ],
      "execution_count": null,
      "outputs": []
    }
  ]
}