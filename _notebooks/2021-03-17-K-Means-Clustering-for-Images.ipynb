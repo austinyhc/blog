{
  "nbformat": 4,
  "nbformat_minor": 0,
  "metadata": {
    "colab": {
      "name": "2021-03-17-K-Means-Clustering-for-Images.ipynb",
      "provenance": [],
      "authorship_tag": "ABX9TyNwf+gS5gBXrAkPCr2KQHmW"
    },
    "kernelspec": {
      "name": "python3",
      "display_name": "Python 3"
    }
  },
  "cells": [
    {
      "cell_type": "markdown",
      "metadata": {
        "id": "_JqrvCZoEY6s"
      },
      "source": [
        "# K-Means Clustering for Images\r\n",
        "> In this post, we will use a K-means algorithm to perform image classification. Clustering isn't limited to the consumer information and population sciences, it can be used for imagery analysis as well. Leveraging Scikit-learn and the MNIST dataset, we will investigate the use of K-means clustering for computer vision.\r\n",
        "\r\n",
        "- toc: true \r\n",
        "- badges: true\r\n",
        "- comments: true\r\n",
        "- author: Austin Chen\r\n",
        "- categories: [machine learning, vision]"
      ]
    },
    {
      "cell_type": "markdown",
      "metadata": {
        "id": "iuLBXeRjd8wU"
      },
      "source": [
        "## 1% Better Everyday\r\n",
        "- [K-Means Clustering for Imagery Analysis\r\n",
        "](https://goodboychan.github.io/python/machine_learning/natural_language_processing/vision/2020/10/26/01-K-Means-Clustering-for-Imagery-Analysis.html)\r\n",
        "- Debug why the accuray looks abnormal. Suspecting that something I did not add in the `get_label2cluster()`"
      ]
    },
    {
      "cell_type": "code",
      "metadata": {
        "id": "w4bn0pNeE0Rz"
      },
      "source": [
        "%matplotlib inline\r\n",
        "\r\n",
        "import sys\r\n",
        "import sklearn\r\n",
        "import numpy as np\r\n",
        "import matplotlib.pyplot as plt\r\n",
        "\r\n",
        "import tensorflow as tf"
      ],
      "execution_count": 5,
      "outputs": []
    },
    {
      "cell_type": "markdown",
      "metadata": {
        "id": "XSUbCCqfFuMZ"
      },
      "source": [
        "## Load Datasets\r\n",
        "\r\n",
        "To be quick, I will load the Fashion MNIST from TensorFlow Keras library, which is often used as the \"Hello World\" of machine learning programs for computer vision.\r\n"
      ]
    },
    {
      "cell_type": "code",
      "metadata": {
        "colab": {
          "base_uri": "https://localhost:8080/"
        },
        "id": "N2XBqxEHHHLq",
        "outputId": "689a55a2-8c10-44b1-d4ce-0197df9d0eb5"
      },
      "source": [
        "#fashion_mnist = tf.keras.datasets.fashion_mnist\r\n",
        "#(train_x, train_y), (test_x, test_y) = fashion_mnist.load_data()\r\n",
        "\r\n",
        "mnist = tf.keras.datasets.mnist\r\n",
        "(train_x, train_y), (test_x, test_y) = mnist.load_data()"
      ],
      "execution_count": 133,
      "outputs": [
        {
          "output_type": "stream",
          "text": [
            "Downloading data from https://storage.googleapis.com/tensorflow/tf-keras-datasets/mnist.npz\n",
            "11493376/11490434 [==============================] - 0s 0us/step\n"
          ],
          "name": "stdout"
        }
      ]
    },
    {
      "cell_type": "code",
      "metadata": {
        "id": "MNx5kE9nIjfC"
      },
      "source": [
        "CLASSES = ['T-shirt/top', 'Trouser', 'Pullover', 'Dress', 'Coat',\r\n",
        "               'Sandal', 'Shirt', 'Sneaker', 'Bag', 'Ankle boot']\r\n",
        "NCLASSES = len(CLASSES)\r\n",
        "class2label = {i:c for i,c in enumerate(CLASSES)}"
      ],
      "execution_count": 27,
      "outputs": []
    },
    {
      "cell_type": "code",
      "metadata": {
        "colab": {
          "base_uri": "https://localhost:8080/"
        },
        "id": "vnRmRTbUHsBZ",
        "outputId": "3a57c9cc-9ce2-423b-f507-dd7334130e82"
      },
      "source": [
        "print(f\"Training: {train_x.shape}\")\r\n",
        "print(f\"Test: {test_x.shape}\")"
      ],
      "execution_count": 9,
      "outputs": [
        {
          "output_type": "stream",
          "text": [
            "Training: (60000, 28, 28)\n",
            "Test: (10000, 28, 28)\n"
          ],
          "name": "stdout"
        }
      ]
    },
    {
      "cell_type": "markdown",
      "metadata": {
        "id": "J6sps2gQH5xj"
      },
      "source": [
        "AS you can see, the dataset contains images of 28x28x1. Let's print some out and see what they look like."
      ]
    },
    {
      "cell_type": "code",
      "metadata": {
        "colab": {
          "base_uri": "https://localhost:8080/",
          "height": 699
        },
        "id": "pOqTPFjWHpyD",
        "outputId": "f244ac2b-c317-4c6e-a677-df63e16e67f3"
      },
      "source": [
        "fig,axs = plt.subplots(3,3,figsize=(12,12))\r\n",
        "plt.gray()\r\n",
        "\r\n",
        "for i,ax in enumerate(axs.flat):\r\n",
        "    ax.imshow(train_x[i])\r\n",
        "    ax.axis('off')\r\n",
        "    #ax.set_title(f'{class2label[train_y[i]]}')\r\n",
        "    ax.set_title(f'{train_y[i]}')"
      ],
      "execution_count": 134,
      "outputs": [
        {
          "output_type": "display_data",
          "data": {
            "image/png": "[encoded data removed]",
            "text/plain": [
              "<Figure size 864x864 with 9 Axes>"
            ]
          },
          "metadata": {
            "tags": [],
            "needs_background": "light"
          }
        }
      ]
    },
    {
      "cell_type": "markdown",
      "metadata": {
        "id": "Cih1LhtVIdNv"
      },
      "source": [
        "## Preprocessing"
      ]
    },
    {
      "cell_type": "markdown",
      "metadata": {
        "id": "ZGjPVo8SJbzy"
      },
      "source": [
        "### Reshape\r\n",
        "\r\n",
        "Images are formated as 2-dimensional `numpy` arrays. However, the K-means clustering algorithm provided by scikit-learn ingests 1-dimensional arrays; as a result, we will need to reshape each image or precisely wee need to `flatten` the data. \r\n",
        "\r\n",
        "Clustering algorithms almost always use 1-dimensional data. For example, if you were clustering a set of X, Y coordinates, each point would be passed to the clustering algorithm as a 1-dimensional array with a length of two (example: [2,4] or [-1, 4]). If you were using 3-dimensional data, the array would have a length of 3 (example: [2, 4, 1] or [-1, 4, 5]).\r\n",
        "\r\n",
        "Fashion MNIST contains images that are 28 by 28 pixels; as a result, they will have a length of 784 once we reshape them into a 1-dimensional array."
      ]
    },
    {
      "cell_type": "code",
      "metadata": {
        "id": "AQ0FrZJuJc4-"
      },
      "source": [
        "train_x = train_x.reshape(len(train_x), -1)"
      ],
      "execution_count": 135,
      "outputs": []
    },
    {
      "cell_type": "code",
      "metadata": {
        "colab": {
          "base_uri": "https://localhost:8080/"
        },
        "id": "gaCIVbPVMjhu",
        "outputId": "f6edc015-f115-4ec7-f787-0b5016bbb618"
      },
      "source": [
        "print(train_x.shape)"
      ],
      "execution_count": 136,
      "outputs": [
        {
          "output_type": "stream",
          "text": [
            "(60000, 784)\n"
          ],
          "name": "stdout"
        }
      ]
    },
    {
      "cell_type": "code",
      "metadata": {
        "id": "8wMpvOmsMtq6"
      },
      "source": [
        "train_x = train_x.astype(np.float32) / 255.0"
      ],
      "execution_count": 137,
      "outputs": []
    },
    {
      "cell_type": "markdown",
      "metadata": {
        "id": "s5F2WP8_MyWt"
      },
      "source": [
        "## Applying K-means Clustering\r\n",
        "Since the size of the MNIST dataset is quite large, we will use the **mini-batch** implementation of k-means clustering (`MiniBatchKMeans`) provided by scikit-learn. This will dramatically reduce the amount of time it takes to fit the algorithm to the data.\r\n",
        "\r\n",
        "Here, we just choose the `n_clusters` argument to the `n_digits`(the size of unique labels, in our case, 10), and set the default parameters in `MiniBatchKMeans`.\r\n",
        "\r\n",
        "And as you know that, K-means clustering is one of the unsupervised learning. That means it doesn't require any label to train."
      ]
    },
    {
      "cell_type": "code",
      "metadata": {
        "id": "KBaLAjShNCiJ"
      },
      "source": [
        "from sklearn.cluster import MiniBatchKMeans"
      ],
      "execution_count": 138,
      "outputs": []
    },
    {
      "cell_type": "code",
      "metadata": {
        "colab": {
          "base_uri": "https://localhost:8080/"
        },
        "id": "Omg_SKcFNLJQ",
        "outputId": "5f4768fa-80dc-4203-a355-bf0c6e12040a"
      },
      "source": [
        "kmeans = MiniBatchKMeans(n_clusters=NCLASSES)\r\n",
        "kmeans.fit(train_x)"
      ],
      "execution_count": 139,
      "outputs": [
        {
          "output_type": "execute_result",
          "data": {
            "text/plain": [
              "MiniBatchKMeans(batch_size=100, compute_labels=True, init='k-means++',\n",
              "                init_size=None, max_iter=100, max_no_improvement=10,\n",
              "                n_clusters=10, n_init=3, random_state=None,\n",
              "                reassignment_ratio=0.01, tol=0.0, verbose=0)"
            ]
          },
          "metadata": {
            "tags": []
          },
          "execution_count": 139
        }
      ]
    },
    {
      "cell_type": "code",
      "metadata": {
        "colab": {
          "base_uri": "https://localhost:8080/"
        },
        "id": "vUJtlgu0NyHN",
        "outputId": "5b619438-af3a-4b71-c0bd-bac9526d9a2b"
      },
      "source": [
        "kmeans.labels_"
      ],
      "execution_count": 140,
      "outputs": [
        {
          "output_type": "execute_result",
          "data": {
            "text/plain": [
              "array([7, 2, 0, ..., 7, 1, 7], dtype=int32)"
            ]
          },
          "metadata": {
            "tags": []
          },
          "execution_count": 140
        }
      ]
    },
    {
      "cell_type": "code",
      "metadata": {
        "colab": {
          "base_uri": "https://localhost:8080/"
        },
        "id": "vA006al6SPXW",
        "outputId": "0f4f5ce1-f3c9-43be-b32e-5bc37d702d61"
      },
      "source": [
        "NCLASSES"
      ],
      "execution_count": 141,
      "outputs": [
        {
          "output_type": "execute_result",
          "data": {
            "text/plain": [
              "10"
            ]
          },
          "metadata": {
            "tags": []
          },
          "execution_count": 141
        }
      ]
    },
    {
      "cell_type": "markdown",
      "metadata": {
        "id": "O4N85K3FOUBQ"
      },
      "source": [
        "> Important: These are not real label of each image. These are just group ids that the clustering models label for each input."
      ]
    },
    {
      "cell_type": "markdown",
      "metadata": {
        "id": "_07QWYJiOue1"
      },
      "source": [
        "To match group ids with actual labels, we can tackle this with following steps:\r\n",
        "- Combine each images in the same group\r\n",
        "- Check frequency distribution of actual labels (using `np.bincount`)\r\n",
        "- Find the most frequent label by `np.argmax` and set the label"
      ]
    },
    {
      "cell_type": "code",
      "metadata": {
        "id": "P5G5sJbISers"
      },
      "source": [
        "def get_label2cluster_mapper(kmeans, ground_trues):\r\n",
        "\r\n",
        "    label2cluster= {}\r\n",
        "\r\n",
        "    for i in range(kmeans.n_clusters):\r\n",
        "        indeces = np.where(kmeans.labels_ == i)\r\n",
        "        labels = ground_trues[indeces]\r\n",
        "\r\n",
        "        hist = (np.bincount(np.squeeze(labels)))\r\n",
        "\r\n",
        "        if np.argmax(hist) in label2cluster:\r\n",
        "            label2cluster[np.argmax(hist)].append(i)\r\n",
        "        else:\r\n",
        "            label2cluster[np.argmax(hist)] = [i]\r\n",
        "\r\n",
        "    return label2cluster"
      ],
      "execution_count": 142,
      "outputs": []
    },
    {
      "cell_type": "code",
      "metadata": {
        "id": "4IIy5i-aWgSX"
      },
      "source": [
        "def convert_cluster_to_label(clusters, mapper):\r\n",
        "    preds = np.zeros(len(clusters)).astype(np.uint8)\r\n",
        "    for i,cl in enumerate(clusters):\r\n",
        "        for k,v in mapper.items():\r\n",
        "            if cl in v: preds[i] = k\r\n",
        "    return preds"
      ],
      "execution_count": 143,
      "outputs": []
    },
    {
      "cell_type": "code",
      "metadata": {
        "colab": {
          "base_uri": "https://localhost:8080/"
        },
        "id": "UQHiwBntV5kB",
        "outputId": "71c3568c-2675-476c-cb01-469eca545364"
      },
      "source": [
        "label2cluster = get_label2cluster_mapper(kmeans, train_y)\r\n",
        "train_cl = kmeans.predict(train_x)\r\n",
        "preds = convert_cluster_to_label(train_cl, label2cluster)\r\n",
        "print(preds[:20])\r\n",
        "print(train_y[:20])"
      ],
      "execution_count": 144,
      "outputs": [
        {
          "output_type": "stream",
          "text": [
            "[8 0 4 1 7 8 1 8 1 7 3 1 3 6 1 7 2 8 6 1]\n",
            "[5 0 4 1 9 2 1 3 1 4 3 5 3 6 1 7 2 8 6 9]\n"
          ],
          "name": "stdout"
        }
      ]
    },
    {
      "cell_type": "code",
      "metadata": {
        "colab": {
          "base_uri": "https://localhost:8080/"
        },
        "id": "1YduasIES0ih",
        "outputId": "e4777579-e7f6-45c0-d8be-4030560c7d47"
      },
      "source": [
        "print(f\"Accuracy : {sum(preds == train_y)/len(preds) * 100}%\")"
      ],
      "execution_count": 145,
      "outputs": [
        {
          "output_type": "stream",
          "text": [
            "Accuracy : 56.015%\n"
          ],
          "name": "stdout"
        }
      ]
    },
    {
      "cell_type": "markdown",
      "metadata": {
        "id": "oWb0fry1RcKV"
      },
      "source": [
        "As a result, some predicted label is mismatched, but in general k-means clustering does an acceptable jobs of predicting labels."
      ]
    },
    {
      "cell_type": "markdown",
      "metadata": {
        "id": "455o_-4QSLSf"
      },
      "source": [
        "## Evaluating Clustering \r\n",
        "\r\n",
        "With the functions defined above, we can now determine the accuracy of our algorithms. Since we are using this clustering algorithm for classification, accuracy is ultimately the most important metric; however, there are other metrics out there that can be applied directly to the clusters themselves, regardless of the associated labels. Two of these metrics that we will use are **inertia** and **homogeneity**. (See the detailed description of [homogeneity_score](https://scikit-learn.org/stable/modules/generated/sklearn.metrics.homogeneity_score.html))\r\n",
        "\r\n",
        "Furthermore, earlier we made the assumption that K = 10 was the appropriate number of clusters; however, this might not be the case. Let's fit the K-means clustering algorithm with several different values of K, than evaluate the performance using our metrics.\r\n",
        "\r\n"
      ]
    },
    {
      "cell_type": "code",
      "metadata": {
        "id": "QFtYC7ZJcTFL"
      },
      "source": [
        "from sklearn.metrics import homogeneity_score\r\n",
        "\r\n",
        "def calc_metrics(estimator, data, labels):\r\n",
        "    print('Number of Clusters: {}'.format(estimator.n_clusters))\r\n",
        "    # Inertia\r\n",
        "    inertia = estimator.inertia_\r\n",
        "    print(\"Inertia: {}\".format(inertia))\r\n",
        "    # Homogeneity Score\r\n",
        "    homogeneity = homogeneity_score(labels, estimator.labels_)\r\n",
        "    print(\"Homogeneity score: {}\".format(homogeneity))\r\n",
        "    return inertia, homogeneity"
      ],
      "execution_count": 146,
      "outputs": []
    },
    {
      "cell_type": "code",
      "metadata": {
        "colab": {
          "base_uri": "https://localhost:8080/"
        },
        "id": "XzWEXVrTcbhE",
        "outputId": "517b6a76-1b24-4ffd-abcc-2f685926f2e3"
      },
      "source": [
        "from sklearn.metrics import accuracy_score\r\n",
        "\r\n",
        "clusters = [10, 16, 36, 64, 144, 256]\r\n",
        "iner_list = []\r\n",
        "homo_list = []\r\n",
        "acc_list = []\r\n",
        "\r\n",
        "for n_clusters in clusters:\r\n",
        "    estimator = MiniBatchKMeans(n_clusters=n_clusters)\r\n",
        "    estimator.fit(train_x)\r\n",
        "    \r\n",
        "    inertia, homo = calc_metrics(estimator, train_x, train_y)\r\n",
        "    iner_list.append(inertia)\r\n",
        "    homo_list.append(homo)\r\n",
        "    \r\n",
        "    # Determine predicted labels\r\n",
        "    labels2cluster = get_label2cluster_mapper(estimator, train_y)\r\n",
        "    preds = convert_cluster_to_label(estimator.labels_, label2cluster)\r\n",
        "    \r\n",
        "    acc = accuracy_score(train_y, preds)\r\n",
        "    acc_list.append(acc)\r\n",
        "    print('Accuracy: {}\\n'.format(acc))"
      ],
      "execution_count": 147,
      "outputs": [
        {
          "output_type": "stream",
          "text": [
            "Number of Clusters: 10\n",
            "Inertia: 2374295.5\n",
            "Homogeneity score: 0.47531735445630136\n",
            "Accuracy: 0.058133333333333335\n",
            "\n",
            "Number of Clusters: 16\n",
            "Inertia: 2233699.5\n",
            "Homogeneity score: 0.5342048472152641\n",
            "Accuracy: 0.13905\n",
            "\n",
            "Number of Clusters: 36\n",
            "Inertia: 1958344.25\n",
            "Homogeneity score: 0.6801597667242121\n",
            "Accuracy: 0.1241\n",
            "\n",
            "Number of Clusters: 64\n",
            "Inertia: 1816912.875\n",
            "Homogeneity score: 0.7365330512499944\n",
            "Accuracy: 0.10248333333333333\n",
            "\n",
            "Number of Clusters: 144\n",
            "Inertia: 1633745.875\n",
            "Homogeneity score: 0.7982088109533748\n",
            "Accuracy: 0.10348333333333333\n",
            "\n",
            "Number of Clusters: 256\n",
            "Inertia: 1517294.5\n",
            "Homogeneity score: 0.8384997758424939\n",
            "Accuracy: 0.095\n",
            "\n"
          ],
          "name": "stdout"
        }
      ]
    }
  ]
}