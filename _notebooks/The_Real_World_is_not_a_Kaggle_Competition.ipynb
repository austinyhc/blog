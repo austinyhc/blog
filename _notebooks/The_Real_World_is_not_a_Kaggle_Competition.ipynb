{
  "nbformat": 4,
  "nbformat_minor": 0,
  "metadata": {
    "colab": {
      "name": "The_Real_World_is_not_a_Kaggle_Competition",
      "provenance": [],
      "authorship_tag": "ABX9TyNNM/q5Hm9RDEosety27jy7"
    },
    "kernelspec": {
      "name": "python3",
      "display_name": "Python 3"
    }
  },
  "cells": [
    {
      "cell_type": "markdown",
      "metadata": {
        "id": "5rs8Sn1vKoc6"
      },
      "source": [
        "# The Real World is not a Kaggle Competition\r\n",
        "> 1% Better Everyday\r\n",
        "\r\n",
        "- toc: true\r\n",
        "- badges: true\r\n",
        "- categories: [deep learning]\r\n"
      ]
    },
    {
      "cell_type": "markdown",
      "metadata": {
        "id": "m21YzspqNrGy"
      },
      "source": [
        "## Outline\r\n",
        "- introduction\r\n",
        "- over-engineering\r\n",
        "- the best performance \r\n",
        "- be mindful of your surroundings\r\n",
        "- the trade-off\r\n",
        "- getting it just right\r\n",
        "- minimalism\r\n",
        "\r\n",
        "---\r\n",
        "## Sunoud Collection from my Mind\r\n",
        "\r\n",
        "- to me Kaggle competetion is only a part of a real-lift data science project. In real life there are multiple other aspects that Kaggle doesn't touch on. Kagggle is a perfect platform for hosting and learning specific skills, but a real-life science problems are usually much bigger challengesfso the distinction is worth making."
      ]
    },
    {
      "cell_type": "markdown",
      "metadata": {
        "id": "6Q6tOprvRtTQ"
      },
      "source": [
        "> Note: Draft 1\r\n",
        "- In my experience, the most challenging part is to convince the Business Users (Board of Directors and other C-level executives) and merchants to follow through your solution. You really need to have a data backed strong analysis result to persuade them that your solution is indeed better than their business acumen, which they have inculcated over the years. And in such a scenario, `black-box` type models involving cool `stacking and blending` which is used to climb up the leader-board, often fail. Business Users can get quite defensive and be reluctant to take ahead your analysis, just because it achieves 95% accuracy! So most of the time, what your want is a `white-box` algorithm with a reasonable accuracy, say 90%, is easy to follow and explainable in business terms."
      ]
    },
    {
      "cell_type": "markdown",
      "metadata": {
        "id": "UD3M4cPqTaJ0"
      },
      "source": [
        "> Note: Draft 2 for `over-engineering`\r\n",
        "- To give a concrete example, let's follow through the Promotion Effectiveness Analysis which is a classic problem for any Retailer. Usually what htey want out of the exercise is some way to quantify the effectiveness of Promotion X which they ran and a list of products which are likely to perform well under it. Now let's assume two data scientist are given with this task. You being a pro in Kaggle, use a lot of `ensembling`, `blending and stacking` and now the new trend of incorporating `data leaks` and other cool hacks up your sleeve to make your model most accurate in terms of perdicting which products are expected to perform well under Promotion X. But you should mentally prepare yourself before hand, for you might be turned down by the Business because these usually influence million-dollar decisions and they have a hard time relying on a `black-box`!"
      ]
    },
    {
      "cell_type": "markdown",
      "metadata": {
        "id": "Fb4ElcBOLCc_"
      },
      "source": [
        "# Introduction\r\n",
        "Machine Learning and Deep Learning are evolving at a faster pace than ever since early 2010s."
      ]
    },
    {
      "cell_type": "markdown",
      "metadata": {
        "id": "NlkqgsqsVRbk"
      },
      "source": [
        "> Note: Draft 1 for `Introduction`, the `don't get me wrong tone` which is inspired by this {% raw %}Quora reply{% fn 1 %}\r\n",
        "- I am in no way undermining the capabiliteis you can develop by participanting in these excellent Data Science competitions. In fact, kaggle teaches you feature engineering really well! But what I want you know, is that these problems are subset of what you will face in real-life as a data scientist. There will be cases when you will benefit from all the cool hacks you learn in these platforms for a solution that doesn't require a peek into what's going on inside the bos. There will be some which will require you to discover, gain confidence and slowly move to black-box. The key is in understanding the situation, business problem at hand, expectation of stakeholders and some how balancing all these, yet rendering out a reasonable accuracy.\r\n",
        "\r\n",
        "{{ 'Quora: How similar are Kaggle competitions to what data scientists do? replied by Ria Chakraborty' | fndetail: 1}}\r\n",
        "\r\n"
      ]
    },
    {
      "cell_type": "markdown",
      "metadata": {
        "id": "knYGNA-FMBwU"
      },
      "source": [
        "# The Best Performance"
      ]
    },
    {
      "cell_type": "markdown",
      "metadata": {
        "id": "q2uCDC_CME3b"
      },
      "source": [
        "# Be Mindful of Your Surroundings"
      ]
    },
    {
      "cell_type": "markdown",
      "metadata": {
        "id": "nkcmH7BaMFDT"
      },
      "source": [
        "# The Trade-Off"
      ]
    },
    {
      "cell_type": "markdown",
      "metadata": {
        "id": "rI5zONW9MFMF"
      },
      "source": [
        "# Getting the Size Just Right"
      ]
    },
    {
      "cell_type": "markdown",
      "metadata": {
        "id": "kOjpPiNCMPtt"
      },
      "source": [
        "# Minimal Model"
      ]
    }
  ]
}