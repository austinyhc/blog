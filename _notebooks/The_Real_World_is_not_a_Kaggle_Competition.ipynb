{
  "nbformat": 4,
  "nbformat_minor": 0,
  "metadata": {
    "colab": {
      "name": "The_Real_World_is_not_a_Kaggle_Competition",
      "provenance": [],
      "authorship_tag": "ABX9TyPC+e2j9/82x+Hz9igOtz8R"
    },
    "kernelspec": {
      "name": "python3",
      "display_name": "Python 3"
    }
  },
  "cells": [
    {
      "cell_type": "markdown",
      "metadata": {
        "id": "5rs8Sn1vKoc6"
      },
      "source": [
        "# The Real World is not a Kaggle Competition\r\n",
        "> 1% Better Everyday\r\n",
        "\r\n",
        "- toc: true\r\n",
        "- badges: true\r\n",
        "- categories: [deep learning]\r\n"
      ]
    },
    {
      "cell_type": "markdown",
      "metadata": {
        "id": "m21YzspqNrGy"
      },
      "source": [
        "## Outline\r\n",
        "- introduction\r\n",
        "- the best performance \r\n",
        "- be mindful of your surroundings\r\n",
        "- the trade-off\r\n",
        "- getting it just right\r\n",
        "- minimalism\r\n",
        "\r\n",
        "---\r\n",
        "## Sunoud Collection from my Mind\r\n",
        "\r\n",
        "- to me Kaggle competetion is only a part of a real-lift data science project. In real life there are multiple other aspects that Kaggle doesn't touch on. Kagggle is a perfect platform for hosting and learning specific skills, but a real-life science problems are usually much bigger challengesfso the distinction is worth making."
      ]
    },
    {
      "cell_type": "markdown",
      "metadata": {
        "id": "Fb4ElcBOLCc_"
      },
      "source": [
        "# Introduction\r\n",
        "Machine Learning and Deep Learning are evolving at a faster pace than ever since early 2010s."
      ]
    },
    {
      "cell_type": "markdown",
      "metadata": {
        "id": "knYGNA-FMBwU"
      },
      "source": [
        "# The Best Performance"
      ]
    },
    {
      "cell_type": "markdown",
      "metadata": {
        "id": "q2uCDC_CME3b"
      },
      "source": [
        "# Be Mindful of Your Surroundings"
      ]
    },
    {
      "cell_type": "markdown",
      "metadata": {
        "id": "nkcmH7BaMFDT"
      },
      "source": [
        "# The Trade-Off"
      ]
    },
    {
      "cell_type": "markdown",
      "metadata": {
        "id": "rI5zONW9MFMF"
      },
      "source": [
        "# Getting the Size Just Right"
      ]
    },
    {
      "cell_type": "markdown",
      "metadata": {
        "id": "kOjpPiNCMPtt"
      },
      "source": [
        "# Minimal Model"
      ]
    }
  ]
}