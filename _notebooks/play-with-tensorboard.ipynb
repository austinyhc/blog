{
  "nbformat": 4,
  "nbformat_minor": 0,
  "metadata": {
    "colab": {
      "name": "play-with-tensorboard.ipynb",
      "provenance": [],
      "authorship_tag": "ABX9TyNJBael1ypPb86XGSA2kijy"
    },
    "kernelspec": {
      "name": "python3",
      "display_name": "Python 3"
    },
    "accelerator": "GPU"
  },
  "cells": [
    {
      "cell_type": "markdown",
      "metadata": {
        "id": "P8wEOtbOLpvK"
      },
      "source": [
        "# Play with TensorBoard\r\n",
        "> TensorBoard provides the visualization and tooling needed for machine learning experimentation:\r\n",
        "\r\n",
        "- toc: true\r\n",
        "- badges: true\r\n",
        "- author: Austin Chen\r\n",
        "- categories: [tensorboard]"
      ]
    }
  ]
}