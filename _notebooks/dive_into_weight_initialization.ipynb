{
  "nbformat": 4,
  "nbformat_minor": 0,
  "metadata": {
    "colab": {
      "name": "Dive-into-weight-initialization.ipynb",
      "provenance": [],
      "authorship_tag": "ABX9TyMIKbTSV+MJIA8tiy0p4HY0"
    },
    "kernelspec": {
      "name": "python3",
      "display_name": "Python 3"
    }
  },
  "cells": [
    {
      "cell_type": "markdown",
      "metadata": {
        "id": "Vl3ITptntOHF"
      },
      "source": [
        "# Dive into Weight Initialization\r\n",
        "> In short, it helps signals reach deep into the network.\r\n",
        "\r\n",
        "- toc: true\r\n",
        "- badges: true\r\n",
        "- categories: [deep learning]"
      ]
    },
    {
      "cell_type": "markdown",
      "metadata": {
        "id": "vzKLrZDEtZ2h"
      },
      "source": [
        "> Important: If the weights in a network start too small, then the signal shrinks as it passes through each layer until it’s too tiny to be useful. If the weights in a network start too large, then the signal grows as it passes through each layer until it’s too massive to be useful."
      ]
    },
    {
      "cell_type": "code",
      "metadata": {
        "id": "tlmPewpitoZB"
      },
      "source": [
        "imp"
      ],
      "execution_count": null,
      "outputs": []
    }
  ]
}