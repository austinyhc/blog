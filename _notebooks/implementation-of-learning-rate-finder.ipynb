{
  "nbformat": 4,
  "nbformat_minor": 0,
  "metadata": {
    "accelerator": "GPU",
    "colab": {
      "name": "LR_finder.ipynb",
      "provenance": [],
      "collapsed_sections": []
    },
    "kernelspec": {
      "display_name": "Python 3",
      "language": "python",
      "name": "python3"
    },
    "language_info": {
      "codemirror_mode": {
        "name": "ipython",
        "version": 3
      },
      "file_extension": ".py",
      "mimetype": "text/x-python",
      "name": "python",
      "nbconvert_exporter": "python",
      "pygments_lexer": "ipython3",
      "version": "3.8.2"
    }
  },
  "cells": [
    {
      "cell_type": "markdown",
      "metadata": {
        "id": "1_Qx6kG20ma6"
      },
      "source": [
        "# Learning Rate Finder\n",
        "> Approximate to the optimal learning rate quickly without costly searches\n",
        "\n",
        "- toc: true\n",
        "- badges: true\n",
        "- author: Austin Chen\n",
        "- categories: [optimizer,learning rate]"
      ]
    },
    {
      "cell_type": "markdown",
      "metadata": {
        "id": "Q6oIi80iZ6o-"
      },
      "source": [
        "The learning rate is arguably the most important hyperparameter that controls how much we are adjusting the weights of our network with respect to the loss gradient. It stands for how much a model can ***learn*** from a new mini-batch of training data. The higher the learning rate, the bigger the steps we take along the trajectory to the minimum of the loss function, where the best model parameters are.\r\n",
        "\r\n",
        "![](https://blog.dataiku.com/hs-fs/hubfs/dftt1.png?width=1200&name=dftt1.png)\r\n",
        "\r\n"
      ]
    },
    {
      "cell_type": "markdown",
      "metadata": {
        "id": "0eM29D7ZbfpS"
      },
      "source": [
        "## Why is it hard?\r\n",
        "\r\n",
        "The learning rate is a tricky hyperparameter to tune for a number of reasons:\r\n",
        "- In most cases, domain knowledge or previous studies are of little help, for a learning rate that worked well for one problem might not be even half as good for another, even a closely-related one.\r\n",
        "- Tuning learning rates via a grid search or a random search is typically costly, both in terms of time and computing power, especially for large networks.\r\n",
        "- The optimal learning rate is tightly coupled with other hyperparameters. Hence, each time your change the amount of regularization or the networks architecture, you should re-tune the learning rate.\r\n"
      ]
    },
    {
      "cell_type": "code",
      "metadata": {
        "colab": {
          "base_uri": "https://localhost:8080/"
        },
        "id": "Z_o5XFslTJ9L",
        "outputId": "b8eb18f6-c0b9-4c22-8f87-6aefa0c213a8"
      },
      "source": [
        "#collapse-hide\n",
        "import numpy as np\n",
        "import pandas as pd\n",
        "import seaborn as sns\n",
        "import albumentations as A\n",
        "import matplotlib.pyplot as plt\n",
        "import os, gc, cv2, random, warnings\n",
        "import math, sys, json, pprint, pdb\n",
        "\n",
        "import tensorflow as tf\n",
        "from tensorflow.keras import backend as K\n",
        "from tensorflow.keras.callbacks import Callback\n",
        "\n",
        "from sklearn.model_selection import train_test_split\n",
        "\n",
        "warnings.simplefilter('ignore')\n",
        "print(f\"Using TensorFlow v{tf.__version__}\")"
      ],
      "execution_count": 2,
      "outputs": [
        {
          "output_type": "stream",
          "text": [
            "Using TensorFlow v2.4.0\n"
          ],
          "name": "stdout"
        }
      ]
    },
    {
      "cell_type": "code",
      "metadata": {
        "cellView": "form",
        "colab": {
          "base_uri": "https://localhost:8080/"
        },
        "id": "vlxI1CWaTl6b",
        "outputId": "c2d3ea6c-f93f-4485-9c1f-146fa39c3120"
      },
      "source": [
        "#hide\n",
        "#@title Accelerator { run: \"auto\" }\n",
        "DEVICE = 'GPU' #@param [\"None\", \"'GPU'\", \"'TPU'\"] {type:\"raw\", allow-input: true}\n",
        "\n",
        "if DEVICE == \"TPU\":\n",
        "    print(\"connecting to TPU...\")\n",
        "    try:\n",
        "        tpu = tf.distribute.cluster_resolver.TPUClusterResolver()\n",
        "        print('Running on TPU ', tpu.master())\n",
        "    except ValueError:\n",
        "        print(\"Could not connect to TPU\")\n",
        "        tpu = None\n",
        "\n",
        "    if tpu:\n",
        "        try:\n",
        "            print(\"initializing  TPU ...\")\n",
        "            tf.config.experimental_connect_to_cluster(tpu)\n",
        "            tf.tpu.experimental.initialize_tpu_system(tpu)\n",
        "            strategy = tf.distribute.experimental.TPUStrategy(tpu)\n",
        "            print(\"TPU initialized\")\n",
        "        except _:\n",
        "            print(\"failed to initialize TPU\")\n",
        "    else:\n",
        "        DEVICE = \"GPU\"\n",
        "\n",
        "if DEVICE != \"TPU\":\n",
        "    print(\"Using default strategy for CPU and single GPU\")\n",
        "    strategy = tf.distribute.get_strategy()\n",
        "\n",
        "if DEVICE == \"GPU\":\n",
        "    print(\"Num GPUs Available: \", len(tf.config.experimental.list_physical_devices('GPU')))\n",
        "    \n",
        "\n",
        "AUTOTUNE = tf.data.experimental.AUTOTUNE\n",
        "REPLICAS = strategy.num_replicas_in_sync\n",
        "print(f'REPLICAS: {REPLICAS}')"
      ],
      "execution_count": 3,
      "outputs": [
        {
          "output_type": "stream",
          "text": [
            "Using default strategy for CPU and single GPU\n",
            "Num GPUs Available:  1\n",
            "REPLICAS: 1\n"
          ],
          "name": "stdout"
        }
      ]
    },
    {
      "cell_type": "code",
      "metadata": {
        "colab": {
          "base_uri": "https://localhost:8080/"
        },
        "id": "USNI6RorkYae",
        "outputId": "05fee3e5-6abf-4ff3-b022-857c335b45cd"
      },
      "source": [
        "#hide\n",
        "def seed_everything(seed=0):\n",
        "    random.seed(seed)\n",
        "    np.random.seed(seed)\n",
        "    tf.random.set_seed(seed)\n",
        "    os.environ['PYTHONHASHSEED'] = str(seed)\n",
        "    os.environ['TF_DETERMINISTIC_OPS'] = '1'\n",
        "\n",
        "GOOGLE = 'google.colab' in str(get_ipython())\n",
        "KAGGLE = not GOOGLE\n",
        "\n",
        "print(\"Running on {}!\".format(\n",
        "   \"Google Colab\" if GOOGLE else \"Kaggle Kernel\"\n",
        "))"
      ],
      "execution_count": 4,
      "outputs": [
        {
          "output_type": "stream",
          "text": [
            "Running on Google Colab!\n"
          ],
          "name": "stdout"
        }
      ]
    },
    {
      "cell_type": "code",
      "metadata": {
        "id": "6mVyHqfVU2sT"
      },
      "source": [
        "#hide\n",
        "SEED = 16\n",
        "seed_everything(SEED)"
      ],
      "execution_count": 5,
      "outputs": []
    },
    {
      "cell_type": "markdown",
      "metadata": {
        "id": "0V2hMyn6kg12"
      },
      "source": [
        "## Implement `LRFinder`"
      ]
    },
    {
      "cell_type": "code",
      "metadata": {
        "id": "p4jLm_M9cYNt"
      },
      "source": [
        "class MultiplicativeLearningRate(tf.keras.callbacks.Callback):\r\n",
        "    def __init__(self, factor):\r\n",
        "        self.factor = factor\r\n",
        "        self.losses = []\r\n",
        "        self.lrs = []\r\n",
        "\r\n",
        "    def on_train_batch_end(self, batch, logs):\r\n",
        "        self.lrs.append(K.get_value(self.model.optimizer.lr))\r\n",
        "        self.losses.append(logs[\"loss\"])\r\n",
        "        K.set_value(self.model.optimizer.lr, self.model.optimizer.lr*self.factor)"
      ],
      "execution_count": 6,
      "outputs": []
    },
    {
      "cell_type": "code",
      "metadata": {
        "id": "MEHrHPFgdWuR",
        "outputId": "ba0b8df5-66f7-4358-96bf-25962a67d481",
        "colab": {
          "base_uri": "https://localhost:8080/",
          "height": 281
        }
      },
      "source": [
        "min_lr = 1e-6\r\n",
        "max_lr = 1e1\r\n",
        "num_iter = 1000\r\n",
        "\r\n",
        "lr_factor = np.exp(np.log(max_lr / min_lr) / num_iter)\r\n",
        "lrs = [min_lr * (lr_factor)**i for i in range(num_iter)]\r\n",
        "\r\n",
        "fig,axs = plt.subplots(1,2,figsize=(12,4),facecolor=\"#F0F0F0\")\r\n",
        "axs[0].plot(lrs)\r\n",
        "axs[0].set_yscale(\"log\")\r\n",
        "axs[0].set_ylabel(\"learning rate\")\r\n",
        "axs[0].set_xlabel(\"iteration\")\r\n",
        "\r\n",
        "axs[1].plot(lrs)\r\n",
        "axs[1].set_ylabel(\"learning rate\")\r\n",
        "axs[1].set_xlabel(\"iteration\")"
      ],
      "execution_count": 7,
      "outputs": [
        {
          "output_type": "execute_result",
          "data": {
            "text/plain": [
              "Text(0.5, 0, 'iteration')"
            ]
          },
          "metadata": {
            "tags": []
          },
          "execution_count": 7
        },
        {
          "output_type": "display_data",
          "data": {
            "image/png": "[encoded data removed]",
            "text/plain": [
              "<Figure size 864x288 with 2 Axes>"
            ]
          },
          "metadata": {
            "tags": []
          }
        }
      ]
    },
    {
      "cell_type": "code",
      "metadata": {
        "id": "I6nkqhPkeWj0"
      },
      "source": [
        "def find_lr(model, x, y, batch_size, min_lr=1e-6, max_lr=1e1):\r\n",
        "    num_iter = len(x) // batch_size\r\n",
        "    lr_factor = np.exp(np.log(max_lr / min_lr) / num_iter)\r\n",
        "\r\n",
        "    K.set_value(model.optimizer.lr, min_lr)\r\n",
        "    lr_callback = MultiplicativeLearningRate(lr_factor)\r\n",
        "    lrs = [min_lr * (lr_factor)**i for i in range(num_iter)]\r\n"
      ],
      "execution_count": 8,
      "outputs": []
    },
    {
      "cell_type": "code",
      "metadata": {
        "id": "QzJTbVlaVx7F"
      },
      "source": [
        "class LRFinder(Callback):\n",
        "    \"\"\"Callback that exponentially adjusts the learning rate after each\n",
        "    training batch between start_lr and end_lr for a maximum number of \n",
        "    batches: max_step. The loss and learning rate are recorded at each\n",
        "    step allowing visually finding a good learning rate as per \n",
        "    https://sgugger.github.io/how-do-you-find-a-good-learning-rate.html\n",
        "    via the plot method.\n",
        "    \"\"\"\n",
        "\n",
        "    def __init__(self, start_lr: float = 1e-7, end_lr: float = 10,\n",
        "                 max_steps: int = 100, smoothing=0.9):\n",
        "        super(LRFinder, self).__init__()\n",
        "        self.start_lr, self.end_lr = start_lr, end_lr\n",
        "        self.max_steps = max_steps\n",
        "        self.smoothing = smoothing\n",
        "        self.step, self.best_loss, self.avg_loss, self.lr = 0, 0, 0, 0\n",
        "        self.lrs, self.losses = [], []\n",
        "\n",
        "    def on_train_begin(self, logs=None):\n",
        "        self.step, self.best_loss, self.avg_loss, self.lr = 0, 0, 0, 0\n",
        "        self.lrs, self.losses = [], []\n",
        "\n",
        "    def on_train_batch_begin(self, batch, logs=None):\n",
        "        self.lr = self.exp_annealing(self.step)\n",
        "        tf.keras.backend.set_value(self.model.optimizer.lr, self.lr)\n",
        "\n",
        "    def on_train_batch_end(self, batch, logs=None):\n",
        "        logs = logs or {}\n",
        "        loss = logs.get('loss')\n",
        "        step = self.step\n",
        "        if loss:\n",
        "            self.avg_loss = self.smoothing * self.avg_loss + (1 - self.smoothing) * loss\n",
        "            smooth_loss = self.avg_loss / (1 - self.smoothing ** (self.step + 1))\n",
        "            self.losses.append(smooth_loss)\n",
        "            self.lrs.append(self.lr)\n",
        "\n",
        "            if step == 0 or loss < self.best_loss:\n",
        "                self.best_loss = loss\n",
        "\n",
        "            if smooth_loss > 4 * self.best_loss or tf.math.is_nan(smooth_loss):\n",
        "                self.model.stop_training = True\n",
        "\n",
        "        if step == self.max_steps:\n",
        "            self.model.stop_training = True\n",
        "\n",
        "        self.step += 1\n",
        "\n",
        "    def exp_annealing(self, step):\n",
        "        return self.start_lr * (self.end_lr / self.start_lr) ** (step * 1. / self.max_steps)\n",
        "\n",
        "    def plot(self):\n",
        "        fig, ax = plt.subplots(1,1,facecolor=\"#F0F0F0\")\n",
        "        ax.set_ylabel('Loss')\n",
        "        ax.set_xlabel('Learning Rate')\n",
        "        ax.set_xscale('log')\n",
        "        ax.xaxis.set_major_formatter(plt.FormatStrFormatter('%.0e'))\n",
        "        ax.plot(self.lrs, self.losses)"
      ],
      "execution_count": null,
      "outputs": []
    },
    {
      "cell_type": "markdown",
      "metadata": {
        "id": "p7kBRUNgk3JH"
      },
      "source": [
        "## Load MNIST dataset"
      ]
    },
    {
      "cell_type": "code",
      "metadata": {
        "colab": {
          "base_uri": "https://localhost:8080/"
        },
        "id": "mbOsSTtykx_2",
        "outputId": "830f1a9f-6430-4d7d-c645-e9dae9ccddae"
      },
      "source": [
        "(x_train, y_train), (x_test, y_test) = tf.keras.datasets.mnist.load_data()\n",
        "print(x_train.shape, x_test.shape, y_train.shape, y_test.shape)"
      ],
      "execution_count": null,
      "outputs": [
        {
          "output_type": "stream",
          "text": [
            "(60000, 28, 28) (10000, 28, 28) (60000,) (10000,)\n"
          ],
          "name": "stdout"
        }
      ]
    },
    {
      "cell_type": "markdown",
      "metadata": {
        "id": "KU4y3jjuk8o5"
      },
      "source": [
        "## Pre-processing"
      ]
    },
    {
      "cell_type": "code",
      "metadata": {
        "id": "hCISrc_Kk53w"
      },
      "source": [
        "IMG_SIZE = (28, 28, 1)\n",
        "NCLASSES = 10"
      ],
      "execution_count": null,
      "outputs": []
    },
    {
      "cell_type": "code",
      "metadata": {
        "colab": {
          "base_uri": "https://localhost:8080/"
        },
        "id": "2kbCynM4XSy3",
        "outputId": "4a6cb787-9afd-4e21-9945-a76aef62eeab"
      },
      "source": [
        "x_train = np.expand_dims(x_train.astype('float32') / 255.0, axis=-1)\n",
        "x_test = np.expand_dims(x_test.astype('float32') / 255.0, axis=-1)\n",
        "\n",
        "print('x_train shape:', x_train.shape)\n",
        "print('x_test shape:', x_test.shape)"
      ],
      "execution_count": null,
      "outputs": [
        {
          "output_type": "stream",
          "text": [
            "x_train shape: (60000, 28, 28, 1)\n",
            "x_test shape: (10000, 28, 28, 1)\n"
          ],
          "name": "stdout"
        }
      ]
    },
    {
      "cell_type": "code",
      "metadata": {
        "colab": {
          "base_uri": "https://localhost:8080/"
        },
        "id": "flP1Z5CkX4MY",
        "outputId": "4c552e1c-8bc5-493e-c4eb-93421ee79cf5"
      },
      "source": [
        "y_train = tf.keras.utils.to_categorical(y_train, NCLASSES)\n",
        "y_test = tf.keras.utils.to_categorical(y_test, NCLASSES)\n",
        "\n",
        "print('y_train shape:', y_train.shape)\n",
        "print('y_test shape:', y_test.shape)"
      ],
      "execution_count": null,
      "outputs": [
        {
          "output_type": "stream",
          "text": [
            "y_train shape: (60000, 10)\n",
            "y_test shape: (10000, 10)\n"
          ],
          "name": "stdout"
        }
      ]
    },
    {
      "cell_type": "markdown",
      "metadata": {
        "id": "9LaVpvIllMhK"
      },
      "source": [
        "## Build a model"
      ]
    },
    {
      "cell_type": "code",
      "metadata": {
        "id": "taz8OZ52lIT0"
      },
      "source": [
        "def build_simple_model(input_shape, lr=None):\n",
        "    model = tf.keras.models.Sequential()\n",
        "    model.add(tf.keras.layers.Conv2D(32, (3, 3), activation='relu',\n",
        "                                     input_shape=input_shape))\n",
        "    model.add(tf.keras.layers.Conv2D(64, (3, 3), activation='relu'))\n",
        "    model.add(tf.keras.layers.MaxPooling2D(pool_size=(2, 2)))\n",
        "    model.add(tf.keras.layers.Dropout(0.25))\n",
        "    model.add(tf.keras.layers.Flatten())\n",
        "    model.add(tf.keras.layers.Dense(128, activation='relu'))\n",
        "    model.add(tf.keras.layers.Dropout(0.5))\n",
        "    model.add(tf.keras.layers.Dense(10, activation='softmax'))\n",
        "    \n",
        "    opt = tf.keras.optimizers.Adam(learning_rate=lr if lr else 1e-3)\n",
        "\n",
        "    model.compile(loss='categorical_crossentropy',\n",
        "                  optimizer=opt,\n",
        "                  metrics=['accuracy'])\n",
        "    return model"
      ],
      "execution_count": null,
      "outputs": []
    },
    {
      "cell_type": "code",
      "metadata": {
        "id": "DOYCWJDulQEN"
      },
      "source": [
        "BATCH_SIZE = 32\n",
        "EPOCHS = 6\n",
        "STEPS = len(x_train) // BATCH_SIZE"
      ],
      "execution_count": null,
      "outputs": []
    },
    {
      "cell_type": "markdown",
      "metadata": {
        "id": "AJbBP3mPlZaU"
      },
      "source": [
        "## Train without finding optimal lr\n",
        "\n",
        "Let us train our model without searching for an optimal learning rate. We will be using the default learning rate for the optimizer"
      ]
    },
    {
      "cell_type": "code",
      "metadata": {
        "colab": {
          "base_uri": "https://localhost:8080/"
        },
        "id": "2J7l7avmlSX_",
        "outputId": "cc145e7d-cc73-48dd-ef95-9f0aa73804cb"
      },
      "source": [
        "model = build_simple_model(IMG_SIZE)\n",
        "model.fit(x_train, y_train, epochs=EPOCHS, batch_size=BATCH_SIZE)"
      ],
      "execution_count": null,
      "outputs": [
        {
          "output_type": "stream",
          "text": [
            "Epoch 1/6\n",
            "1875/1875 [==============================] - 7s 4ms/step - loss: 0.3609 - accuracy: 0.8875\n",
            "Epoch 2/6\n",
            "1875/1875 [==============================] - 7s 4ms/step - loss: 0.0859 - accuracy: 0.9743\n",
            "Epoch 3/6\n",
            "1875/1875 [==============================] - 7s 3ms/step - loss: 0.0551 - accuracy: 0.9825\n",
            "Epoch 4/6\n",
            "1875/1875 [==============================] - 6s 3ms/step - loss: 0.0504 - accuracy: 0.9844\n",
            "Epoch 5/6\n",
            "1875/1875 [==============================] - 6s 3ms/step - loss: 0.0398 - accuracy: 0.9878\n",
            "Epoch 6/6\n",
            "1875/1875 [==============================] - 6s 3ms/step - loss: 0.0354 - accuracy: 0.9885\n"
          ],
          "name": "stdout"
        },
        {
          "output_type": "execute_result",
          "data": {
            "text/plain": [
              "<tensorflow.python.keras.callbacks.History at 0x7f01f217d978>"
            ]
          },
          "metadata": {
            "tags": []
          },
          "execution_count": 99
        }
      ]
    },
    {
      "cell_type": "code",
      "metadata": {
        "colab": {
          "base_uri": "https://localhost:8080/"
        },
        "id": "-Mvj7U77l2xR",
        "outputId": "671109af-101b-4341-a61a-201c35ab3ef1"
      },
      "source": [
        "score = model.evaluate(x_test, y_test, verbose=0,batch_size=BATCH_SIZE)\n",
        "print('Test loss:', score[0])\n",
        "print('Test accuracy:', score[1])"
      ],
      "execution_count": null,
      "outputs": [
        {
          "output_type": "stream",
          "text": [
            "Test loss: 0.03285309299826622\n",
            "Test accuracy: 0.9901000261306763\n"
          ],
          "name": "stdout"
        }
      ]
    },
    {
      "cell_type": "markdown",
      "metadata": {
        "id": "8LXE4MV4l5Vu"
      },
      "source": [
        "## Train with the optimal initial lr\n",
        "\n",
        "We will create an instance of the class we built above and pass it as a callback to our model. The LR finder is very cheap in terms of compute and it hardly takes an epoch or less to complete. We will keep the default values of `base_lr` and `max_lr` but you can change it if you want to. "
      ]
    },
    {
      "cell_type": "code",
      "metadata": {
        "colab": {
          "base_uri": "https://localhost:8080/"
        },
        "id": "vWQQprqWl2km",
        "outputId": "d0fb0caa-e353-4317-8167-79b9937759e0"
      },
      "source": [
        "lr_finder = LRFinder(max_steps=1000)\n",
        "model2 = build_simple_model(IMG_SIZE)\n",
        "_ = model2.fit(x_train, y_train, epochs=EPOCHS, \n",
        "               batch_size=BATCH_SIZE, verbose=0,\n",
        "               callbacks=[lr_finder])"
      ],
      "execution_count": null,
      "outputs": [
        {
          "output_type": "stream",
          "text": [
            "WARNING:tensorflow:Callback method `on_train_batch_end` is slow compared to the batch time (batch time: 0.0021s vs `on_train_batch_end` time: 0.0033s). Check your callbacks.\n"
          ],
          "name": "stdout"
        }
      ]
    },
    {
      "cell_type": "code",
      "metadata": {
        "colab": {
          "base_uri": "https://localhost:8080/",
          "height": 279
        },
        "id": "S6pPQZg6dB5U",
        "outputId": "c664bb77-3bad-4e61-b379-470735a36130"
      },
      "source": [
        "lr_finder.plot()"
      ],
      "execution_count": null,
      "outputs": [
        {
          "output_type": "display_data",
          "data": {
            "image/png": "[encoded data removed]",
            "text/plain": [
              "<Figure size 432x288 with 1 Axes>"
            ]
          },
          "metadata": {
            "tags": []
          }
        }
      ]
    },
    {
      "cell_type": "markdown",
      "metadata": {
        "id": "KXN9W9nen3hd"
      },
      "source": [
        "Let's train the model with the optimal lr found using LR finder"
      ]
    },
    {
      "cell_type": "code",
      "metadata": {
        "colab": {
          "base_uri": "https://localhost:8080/"
        },
        "id": "sTIDgExJl2Xy",
        "outputId": "25308394-75e8-4b8e-af04-baa51c0833ad"
      },
      "source": [
        "model3 = build_simple_model(IMG_SIZE, lr=3e-3)\n",
        "model3.fit(x_train, y_train, epochs=EPOCHS, batch_size=BATCH_SIZE)"
      ],
      "execution_count": null,
      "outputs": [
        {
          "output_type": "stream",
          "text": [
            "Epoch 1/6\n",
            "1875/1875 [==============================] - 7s 4ms/step - loss: 0.2942 - accuracy: 0.9101\n",
            "Epoch 2/6\n",
            "1875/1875 [==============================] - 6s 3ms/step - loss: 0.0943 - accuracy: 0.9716\n",
            "Epoch 3/6\n",
            "1875/1875 [==============================] - 6s 3ms/step - loss: 0.0697 - accuracy: 0.9793\n",
            "Epoch 4/6\n",
            "1875/1875 [==============================] - 7s 3ms/step - loss: 0.0616 - accuracy: 0.9808\n",
            "Epoch 5/6\n",
            "1875/1875 [==============================] - 7s 3ms/step - loss: 0.0510 - accuracy: 0.9843\n",
            "Epoch 6/6\n",
            "1875/1875 [==============================] - 7s 3ms/step - loss: 0.0519 - accuracy: 0.9849\n"
          ],
          "name": "stdout"
        },
        {
          "output_type": "execute_result",
          "data": {
            "text/plain": [
              "<tensorflow.python.keras.callbacks.History at 0x7f01f212f908>"
            ]
          },
          "metadata": {
            "tags": []
          },
          "execution_count": 103
        }
      ]
    },
    {
      "cell_type": "code",
      "metadata": {
        "colab": {
          "base_uri": "https://localhost:8080/"
        },
        "id": "DI_6TnuXl2JL",
        "outputId": "22df3cbe-0549-46aa-d00b-19380be52f2d"
      },
      "source": [
        "# Evaluate\n",
        "score = model3.evaluate(x_test, y_test, verbose=0, batch_size=BATCH_SIZE)\n",
        "print('Test loss:', score[0])\n",
        "print('Test accuracy:', score[1])"
      ],
      "execution_count": null,
      "outputs": [
        {
          "output_type": "stream",
          "text": [
            "Test loss: 0.029018929228186607\n",
            "Test accuracy: 0.9915000200271606\n"
          ],
          "name": "stdout"
        }
      ]
    },
    {
      "cell_type": "markdown",
      "metadata": {
        "id": "Hy7dmRe0zdC8"
      },
      "source": [
        "You can see that if we start with an optimal learning rate, we can coverge much faster. A good start always pays off! "
      ]
    },
    {
      "cell_type": "markdown",
      "metadata": {
        "id": "VDStmzqdn_U9"
      },
      "source": [
        "## Conclusion\n",
        "\n",
        "In this notebook, we saw how we can implement a simple `LR finder` in keras. Keras gives you the hooks to implement almost anything seamlessly. Before writing anything from scratch, you should always check how can you use a hook to implement it in Keras first."
      ]
    },
    {
      "cell_type": "markdown",
      "metadata": {
        "id": "oqc5hLWroAo7"
      },
      "source": [
        "## References\n",
        "* https://arxiv.org/abs/1708.07120\n",
        "* https://arxiv.org/abs/1506.01186\n",
        "* https://arxiv.org/abs/1803.09820\n",
        "* https://sgugger.github.io/how-do-you-find-a-good-learning-rate.html\n",
        "\n",
        "## 1% Better Everyday\n",
        "\n",
        "Maybe we don't really need to create a class for learning rate finder. Perhaps we can achieve the same goal by using the [`tf.keras.optimizers.schedules.ExponentialDecay`](https://www.tensorflow.org/api_docs/python/tf/keras/optimizers/schedules/ExponentialDecay) plus tensor board.\n",
        "\n",
        "- https://blog.dataiku.com/the-learning-rate-finder-technique-how-reliable-is-it\n",
        "- https://medium.com/octavian-ai/how-to-use-the-learning-rate-finder-in-tensorflow-126210de9489\n"
      ]
    }
  ]
}