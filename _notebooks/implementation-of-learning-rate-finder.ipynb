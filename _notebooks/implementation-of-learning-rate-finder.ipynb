{
  "nbformat": 4,
  "nbformat_minor": 0,
  "metadata": {
    "colab": {
      "name": "LR_finder.ipynb",
      "provenance": [],
      "collapsed_sections": []
    },
    "kernelspec": {
      "name": "python3",
      "display_name": "Python 3"
    },
    "accelerator": "GPU"
  },
  "cells": [
    {
      "cell_type": "markdown",
      "metadata": {
        "id": "1_Qx6kG20ma6"
      },
      "source": [
        "# Learning Rate Finder\r\n",
        "> Implementation of the LR Range test from Leslie Smith\r\n",
        "\r\n",
        "- toc: true\r\n",
        "- badges: true\r\n",
        "- author: Austin Chen\r\n",
        "- categories: [optimizer,learning rate]"
      ]
    },
    {
      "cell_type": "markdown",
      "metadata": {
        "id": "VCwX0LxbkItg"
      },
      "source": [
        "Learning rate finder plots lr vs loss relationship for a Learner. The idea is to reduce the amount of guesswork on picking a good starting learning rate.\n",
        "\n"
      ]
    },
    {
      "cell_type": "code",
      "metadata": {
        "id": "Z_o5XFslTJ9L",
        "outputId": "24b90d6e-4279-4878-94c6-2516383aef2f",
        "colab": {
          "base_uri": "https://localhost:8080/"
        }
      },
      "source": [
        "#collapse-hide\r\n",
        "import numpy as np\r\n",
        "import pandas as pd\r\n",
        "import seaborn as sns\r\n",
        "import albumentations as A\r\n",
        "import matplotlib.pyplot as plt\r\n",
        "import os, gc, cv2, random, warnings\r\n",
        "import math, sys, json, pprint, pdb\r\n",
        "\r\n",
        "import tensorflow as tf\r\n",
        "from tensorflow.keras import backend as K\r\n",
        "from tensorflow.keras.callbacks import Callback\r\n",
        "\r\n",
        "from sklearn.model_selection import train_test_split\r\n",
        "\r\n",
        "warnings.simplefilter('ignore')\r\n",
        "print(f\"Using TensorFlow v{tf.__version__}\")"
      ],
      "execution_count": 9,
      "outputs": [
        {
          "output_type": "stream",
          "text": [
            "Using TensorFlow v2.4.0\n"
          ],
          "name": "stdout"
        }
      ]
    },
    {
      "cell_type": "code",
      "metadata": {
        "cellView": "form",
        "id": "vlxI1CWaTl6b",
        "outputId": "e3be967c-dabb-4601-f815-11ed79274f40",
        "colab": {
          "base_uri": "https://localhost:8080/"
        }
      },
      "source": [
        "#hide\r\n",
        "#@title Accelerator { run: \"auto\" }\r\n",
        "DEVICE = 'GPU' #@param [\"None\", \"'GPU'\", \"'TPU'\"] {type:\"raw\", allow-input: true}\r\n",
        "\r\n",
        "if DEVICE == \"TPU\":\r\n",
        "    print(\"connecting to TPU...\")\r\n",
        "    try:\r\n",
        "        tpu = tf.distribute.cluster_resolver.TPUClusterResolver()\r\n",
        "        print('Running on TPU ', tpu.master())\r\n",
        "    except ValueError:\r\n",
        "        print(\"Could not connect to TPU\")\r\n",
        "        tpu = None\r\n",
        "\r\n",
        "    if tpu:\r\n",
        "        try:\r\n",
        "            print(\"initializing  TPU ...\")\r\n",
        "            tf.config.experimental_connect_to_cluster(tpu)\r\n",
        "            tf.tpu.experimental.initialize_tpu_system(tpu)\r\n",
        "            strategy = tf.distribute.experimental.TPUStrategy(tpu)\r\n",
        "            print(\"TPU initialized\")\r\n",
        "        except _:\r\n",
        "            print(\"failed to initialize TPU\")\r\n",
        "    else:\r\n",
        "        DEVICE = \"GPU\"\r\n",
        "\r\n",
        "if DEVICE != \"TPU\":\r\n",
        "    print(\"Using default strategy for CPU and single GPU\")\r\n",
        "    strategy = tf.distribute.get_strategy()\r\n",
        "\r\n",
        "if DEVICE == \"GPU\":\r\n",
        "    print(\"Num GPUs Available: \", len(tf.config.experimental.list_physical_devices('GPU')))\r\n",
        "    \r\n",
        "\r\n",
        "AUTOTUNE = tf.data.experimental.AUTOTUNE\r\n",
        "REPLICAS = strategy.num_replicas_in_sync\r\n",
        "print(f'REPLICAS: {REPLICAS}')"
      ],
      "execution_count": 4,
      "outputs": [
        {
          "output_type": "stream",
          "text": [
            "Using default strategy for CPU and single GPU\n",
            "Num GPUs Available:  1\n",
            "REPLICAS: 1\n"
          ],
          "name": "stdout"
        }
      ]
    },
    {
      "cell_type": "code",
      "metadata": {
        "id": "USNI6RorkYae",
        "outputId": "d5264266-7a77-4a4e-8fc2-ca81663f31fb",
        "colab": {
          "base_uri": "https://localhost:8080/"
        }
      },
      "source": [
        "#collapse-hide\n",
        "def seed_everything(seed=0):\n",
        "    random.seed(seed)\n",
        "    np.random.seed(seed)\n",
        "    tf.random.set_seed(seed)\n",
        "    os.environ['PYTHONHASHSEED'] = str(seed)\n",
        "    os.environ['TF_DETERMINISTIC_OPS'] = '1'\n",
        "\n",
        "GOOGLE = 'google.colab' in str(get_ipython())\n",
        "KAGGLE = not GOOGLE\n",
        "\n",
        "print(\"Running on {}!\".format(\n",
        "   \"Google Colab\" if GOOGLE else \"Kaggle Kernel\"\n",
        "))"
      ],
      "execution_count": 7,
      "outputs": [
        {
          "output_type": "stream",
          "text": [
            "Running on Google Colab!\n"
          ],
          "name": "stdout"
        }
      ]
    },
    {
      "cell_type": "code",
      "metadata": {
        "id": "6mVyHqfVU2sT"
      },
      "source": [
        "#hide\r\n",
        "SEED = 16\r\n",
        "seed_everything(SEED)"
      ],
      "execution_count": 8,
      "outputs": []
    },
    {
      "cell_type": "markdown",
      "metadata": {
        "id": "0V2hMyn6kg12"
      },
      "source": [
        "## Implement `LRFinder`"
      ]
    },
    {
      "cell_type": "code",
      "metadata": {
        "id": "QzJTbVlaVx7F"
      },
      "source": [
        "class LRFinder(Callback):\r\n",
        "    \"\"\"Callback that exponentially adjusts the learning rate after each\r\n",
        "    training batch between start_lr and end_lr for a maximum number of \r\n",
        "    batches: max_step. The loss and learning rate are recorded at each\r\n",
        "    step allowing visually finding a good learning rate as per \r\n",
        "    https://sgugger.github.io/how-do-you-find-a-good-learning-rate.html\r\n",
        "    via the plot method.\r\n",
        "    \"\"\"\r\n",
        "\r\n",
        "    def __init__(self, start_lr: float = 1e-7, end_lr: float = 10,\r\n",
        "                 max_steps: int = 100, smoothing=0.9):\r\n",
        "        super(LRFinder, self).__init__()\r\n",
        "        self.start_lr, self.end_lr = start_lr, end_lr\r\n",
        "        self.max_steps = max_steps\r\n",
        "        self.smoothing = smoothing\r\n",
        "        self.step, self.best_loss, self.avg_loss, self.lr = 0, 0, 0, 0\r\n",
        "        self.lrs, self.losses = [], []\r\n",
        "\r\n",
        "    def on_train_begin(self, logs=None):\r\n",
        "        self.step, self.best_loss, self.avg_loss, self.lr = 0, 0, 0, 0\r\n",
        "        self.lrs, self.losses = [], []\r\n",
        "\r\n",
        "    def on_train_batch_begin(self, batch, logs=None):\r\n",
        "        self.lr = self.exp_annealing(self.step)\r\n",
        "        tf.keras.backend.set_value(self.model.optimizer.lr, self.lr)\r\n",
        "\r\n",
        "    def on_train_batch_end(self, batch, logs=None):\r\n",
        "        logs = logs or {}\r\n",
        "        loss = logs.get('loss')\r\n",
        "        step = self.step\r\n",
        "        if loss:\r\n",
        "            self.avg_loss = self.smoothing * self.avg_loss + (1 - self.smoothing) * loss\r\n",
        "            smooth_loss = self.avg_loss / (1 - self.smoothing ** (self.step + 1))\r\n",
        "            self.losses.append(smooth_loss)\r\n",
        "            self.lrs.append(self.lr)\r\n",
        "\r\n",
        "            if step == 0 or loss < self.best_loss:\r\n",
        "                self.best_loss = loss\r\n",
        "\r\n",
        "            if smooth_loss > 4 * self.best_loss or tf.math.is_nan(smooth_loss):\r\n",
        "                self.model.stop_training = True\r\n",
        "\r\n",
        "        if step == self.max_steps:\r\n",
        "            self.model.stop_training = True\r\n",
        "\r\n",
        "        self.step += 1\r\n",
        "\r\n",
        "    def exp_annealing(self, step):\r\n",
        "        return self.start_lr * (self.end_lr / self.start_lr) ** (step * 1. / self.max_steps)\r\n",
        "\r\n",
        "    def plot(self):\r\n",
        "        fig, ax = plt.subplots(1,1,facecolor=\"#F0F0F0\")\r\n",
        "        ax.set_ylabel('Loss')\r\n",
        "        ax.set_xlabel('Learning Rate')\r\n",
        "        ax.set_xscale('log')\r\n",
        "        ax.xaxis.set_major_formatter(plt.FormatStrFormatter('%.0e'))\r\n",
        "        ax.plot(self.lrs, self.losses)"
      ],
      "execution_count": 95,
      "outputs": []
    },
    {
      "cell_type": "markdown",
      "metadata": {
        "id": "p7kBRUNgk3JH"
      },
      "source": [
        "## Load MNIST dataset"
      ]
    },
    {
      "cell_type": "code",
      "metadata": {
        "id": "mbOsSTtykx_2",
        "outputId": "830f1a9f-6430-4d7d-c645-e9dae9ccddae",
        "colab": {
          "base_uri": "https://localhost:8080/"
        }
      },
      "source": [
        "(x_train, y_train), (x_test, y_test) = tf.keras.datasets.mnist.load_data()\n",
        "print(x_train.shape, x_test.shape, y_train.shape, y_test.shape)"
      ],
      "execution_count": 36,
      "outputs": [
        {
          "output_type": "stream",
          "text": [
            "(60000, 28, 28) (10000, 28, 28) (60000,) (10000,)\n"
          ],
          "name": "stdout"
        }
      ]
    },
    {
      "cell_type": "markdown",
      "metadata": {
        "id": "KU4y3jjuk8o5"
      },
      "source": [
        "## Pre-processing"
      ]
    },
    {
      "cell_type": "code",
      "metadata": {
        "id": "hCISrc_Kk53w"
      },
      "source": [
        "IMG_SIZE = (28, 28, 1)\n",
        "NCLASSES = 10"
      ],
      "execution_count": 37,
      "outputs": []
    },
    {
      "cell_type": "code",
      "metadata": {
        "id": "2kbCynM4XSy3",
        "outputId": "4a6cb787-9afd-4e21-9945-a76aef62eeab",
        "colab": {
          "base_uri": "https://localhost:8080/"
        }
      },
      "source": [
        "x_train = np.expand_dims(x_train.astype('float32') / 255.0, axis=-1)\n",
        "x_test = np.expand_dims(x_test.astype('float32') / 255.0, axis=-1)\n",
        "\n",
        "print('x_train shape:', x_train.shape)\n",
        "print('x_test shape:', x_test.shape)"
      ],
      "execution_count": 38,
      "outputs": [
        {
          "output_type": "stream",
          "text": [
            "x_train shape: (60000, 28, 28, 1)\n",
            "x_test shape: (10000, 28, 28, 1)\n"
          ],
          "name": "stdout"
        }
      ]
    },
    {
      "cell_type": "code",
      "metadata": {
        "id": "flP1Z5CkX4MY",
        "outputId": "4c552e1c-8bc5-493e-c4eb-93421ee79cf5",
        "colab": {
          "base_uri": "https://localhost:8080/"
        }
      },
      "source": [
        "y_train = tf.keras.utils.to_categorical(y_train, NCLASSES)\n",
        "y_test = tf.keras.utils.to_categorical(y_test, NCLASSES)\n",
        "\n",
        "print('y_train shape:', y_train.shape)\n",
        "print('y_test shape:', y_test.shape)"
      ],
      "execution_count": 39,
      "outputs": [
        {
          "output_type": "stream",
          "text": [
            "y_train shape: (60000, 10)\n",
            "y_test shape: (10000, 10)\n"
          ],
          "name": "stdout"
        }
      ]
    },
    {
      "cell_type": "markdown",
      "metadata": {
        "id": "9LaVpvIllMhK"
      },
      "source": [
        "## Build a model"
      ]
    },
    {
      "cell_type": "code",
      "metadata": {
        "id": "taz8OZ52lIT0"
      },
      "source": [
        "def build_simple_model(input_shape, lr=None):\n",
        "    model = tf.keras.models.Sequential()\n",
        "    model.add(tf.keras.layers.Conv2D(32, (3, 3), activation='relu',\n",
        "                                     input_shape=input_shape))\n",
        "    model.add(tf.keras.layers.Conv2D(64, (3, 3), activation='relu'))\n",
        "    model.add(tf.keras.layers.MaxPooling2D(pool_size=(2, 2)))\n",
        "    model.add(tf.keras.layers.Dropout(0.25))\n",
        "    model.add(tf.keras.layers.Flatten())\n",
        "    model.add(tf.keras.layers.Dense(128, activation='relu'))\n",
        "    model.add(tf.keras.layers.Dropout(0.5))\n",
        "    model.add(tf.keras.layers.Dense(10, activation='softmax'))\n",
        "    \n",
        "    opt = tf.keras.optimizers.Adam(learning_rate=lr if lr else 1e-3)\n",
        "\n",
        "    model.compile(loss='categorical_crossentropy',\n",
        "                  optimizer=opt,\n",
        "                  metrics=['accuracy'])\n",
        "    return model"
      ],
      "execution_count": 96,
      "outputs": []
    },
    {
      "cell_type": "code",
      "metadata": {
        "id": "DOYCWJDulQEN"
      },
      "source": [
        "BATCH_SIZE = 32\n",
        "EPOCHS = 6\n",
        "STEPS = len(x_train) // BATCH_SIZE"
      ],
      "execution_count": 98,
      "outputs": []
    },
    {
      "cell_type": "markdown",
      "metadata": {
        "id": "AJbBP3mPlZaU"
      },
      "source": [
        "## Train without finding optimal lr\n",
        "\n",
        "Let us train our model without searching for an optimal learning rate. We will be using the default learning rate for the optimizer"
      ]
    },
    {
      "cell_type": "code",
      "metadata": {
        "id": "2J7l7avmlSX_",
        "colab": {
          "base_uri": "https://localhost:8080/"
        },
        "outputId": "cc145e7d-cc73-48dd-ef95-9f0aa73804cb"
      },
      "source": [
        "model = build_simple_model(IMG_SIZE)\n",
        "model.fit(x_train, y_train, epochs=EPOCHS, batch_size=BATCH_SIZE)"
      ],
      "execution_count": 99,
      "outputs": [
        {
          "output_type": "stream",
          "text": [
            "Epoch 1/6\n",
            "1875/1875 [==============================] - 7s 4ms/step - loss: 0.3609 - accuracy: 0.8875\n",
            "Epoch 2/6\n",
            "1875/1875 [==============================] - 7s 4ms/step - loss: 0.0859 - accuracy: 0.9743\n",
            "Epoch 3/6\n",
            "1875/1875 [==============================] - 7s 3ms/step - loss: 0.0551 - accuracy: 0.9825\n",
            "Epoch 4/6\n",
            "1875/1875 [==============================] - 6s 3ms/step - loss: 0.0504 - accuracy: 0.9844\n",
            "Epoch 5/6\n",
            "1875/1875 [==============================] - 6s 3ms/step - loss: 0.0398 - accuracy: 0.9878\n",
            "Epoch 6/6\n",
            "1875/1875 [==============================] - 6s 3ms/step - loss: 0.0354 - accuracy: 0.9885\n"
          ],
          "name": "stdout"
        },
        {
          "output_type": "execute_result",
          "data": {
            "text/plain": [
              "<tensorflow.python.keras.callbacks.History at 0x7f01f217d978>"
            ]
          },
          "metadata": {
            "tags": []
          },
          "execution_count": 99
        }
      ]
    },
    {
      "cell_type": "code",
      "metadata": {
        "id": "-Mvj7U77l2xR",
        "colab": {
          "base_uri": "https://localhost:8080/"
        },
        "outputId": "671109af-101b-4341-a61a-201c35ab3ef1"
      },
      "source": [
        "score = model.evaluate(x_test, y_test, verbose=0,batch_size=BATCH_SIZE)\n",
        "print('Test loss:', score[0])\n",
        "print('Test accuracy:', score[1])"
      ],
      "execution_count": 100,
      "outputs": [
        {
          "output_type": "stream",
          "text": [
            "Test loss: 0.03285309299826622\n",
            "Test accuracy: 0.9901000261306763\n"
          ],
          "name": "stdout"
        }
      ]
    },
    {
      "cell_type": "markdown",
      "metadata": {
        "id": "8LXE4MV4l5Vu"
      },
      "source": [
        "## Train with the optimal initial lr\n",
        "\n",
        "We will create an instance of the class we built above and pass it as a callback to our model. The LR finder is very cheap in terms of compute and it hardly takes an epoch or less to complete. We will keep the default values of `base_lr` and `max_lr` but you can change it if you want to. "
      ]
    },
    {
      "cell_type": "code",
      "metadata": {
        "id": "vWQQprqWl2km",
        "colab": {
          "base_uri": "https://localhost:8080/"
        },
        "outputId": "d0fb0caa-e353-4317-8167-79b9937759e0"
      },
      "source": [
        "lr_finder = LRFinder(max_steps=1000)\n",
        "model2 = build_simple_model(IMG_SIZE)\n",
        "_ = model2.fit(x_train, y_train, epochs=EPOCHS, \n",
        "               batch_size=BATCH_SIZE, verbose=0,\n",
        "               callbacks=[lr_finder])"
      ],
      "execution_count": 101,
      "outputs": [
        {
          "output_type": "stream",
          "text": [
            "WARNING:tensorflow:Callback method `on_train_batch_end` is slow compared to the batch time (batch time: 0.0021s vs `on_train_batch_end` time: 0.0033s). Check your callbacks.\n"
          ],
          "name": "stdout"
        }
      ]
    },
    {
      "cell_type": "code",
      "metadata": {
        "id": "S6pPQZg6dB5U",
        "outputId": "c664bb77-3bad-4e61-b379-470735a36130",
        "colab": {
          "base_uri": "https://localhost:8080/",
          "height": 279
        }
      },
      "source": [
        "lr_finder.plot()"
      ],
      "execution_count": 102,
      "outputs": [
        {
          "output_type": "display_data",
          "data": {
            "image/png": "[encoded data removed]",
            "text/plain": [
              "<Figure size 432x288 with 1 Axes>"
            ]
          },
          "metadata": {
            "tags": []
          }
        }
      ]
    },
    {
      "cell_type": "markdown",
      "metadata": {
        "id": "KXN9W9nen3hd"
      },
      "source": [
        "Let's train the model with the optimal lr found using LR finder"
      ]
    },
    {
      "cell_type": "code",
      "metadata": {
        "id": "sTIDgExJl2Xy",
        "outputId": "25308394-75e8-4b8e-af04-baa51c0833ad",
        "colab": {
          "base_uri": "https://localhost:8080/"
        }
      },
      "source": [
        "model3 = build_simple_model(IMG_SIZE, lr=3e-3)\n",
        "model3.fit(x_train, y_train, epochs=EPOCHS, batch_size=BATCH_SIZE)"
      ],
      "execution_count": 103,
      "outputs": [
        {
          "output_type": "stream",
          "text": [
            "Epoch 1/6\n",
            "1875/1875 [==============================] - 7s 4ms/step - loss: 0.2942 - accuracy: 0.9101\n",
            "Epoch 2/6\n",
            "1875/1875 [==============================] - 6s 3ms/step - loss: 0.0943 - accuracy: 0.9716\n",
            "Epoch 3/6\n",
            "1875/1875 [==============================] - 6s 3ms/step - loss: 0.0697 - accuracy: 0.9793\n",
            "Epoch 4/6\n",
            "1875/1875 [==============================] - 7s 3ms/step - loss: 0.0616 - accuracy: 0.9808\n",
            "Epoch 5/6\n",
            "1875/1875 [==============================] - 7s 3ms/step - loss: 0.0510 - accuracy: 0.9843\n",
            "Epoch 6/6\n",
            "1875/1875 [==============================] - 7s 3ms/step - loss: 0.0519 - accuracy: 0.9849\n"
          ],
          "name": "stdout"
        },
        {
          "output_type": "execute_result",
          "data": {
            "text/plain": [
              "<tensorflow.python.keras.callbacks.History at 0x7f01f212f908>"
            ]
          },
          "metadata": {
            "tags": []
          },
          "execution_count": 103
        }
      ]
    },
    {
      "cell_type": "code",
      "metadata": {
        "id": "DI_6TnuXl2JL",
        "colab": {
          "base_uri": "https://localhost:8080/"
        },
        "outputId": "22df3cbe-0549-46aa-d00b-19380be52f2d"
      },
      "source": [
        "# Evaluate\n",
        "score = model3.evaluate(x_test, y_test, verbose=0, batch_size=BATCH_SIZE)\n",
        "print('Test loss:', score[0])\n",
        "print('Test accuracy:', score[1])"
      ],
      "execution_count": 104,
      "outputs": [
        {
          "output_type": "stream",
          "text": [
            "Test loss: 0.029018929228186607\n",
            "Test accuracy: 0.9915000200271606\n"
          ],
          "name": "stdout"
        }
      ]
    },
    {
      "cell_type": "markdown",
      "metadata": {
        "id": "Hy7dmRe0zdC8"
      },
      "source": [
        "You can see that if we start with an optimal learning rate, we can coverge much faster. A good start always pays off! "
      ]
    },
    {
      "cell_type": "markdown",
      "metadata": {
        "id": "VDStmzqdn_U9"
      },
      "source": [
        "## Conclusion\n",
        "\n",
        "In this notebook, we saw how we can implement a simple `LR finder` in keras. Keras gives you the hooks to implement almost anything seamlessly. Before writing anything from scratch, you should always check how can you use a hook to implement it in Keras first."
      ]
    },
    {
      "cell_type": "markdown",
      "metadata": {
        "id": "oqc5hLWroAo7"
      },
      "source": [
        "## References\n",
        "* https://arxiv.org/abs/1708.07120\n",
        "* https://arxiv.org/abs/1506.01186\n",
        "* https://arxiv.org/abs/1803.09820\n",
        "* https://sgugger.github.io/how-do-you-find-a-good-learning-rate.html\n",
        "\n",
        "## 1% Better Everyday\n",
        "\n",
        "Maybe we don't really need to create a class for learning rate finder. Perhaps we can achieve the same goal by using the [`tf.keras.optimizers.schedules.ExponentialDecay`](https://www.tensorflow.org/api_docs/python/tf/keras/optimizers/schedules/ExponentialDecay) plus tensor board.\n",
        "\n",
        "- https://blog.dataiku.com/the-learning-rate-finder-technique-how-reliable-is-it\n",
        "- https://medium.com/octavian-ai/how-to-use-the-learning-rate-finder-in-tensorflow-126210de9489\n"
      ]
    }
  ]
}