{
  "nbformat": 4,
  "nbformat_minor": 0,
  "metadata": {
    "colab": {
      "name": "2021-03-17-K-Means-Clustering-for-Images.ipynb",
      "provenance": [],
      "authorship_tag": "ABX9TyOSaVQFyC9eAIoC4Xi9Ez5k"
    },
    "kernelspec": {
      "name": "python3",
      "display_name": "Python 3"
    }
  },
  "cells": [
    {
      "cell_type": "markdown",
      "metadata": {
        "id": "_JqrvCZoEY6s"
      },
      "source": [
        "# K-Means Clustering for Images\r\n",
        "> In this post, we will use a K-means algorithm to perform image classification. Clustering isn't limited to the consumer information and population sciences, it can be used for imagery analysis as well. Leveraging Scikit-learn and the MNIST dataset, we will investigate the use of K-means clustering for computer vision.\r\n",
        "\r\n",
        "- toc: true \r\n",
        "- badges: true\r\n",
        "- comments: true\r\n",
        "- author: Austin Chen\r\n",
        "- categories: [machine learning, vision]"
      ]
    },
    {
      "cell_type": "code",
      "metadata": {
        "id": "w4bn0pNeE0Rz"
      },
      "source": [
        "%matplotlib inline\r\n",
        "\r\n",
        "import sys\r\n",
        "import sklearn\r\n",
        "import numpy as np\r\n",
        "import matplotlib.pyplot as pl"
      ],
      "execution_count": 2,
      "outputs": []
    },
    {
      "cell_type": "code",
      "metadata": {
        "id": "XSUbCCqfFuMZ"
      },
      "source": [
        ""
      ],
      "execution_count": null,
      "outputs": []
    }
  ]
}